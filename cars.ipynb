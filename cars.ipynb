{
 "metadata": {
  "language_info": {
   "codemirror_mode": {
    "name": "ipython",
    "version": 3
   },
   "file_extension": ".py",
   "mimetype": "text/x-python",
   "name": "python",
   "nbconvert_exporter": "python",
   "pygments_lexer": "ipython3",
   "version": "3.8.5-final"
  },
  "orig_nbformat": 2,
  "kernelspec": {
   "name": "python3",
   "display_name": "Python 3",
   "language": "python"
  }
 },
 "nbformat": 4,
 "nbformat_minor": 2,
 "cells": [
  {
   "source": [
    "\n",
    "## Data investigation\n",
    "\n",
    "* Importing our libraries\n",
    "\n"
   ],
   "cell_type": "markdown",
   "metadata": {}
  },
  {
   "cell_type": "code",
   "execution_count": 1,
   "metadata": {},
   "outputs": [],
   "source": [
    "import pandas as pd \n",
    "import numpy as np \n",
    "import datetime as dt "
   ]
  },
  {
   "source": [
    "* Reading the dataset"
   ],
   "cell_type": "markdown",
   "metadata": {}
  },
  {
   "cell_type": "code",
   "execution_count": 2,
   "metadata": {},
   "outputs": [
    {
     "output_type": "execute_result",
     "data": {
      "text/plain": [
       "                              Address  Cars  Bluecar counter  Utilib counter  \\\n",
       "0                 2 Avenue de Suffren     0                0               0   \n",
       "1           145 Rue Raymond Losserand     6                6               0   \n",
       "2    2 Avenue John Fitzgerald Kennedy     3                3               0   \n",
       "3              51 Rue EugÃ¨ne OudinÃ©     3                3               1   \n",
       "4  6 avenue de la Porte de Champerret     3                3               0   \n",
       "\n",
       "   Utilib 1.4 counter  Charge Slots Charging Status        City  \\\n",
       "0                   0             0     nonexistent       Paris   \n",
       "1                   0             0     operational       Paris   \n",
       "2                   2             0     operational  Le Bourget   \n",
       "3                   0             1     operational       Paris   \n",
       "4                   0             0     nonexistent       Paris   \n",
       "\n",
       "  Displayed comment                                 ID  ... Scheduled at  \\\n",
       "0               NaN                    paris-suffren-2  ...          NaN   \n",
       "1               NaN         paris-raymondlosserand-145  ...          NaN   \n",
       "2               NaN  lebourget-johnfitzgeraldkennedy-2  ...          NaN   \n",
       "3               NaN              paris-eugeneoudine-51  ...          NaN   \n",
       "4               NaN          paris-portedechamperret-6  ...          NaN   \n",
       "\n",
       "  Slots  Station type Status Subscription status  year  month day hour minute  \n",
       "0     2       station     ok         nonexistent  2018      4   8   11     43  \n",
       "1     0       station     ok         nonexistent  2018      4   6    7     24  \n",
       "2     1       station     ok         nonexistent  2018      4   3   20     14  \n",
       "3     2       station     ok         nonexistent  2018      4   4    4     37  \n",
       "4     3       station     ok         nonexistent  2018      4   8   17     23  \n",
       "\n",
       "[5 rows x 25 columns]"
      ],
      "text/html": "<div>\n<style scoped>\n    .dataframe tbody tr th:only-of-type {\n        vertical-align: middle;\n    }\n\n    .dataframe tbody tr th {\n        vertical-align: top;\n    }\n\n    .dataframe thead th {\n        text-align: right;\n    }\n</style>\n<table border=\"1\" class=\"dataframe\">\n  <thead>\n    <tr style=\"text-align: right;\">\n      <th></th>\n      <th>Address</th>\n      <th>Cars</th>\n      <th>Bluecar counter</th>\n      <th>Utilib counter</th>\n      <th>Utilib 1.4 counter</th>\n      <th>Charge Slots</th>\n      <th>Charging Status</th>\n      <th>City</th>\n      <th>Displayed comment</th>\n      <th>ID</th>\n      <th>...</th>\n      <th>Scheduled at</th>\n      <th>Slots</th>\n      <th>Station type</th>\n      <th>Status</th>\n      <th>Subscription status</th>\n      <th>year</th>\n      <th>month</th>\n      <th>day</th>\n      <th>hour</th>\n      <th>minute</th>\n    </tr>\n  </thead>\n  <tbody>\n    <tr>\n      <th>0</th>\n      <td>2 Avenue de Suffren</td>\n      <td>0</td>\n      <td>0</td>\n      <td>0</td>\n      <td>0</td>\n      <td>0</td>\n      <td>nonexistent</td>\n      <td>Paris</td>\n      <td>NaN</td>\n      <td>paris-suffren-2</td>\n      <td>...</td>\n      <td>NaN</td>\n      <td>2</td>\n      <td>station</td>\n      <td>ok</td>\n      <td>nonexistent</td>\n      <td>2018</td>\n      <td>4</td>\n      <td>8</td>\n      <td>11</td>\n      <td>43</td>\n    </tr>\n    <tr>\n      <th>1</th>\n      <td>145 Rue Raymond Losserand</td>\n      <td>6</td>\n      <td>6</td>\n      <td>0</td>\n      <td>0</td>\n      <td>0</td>\n      <td>operational</td>\n      <td>Paris</td>\n      <td>NaN</td>\n      <td>paris-raymondlosserand-145</td>\n      <td>...</td>\n      <td>NaN</td>\n      <td>0</td>\n      <td>station</td>\n      <td>ok</td>\n      <td>nonexistent</td>\n      <td>2018</td>\n      <td>4</td>\n      <td>6</td>\n      <td>7</td>\n      <td>24</td>\n    </tr>\n    <tr>\n      <th>2</th>\n      <td>2 Avenue John Fitzgerald Kennedy</td>\n      <td>3</td>\n      <td>3</td>\n      <td>0</td>\n      <td>2</td>\n      <td>0</td>\n      <td>operational</td>\n      <td>Le Bourget</td>\n      <td>NaN</td>\n      <td>lebourget-johnfitzgeraldkennedy-2</td>\n      <td>...</td>\n      <td>NaN</td>\n      <td>1</td>\n      <td>station</td>\n      <td>ok</td>\n      <td>nonexistent</td>\n      <td>2018</td>\n      <td>4</td>\n      <td>3</td>\n      <td>20</td>\n      <td>14</td>\n    </tr>\n    <tr>\n      <th>3</th>\n      <td>51 Rue EugÃ¨ne OudinÃ©</td>\n      <td>3</td>\n      <td>3</td>\n      <td>1</td>\n      <td>0</td>\n      <td>1</td>\n      <td>operational</td>\n      <td>Paris</td>\n      <td>NaN</td>\n      <td>paris-eugeneoudine-51</td>\n      <td>...</td>\n      <td>NaN</td>\n      <td>2</td>\n      <td>station</td>\n      <td>ok</td>\n      <td>nonexistent</td>\n      <td>2018</td>\n      <td>4</td>\n      <td>4</td>\n      <td>4</td>\n      <td>37</td>\n    </tr>\n    <tr>\n      <th>4</th>\n      <td>6 avenue de la Porte de Champerret</td>\n      <td>3</td>\n      <td>3</td>\n      <td>0</td>\n      <td>0</td>\n      <td>0</td>\n      <td>nonexistent</td>\n      <td>Paris</td>\n      <td>NaN</td>\n      <td>paris-portedechamperret-6</td>\n      <td>...</td>\n      <td>NaN</td>\n      <td>3</td>\n      <td>station</td>\n      <td>ok</td>\n      <td>nonexistent</td>\n      <td>2018</td>\n      <td>4</td>\n      <td>8</td>\n      <td>17</td>\n      <td>23</td>\n    </tr>\n  </tbody>\n</table>\n<p>5 rows × 25 columns</p>\n</div>"
     },
     "metadata": {},
     "execution_count": 2
    }
   ],
   "source": [
    "dt = pd.read_csv('data/auto.csv')\n",
    "dt.head()"
   ]
  },
  {
   "source": [
    "* Reading the info in our dataset\n"
   ],
   "cell_type": "markdown",
   "metadata": {}
  },
  {
   "cell_type": "code",
   "execution_count": 3,
   "metadata": {},
   "outputs": [
    {
     "output_type": "stream",
     "name": "stdout",
     "text": [
      "<class 'pandas.core.frame.DataFrame'>\nRangeIndex: 5000 entries, 0 to 4999\nData columns (total 25 columns):\n #   Column               Non-Null Count  Dtype \n---  ------               --------------  ----- \n 0   Address              5000 non-null   object\n 1   Cars                 5000 non-null   int64 \n 2   Bluecar counter      5000 non-null   int64 \n 3   Utilib counter       5000 non-null   int64 \n 4   Utilib 1.4 counter   5000 non-null   int64 \n 5   Charge Slots         5000 non-null   int64 \n 6   Charging Status      5000 non-null   object\n 7   City                 5000 non-null   object\n 8   Displayed comment    111 non-null    object\n 9   ID                   5000 non-null   object\n 10  Kind                 5000 non-null   object\n 11  Geo point            5000 non-null   object\n 12  Postal code          5000 non-null   int64 \n 13  Public name          5000 non-null   object\n 14  Rental status        5000 non-null   object\n 15  Scheduled at         47 non-null     object\n 16  Slots                5000 non-null   int64 \n 17  Station type         5000 non-null   object\n 18  Status               5000 non-null   object\n 19  Subscription status  5000 non-null   object\n 20  year                 5000 non-null   int64 \n 21  month                5000 non-null   int64 \n 22  day                  5000 non-null   int64 \n 23  hour                 5000 non-null   int64 \n 24  minute               5000 non-null   int64 \ndtypes: int64(12), object(13)\nmemory usage: 976.7+ KB\n"
     ]
    }
   ],
   "source": [
    "#Accessing our dataset\n",
    "dt.info()"
   ]
  },
  {
   "cell_type": "code",
   "execution_count": 17,
   "metadata": {},
   "outputs": [
    {
     "output_type": "execute_result",
     "data": {
      "text/plain": [
       "       bluecar_counter  utilib_counter  utilib_1.4_counter  charge_slots  \\\n",
       "count      5000.000000     5000.000000         5000.000000   5000.000000   \n",
       "mean          2.333600        0.059600            0.123000      0.253400   \n",
       "std           2.035274        0.246698            0.356506      0.546304   \n",
       "min           0.000000        0.000000            0.000000      0.000000   \n",
       "25%           0.000000        0.000000            0.000000      0.000000   \n",
       "50%           2.000000        0.000000            0.000000      0.000000   \n",
       "75%           4.000000        0.000000            0.000000      0.000000   \n",
       "max           7.000000        2.000000            3.000000      2.000000   \n",
       "\n",
       "        postal_code        slots          day         hour       minute  \n",
       "count   5000.000000  5000.000000  5000.000000  5000.000000  5000.000000  \n",
       "mean   82634.878400     1.932400     4.941600    11.509200    29.270000  \n",
       "std     8835.865721     1.905402     2.597063     6.893549    17.231741  \n",
       "min    75001.000000     0.000000     1.000000     0.000000     0.000000  \n",
       "25%    75012.000000     0.000000     3.000000     6.000000    14.000000  \n",
       "50%    75019.000000     1.000000     5.000000    11.000000    29.000000  \n",
       "75%    92320.000000     3.000000     7.000000    18.000000    44.000000  \n",
       "max    95880.000000     7.000000     9.000000    23.000000    59.000000  "
      ],
      "text/html": "<div>\n<style scoped>\n    .dataframe tbody tr th:only-of-type {\n        vertical-align: middle;\n    }\n\n    .dataframe tbody tr th {\n        vertical-align: top;\n    }\n\n    .dataframe thead th {\n        text-align: right;\n    }\n</style>\n<table border=\"1\" class=\"dataframe\">\n  <thead>\n    <tr style=\"text-align: right;\">\n      <th></th>\n      <th>bluecar_counter</th>\n      <th>utilib_counter</th>\n      <th>utilib_1.4_counter</th>\n      <th>charge_slots</th>\n      <th>postal_code</th>\n      <th>slots</th>\n      <th>day</th>\n      <th>hour</th>\n      <th>minute</th>\n    </tr>\n  </thead>\n  <tbody>\n    <tr>\n      <th>count</th>\n      <td>5000.000000</td>\n      <td>5000.000000</td>\n      <td>5000.000000</td>\n      <td>5000.000000</td>\n      <td>5000.000000</td>\n      <td>5000.000000</td>\n      <td>5000.000000</td>\n      <td>5000.000000</td>\n      <td>5000.000000</td>\n    </tr>\n    <tr>\n      <th>mean</th>\n      <td>2.333600</td>\n      <td>0.059600</td>\n      <td>0.123000</td>\n      <td>0.253400</td>\n      <td>82634.878400</td>\n      <td>1.932400</td>\n      <td>4.941600</td>\n      <td>11.509200</td>\n      <td>29.270000</td>\n    </tr>\n    <tr>\n      <th>std</th>\n      <td>2.035274</td>\n      <td>0.246698</td>\n      <td>0.356506</td>\n      <td>0.546304</td>\n      <td>8835.865721</td>\n      <td>1.905402</td>\n      <td>2.597063</td>\n      <td>6.893549</td>\n      <td>17.231741</td>\n    </tr>\n    <tr>\n      <th>min</th>\n      <td>0.000000</td>\n      <td>0.000000</td>\n      <td>0.000000</td>\n      <td>0.000000</td>\n      <td>75001.000000</td>\n      <td>0.000000</td>\n      <td>1.000000</td>\n      <td>0.000000</td>\n      <td>0.000000</td>\n    </tr>\n    <tr>\n      <th>25%</th>\n      <td>0.000000</td>\n      <td>0.000000</td>\n      <td>0.000000</td>\n      <td>0.000000</td>\n      <td>75012.000000</td>\n      <td>0.000000</td>\n      <td>3.000000</td>\n      <td>6.000000</td>\n      <td>14.000000</td>\n    </tr>\n    <tr>\n      <th>50%</th>\n      <td>2.000000</td>\n      <td>0.000000</td>\n      <td>0.000000</td>\n      <td>0.000000</td>\n      <td>75019.000000</td>\n      <td>1.000000</td>\n      <td>5.000000</td>\n      <td>11.000000</td>\n      <td>29.000000</td>\n    </tr>\n    <tr>\n      <th>75%</th>\n      <td>4.000000</td>\n      <td>0.000000</td>\n      <td>0.000000</td>\n      <td>0.000000</td>\n      <td>92320.000000</td>\n      <td>3.000000</td>\n      <td>7.000000</td>\n      <td>18.000000</td>\n      <td>44.000000</td>\n    </tr>\n    <tr>\n      <th>max</th>\n      <td>7.000000</td>\n      <td>2.000000</td>\n      <td>3.000000</td>\n      <td>2.000000</td>\n      <td>95880.000000</td>\n      <td>7.000000</td>\n      <td>9.000000</td>\n      <td>23.000000</td>\n      <td>59.000000</td>\n    </tr>\n  </tbody>\n</table>\n</div>"
     },
     "metadata": {},
     "execution_count": 17
    }
   ],
   "source": [
    "#describing our data\n",
    "\n",
    "dt.describe()"
   ]
  },
  {
   "cell_type": "code",
   "execution_count": 21,
   "metadata": {},
   "outputs": [
    {
     "output_type": "execute_result",
     "data": {
      "text/plain": [
       "(5000, 17)"
      ]
     },
     "metadata": {},
     "execution_count": 21
    }
   ],
   "source": [
    "dt.shape"
   ]
  },
  {
   "source": [
    "## Validating\n",
    "* Dropping irrelevant columns"
   ],
   "cell_type": "markdown",
   "metadata": {}
  },
  {
   "cell_type": "code",
   "execution_count": 4,
   "metadata": {},
   "outputs": [
    {
     "output_type": "execute_result",
     "data": {
      "text/plain": [
       "   Cars  Bluecar counter  Utilib counter  Utilib 1.4 counter  Charge Slots  \\\n",
       "0     0                0               0                   0             0   \n",
       "1     6                6               0                   0             0   \n",
       "2     3                3               0                   2             0   \n",
       "3     3                3               1                   0             1   \n",
       "4     3                3               0                   0             0   \n",
       "\n",
       "  Charging Status        City                                 ID     Kind  \\\n",
       "0     nonexistent       Paris                    paris-suffren-2  STATION   \n",
       "1     operational       Paris         paris-raymondlosserand-145  STATION   \n",
       "2     operational  Le Bourget  lebourget-johnfitzgeraldkennedy-2  STATION   \n",
       "3     operational       Paris              paris-eugeneoudine-51  STATION   \n",
       "4     nonexistent       Paris          paris-portedechamperret-6  PARKING   \n",
       "\n",
       "   Postal code Rental status  Slots Station type Status Subscription status  \\\n",
       "0        75015   operational      2      station     ok         nonexistent   \n",
       "1        75014   operational      0      station     ok         nonexistent   \n",
       "2        93350   operational      1      station     ok         nonexistent   \n",
       "3        75013   operational      2      station     ok         nonexistent   \n",
       "4        75017   operational      3      station     ok         nonexistent   \n",
       "\n",
       "   day  hour  minute  \n",
       "0    8    11      43  \n",
       "1    6     7      24  \n",
       "2    3    20      14  \n",
       "3    4     4      37  \n",
       "4    8    17      23  "
      ],
      "text/html": "<div>\n<style scoped>\n    .dataframe tbody tr th:only-of-type {\n        vertical-align: middle;\n    }\n\n    .dataframe tbody tr th {\n        vertical-align: top;\n    }\n\n    .dataframe thead th {\n        text-align: right;\n    }\n</style>\n<table border=\"1\" class=\"dataframe\">\n  <thead>\n    <tr style=\"text-align: right;\">\n      <th></th>\n      <th>Cars</th>\n      <th>Bluecar counter</th>\n      <th>Utilib counter</th>\n      <th>Utilib 1.4 counter</th>\n      <th>Charge Slots</th>\n      <th>Charging Status</th>\n      <th>City</th>\n      <th>ID</th>\n      <th>Kind</th>\n      <th>Postal code</th>\n      <th>Rental status</th>\n      <th>Slots</th>\n      <th>Station type</th>\n      <th>Status</th>\n      <th>Subscription status</th>\n      <th>day</th>\n      <th>hour</th>\n      <th>minute</th>\n    </tr>\n  </thead>\n  <tbody>\n    <tr>\n      <th>0</th>\n      <td>0</td>\n      <td>0</td>\n      <td>0</td>\n      <td>0</td>\n      <td>0</td>\n      <td>nonexistent</td>\n      <td>Paris</td>\n      <td>paris-suffren-2</td>\n      <td>STATION</td>\n      <td>75015</td>\n      <td>operational</td>\n      <td>2</td>\n      <td>station</td>\n      <td>ok</td>\n      <td>nonexistent</td>\n      <td>8</td>\n      <td>11</td>\n      <td>43</td>\n    </tr>\n    <tr>\n      <th>1</th>\n      <td>6</td>\n      <td>6</td>\n      <td>0</td>\n      <td>0</td>\n      <td>0</td>\n      <td>operational</td>\n      <td>Paris</td>\n      <td>paris-raymondlosserand-145</td>\n      <td>STATION</td>\n      <td>75014</td>\n      <td>operational</td>\n      <td>0</td>\n      <td>station</td>\n      <td>ok</td>\n      <td>nonexistent</td>\n      <td>6</td>\n      <td>7</td>\n      <td>24</td>\n    </tr>\n    <tr>\n      <th>2</th>\n      <td>3</td>\n      <td>3</td>\n      <td>0</td>\n      <td>2</td>\n      <td>0</td>\n      <td>operational</td>\n      <td>Le Bourget</td>\n      <td>lebourget-johnfitzgeraldkennedy-2</td>\n      <td>STATION</td>\n      <td>93350</td>\n      <td>operational</td>\n      <td>1</td>\n      <td>station</td>\n      <td>ok</td>\n      <td>nonexistent</td>\n      <td>3</td>\n      <td>20</td>\n      <td>14</td>\n    </tr>\n    <tr>\n      <th>3</th>\n      <td>3</td>\n      <td>3</td>\n      <td>1</td>\n      <td>0</td>\n      <td>1</td>\n      <td>operational</td>\n      <td>Paris</td>\n      <td>paris-eugeneoudine-51</td>\n      <td>STATION</td>\n      <td>75013</td>\n      <td>operational</td>\n      <td>2</td>\n      <td>station</td>\n      <td>ok</td>\n      <td>nonexistent</td>\n      <td>4</td>\n      <td>4</td>\n      <td>37</td>\n    </tr>\n    <tr>\n      <th>4</th>\n      <td>3</td>\n      <td>3</td>\n      <td>0</td>\n      <td>0</td>\n      <td>0</td>\n      <td>nonexistent</td>\n      <td>Paris</td>\n      <td>paris-portedechamperret-6</td>\n      <td>PARKING</td>\n      <td>75017</td>\n      <td>operational</td>\n      <td>3</td>\n      <td>station</td>\n      <td>ok</td>\n      <td>nonexistent</td>\n      <td>8</td>\n      <td>17</td>\n      <td>23</td>\n    </tr>\n  </tbody>\n</table>\n</div>"
     },
     "metadata": {},
     "execution_count": 4
    }
   ],
   "source": [
    "#According to our dataset our irrelevant columns are\n",
    "# address, Geo point, Displayed comment,publicname, scheduled at, year,month\n",
    "dt.drop(['Address','Geo point','Displayed comment','Public name','year','month','Scheduled at'], axis=1, inplace=True)\n",
    "\n",
    "dt.head() \n",
    "\n",
    "## displayed comment and scheduled at have been dropped bc they have missing values"
   ]
  },
  {
   "source": [
    "* Fixing syntax errors"
   ],
   "cell_type": "markdown",
   "metadata": {}
  },
  {
   "cell_type": "code",
   "execution_count": 5,
   "metadata": {},
   "outputs": [
    {
     "output_type": "execute_result",
     "data": {
      "text/plain": [
       "      cars  bluecar_counter  utilib_counter  utilib_1.4_counter  charge_slots  \\\n",
       "4985     2                2               0                   0             1   \n",
       "4986     3                3               0                   0             0   \n",
       "4987     6                6               0                   0             0   \n",
       "4988     5                5               0                   0             1   \n",
       "4989     4                4               0                   0             0   \n",
       "4990     0                0               0                   0             0   \n",
       "4991     5                5               0                   0             0   \n",
       "4992     0                0               0                   0             2   \n",
       "4993     6                6               0                   0             0   \n",
       "4994     0                0               0                   0             0   \n",
       "4995     2                2               0                   0             0   \n",
       "4996     4                4               0                   0             1   \n",
       "4997     1                1               0                   0             1   \n",
       "4998     2                2               0                   0             0   \n",
       "4999     4                4               0                   0             0   \n",
       "\n",
       "     charging_status                  city  \\\n",
       "4985     operational                 Paris   \n",
       "4986     nonexistent           Alfortville   \n",
       "4987     nonexistent  Boulogne-Billancourt   \n",
       "4988     operational                 Paris   \n",
       "4989     operational          Saint-MandÃ©   \n",
       "4990     operational                 Paris   \n",
       "4991     nonexistent              CrÃ©teil   \n",
       "4992     operational                 Paris   \n",
       "4993     nonexistent   Le Plessis-Robinson   \n",
       "4994     operational                 Paris   \n",
       "4995     nonexistent              Colombes   \n",
       "4996     operational                 Paris   \n",
       "4997     operational                 Paris   \n",
       "4998     nonexistent    Fontenay-Sous-Bois   \n",
       "4999     operational                 Paris   \n",
       "\n",
       "                                         id     kind  postal_code  \\\n",
       "4985                      paris-mithouard-6  STATION        75007   \n",
       "4986         alfortville-charlesdegaulle-16  STATION        94140   \n",
       "4987        boulognebillancourt-abelgance-6  STATION        92100   \n",
       "4988                         paris-ramey-62  STATION        75018   \n",
       "4989                  saintmande-mongenot-3  STATION        94160   \n",
       "4990                       paris-hopital-47  STATION        75013   \n",
       "4991  creteil-marechaldelattredetassigny-56  STATION        94000   \n",
       "4992                           paris-ivry-3  STATION        75013   \n",
       "4993    leplessisrobinson-charlesdegaulle-6  STATION        92350   \n",
       "4994                        paris-rocroy-15  STATION        75010   \n",
       "4995                   colombes-menelotte-8  STATION        92700   \n",
       "4996                       paris-dantzig-37  STATION        75015   \n",
       "4997                          paris-bac-142  STATION        75007   \n",
       "4998       fontenaysousbois-valdefontenay-2  STATION        94120   \n",
       "4999                   paris-henrybrisson-5  STATION        75018   \n",
       "\n",
       "     rental_status  slots station_type status subscription_status  day  hour  \\\n",
       "4985   operational      4      station     ok         nonexistent    4     2   \n",
       "4986   operational      3      station     ok         nonexistent    3     4   \n",
       "4987   operational      0      station     ok         nonexistent    8     6   \n",
       "4988   operational      1      station     ok         nonexistent    8    11   \n",
       "4989   operational      0      station     ok         nonexistent    6     7   \n",
       "4990   operational      4      station     ok         nonexistent    3    21   \n",
       "4991   operational      1      station     ok         nonexistent    7    20   \n",
       "4992   operational      6      station     ok         nonexistent    9    23   \n",
       "4993   operational      0      station     ok         nonexistent    2     4   \n",
       "4994   operational      1      station     ok         nonexistent    1    20   \n",
       "4995   operational      3      station     ok         nonexistent    6    11   \n",
       "4996   operational      2      station     ok         nonexistent    4    16   \n",
       "4997   operational      4      station     ok         nonexistent    1     7   \n",
       "4998   operational      3      station     ok         nonexistent    4    17   \n",
       "4999   operational      0      station     ok         nonexistent    8    10   \n",
       "\n",
       "      minute  \n",
       "4985      35  \n",
       "4986       3  \n",
       "4987      41  \n",
       "4988       0  \n",
       "4989      28  \n",
       "4990      13  \n",
       "4991      43  \n",
       "4992       1  \n",
       "4993      43  \n",
       "4994      49  \n",
       "4995      26  \n",
       "4996      56  \n",
       "4997       1  \n",
       "4998      27  \n",
       "4999       2  "
      ],
      "text/html": "<div>\n<style scoped>\n    .dataframe tbody tr th:only-of-type {\n        vertical-align: middle;\n    }\n\n    .dataframe tbody tr th {\n        vertical-align: top;\n    }\n\n    .dataframe thead th {\n        text-align: right;\n    }\n</style>\n<table border=\"1\" class=\"dataframe\">\n  <thead>\n    <tr style=\"text-align: right;\">\n      <th></th>\n      <th>cars</th>\n      <th>bluecar_counter</th>\n      <th>utilib_counter</th>\n      <th>utilib_1.4_counter</th>\n      <th>charge_slots</th>\n      <th>charging_status</th>\n      <th>city</th>\n      <th>id</th>\n      <th>kind</th>\n      <th>postal_code</th>\n      <th>rental_status</th>\n      <th>slots</th>\n      <th>station_type</th>\n      <th>status</th>\n      <th>subscription_status</th>\n      <th>day</th>\n      <th>hour</th>\n      <th>minute</th>\n    </tr>\n  </thead>\n  <tbody>\n    <tr>\n      <th>4985</th>\n      <td>2</td>\n      <td>2</td>\n      <td>0</td>\n      <td>0</td>\n      <td>1</td>\n      <td>operational</td>\n      <td>Paris</td>\n      <td>paris-mithouard-6</td>\n      <td>STATION</td>\n      <td>75007</td>\n      <td>operational</td>\n      <td>4</td>\n      <td>station</td>\n      <td>ok</td>\n      <td>nonexistent</td>\n      <td>4</td>\n      <td>2</td>\n      <td>35</td>\n    </tr>\n    <tr>\n      <th>4986</th>\n      <td>3</td>\n      <td>3</td>\n      <td>0</td>\n      <td>0</td>\n      <td>0</td>\n      <td>nonexistent</td>\n      <td>Alfortville</td>\n      <td>alfortville-charlesdegaulle-16</td>\n      <td>STATION</td>\n      <td>94140</td>\n      <td>operational</td>\n      <td>3</td>\n      <td>station</td>\n      <td>ok</td>\n      <td>nonexistent</td>\n      <td>3</td>\n      <td>4</td>\n      <td>3</td>\n    </tr>\n    <tr>\n      <th>4987</th>\n      <td>6</td>\n      <td>6</td>\n      <td>0</td>\n      <td>0</td>\n      <td>0</td>\n      <td>nonexistent</td>\n      <td>Boulogne-Billancourt</td>\n      <td>boulognebillancourt-abelgance-6</td>\n      <td>STATION</td>\n      <td>92100</td>\n      <td>operational</td>\n      <td>0</td>\n      <td>station</td>\n      <td>ok</td>\n      <td>nonexistent</td>\n      <td>8</td>\n      <td>6</td>\n      <td>41</td>\n    </tr>\n    <tr>\n      <th>4988</th>\n      <td>5</td>\n      <td>5</td>\n      <td>0</td>\n      <td>0</td>\n      <td>1</td>\n      <td>operational</td>\n      <td>Paris</td>\n      <td>paris-ramey-62</td>\n      <td>STATION</td>\n      <td>75018</td>\n      <td>operational</td>\n      <td>1</td>\n      <td>station</td>\n      <td>ok</td>\n      <td>nonexistent</td>\n      <td>8</td>\n      <td>11</td>\n      <td>0</td>\n    </tr>\n    <tr>\n      <th>4989</th>\n      <td>4</td>\n      <td>4</td>\n      <td>0</td>\n      <td>0</td>\n      <td>0</td>\n      <td>operational</td>\n      <td>Saint-MandÃ©</td>\n      <td>saintmande-mongenot-3</td>\n      <td>STATION</td>\n      <td>94160</td>\n      <td>operational</td>\n      <td>0</td>\n      <td>station</td>\n      <td>ok</td>\n      <td>nonexistent</td>\n      <td>6</td>\n      <td>7</td>\n      <td>28</td>\n    </tr>\n    <tr>\n      <th>4990</th>\n      <td>0</td>\n      <td>0</td>\n      <td>0</td>\n      <td>0</td>\n      <td>0</td>\n      <td>operational</td>\n      <td>Paris</td>\n      <td>paris-hopital-47</td>\n      <td>STATION</td>\n      <td>75013</td>\n      <td>operational</td>\n      <td>4</td>\n      <td>station</td>\n      <td>ok</td>\n      <td>nonexistent</td>\n      <td>3</td>\n      <td>21</td>\n      <td>13</td>\n    </tr>\n    <tr>\n      <th>4991</th>\n      <td>5</td>\n      <td>5</td>\n      <td>0</td>\n      <td>0</td>\n      <td>0</td>\n      <td>nonexistent</td>\n      <td>CrÃ©teil</td>\n      <td>creteil-marechaldelattredetassigny-56</td>\n      <td>STATION</td>\n      <td>94000</td>\n      <td>operational</td>\n      <td>1</td>\n      <td>station</td>\n      <td>ok</td>\n      <td>nonexistent</td>\n      <td>7</td>\n      <td>20</td>\n      <td>43</td>\n    </tr>\n    <tr>\n      <th>4992</th>\n      <td>0</td>\n      <td>0</td>\n      <td>0</td>\n      <td>0</td>\n      <td>2</td>\n      <td>operational</td>\n      <td>Paris</td>\n      <td>paris-ivry-3</td>\n      <td>STATION</td>\n      <td>75013</td>\n      <td>operational</td>\n      <td>6</td>\n      <td>station</td>\n      <td>ok</td>\n      <td>nonexistent</td>\n      <td>9</td>\n      <td>23</td>\n      <td>1</td>\n    </tr>\n    <tr>\n      <th>4993</th>\n      <td>6</td>\n      <td>6</td>\n      <td>0</td>\n      <td>0</td>\n      <td>0</td>\n      <td>nonexistent</td>\n      <td>Le Plessis-Robinson</td>\n      <td>leplessisrobinson-charlesdegaulle-6</td>\n      <td>STATION</td>\n      <td>92350</td>\n      <td>operational</td>\n      <td>0</td>\n      <td>station</td>\n      <td>ok</td>\n      <td>nonexistent</td>\n      <td>2</td>\n      <td>4</td>\n      <td>43</td>\n    </tr>\n    <tr>\n      <th>4994</th>\n      <td>0</td>\n      <td>0</td>\n      <td>0</td>\n      <td>0</td>\n      <td>0</td>\n      <td>operational</td>\n      <td>Paris</td>\n      <td>paris-rocroy-15</td>\n      <td>STATION</td>\n      <td>75010</td>\n      <td>operational</td>\n      <td>1</td>\n      <td>station</td>\n      <td>ok</td>\n      <td>nonexistent</td>\n      <td>1</td>\n      <td>20</td>\n      <td>49</td>\n    </tr>\n    <tr>\n      <th>4995</th>\n      <td>2</td>\n      <td>2</td>\n      <td>0</td>\n      <td>0</td>\n      <td>0</td>\n      <td>nonexistent</td>\n      <td>Colombes</td>\n      <td>colombes-menelotte-8</td>\n      <td>STATION</td>\n      <td>92700</td>\n      <td>operational</td>\n      <td>3</td>\n      <td>station</td>\n      <td>ok</td>\n      <td>nonexistent</td>\n      <td>6</td>\n      <td>11</td>\n      <td>26</td>\n    </tr>\n    <tr>\n      <th>4996</th>\n      <td>4</td>\n      <td>4</td>\n      <td>0</td>\n      <td>0</td>\n      <td>1</td>\n      <td>operational</td>\n      <td>Paris</td>\n      <td>paris-dantzig-37</td>\n      <td>STATION</td>\n      <td>75015</td>\n      <td>operational</td>\n      <td>2</td>\n      <td>station</td>\n      <td>ok</td>\n      <td>nonexistent</td>\n      <td>4</td>\n      <td>16</td>\n      <td>56</td>\n    </tr>\n    <tr>\n      <th>4997</th>\n      <td>1</td>\n      <td>1</td>\n      <td>0</td>\n      <td>0</td>\n      <td>1</td>\n      <td>operational</td>\n      <td>Paris</td>\n      <td>paris-bac-142</td>\n      <td>STATION</td>\n      <td>75007</td>\n      <td>operational</td>\n      <td>4</td>\n      <td>station</td>\n      <td>ok</td>\n      <td>nonexistent</td>\n      <td>1</td>\n      <td>7</td>\n      <td>1</td>\n    </tr>\n    <tr>\n      <th>4998</th>\n      <td>2</td>\n      <td>2</td>\n      <td>0</td>\n      <td>0</td>\n      <td>0</td>\n      <td>nonexistent</td>\n      <td>Fontenay-Sous-Bois</td>\n      <td>fontenaysousbois-valdefontenay-2</td>\n      <td>STATION</td>\n      <td>94120</td>\n      <td>operational</td>\n      <td>3</td>\n      <td>station</td>\n      <td>ok</td>\n      <td>nonexistent</td>\n      <td>4</td>\n      <td>17</td>\n      <td>27</td>\n    </tr>\n    <tr>\n      <th>4999</th>\n      <td>4</td>\n      <td>4</td>\n      <td>0</td>\n      <td>0</td>\n      <td>0</td>\n      <td>operational</td>\n      <td>Paris</td>\n      <td>paris-henrybrisson-5</td>\n      <td>STATION</td>\n      <td>75018</td>\n      <td>operational</td>\n      <td>0</td>\n      <td>station</td>\n      <td>ok</td>\n      <td>nonexistent</td>\n      <td>8</td>\n      <td>10</td>\n      <td>2</td>\n    </tr>\n  </tbody>\n</table>\n</div>"
     },
     "metadata": {},
     "execution_count": 5
    }
   ],
   "source": [
    "#Let's remove use the str.strip function on the respective column name to strip the leading and trailing space \n",
    "# Also remove white spaces and convert the column names to lower case\n",
    "\n",
    "dt.columns = dt.columns.str.strip().str.lower().str.replace(' ', '_').str.replace('(', '').str.replace(')', '')\n",
    "dt.tail(15)"
   ]
  },
  {
   "source": [
    "# Fixing typos\n",
    "* Data Cleaning Action: No action taken\n",
    "* Explanation: There were no typos"
   ],
   "cell_type": "markdown",
   "metadata": {}
  },
  {
   "source": [
    "# Accuracy"
   ],
   "cell_type": "markdown",
   "metadata": {}
  },
  {
   "cell_type": "code",
   "execution_count": 6,
   "metadata": {},
   "outputs": [
    {
     "output_type": "execute_result",
     "data": {
      "text/plain": [
       "True"
      ]
     },
     "metadata": {},
     "execution_count": 6
    }
   ],
   "source": [
    "#Compare columns with car and bluecar\n",
    "# If they equal to each other  we can now drop cars column\n",
    "dt['cars'].equals(dt['bluecar_counter'])"
   ]
  },
  {
   "cell_type": "code",
   "execution_count": 7,
   "metadata": {},
   "outputs": [
    {
     "output_type": "stream",
     "name": "stdout",
     "text": [
      "<class 'pandas.core.frame.DataFrame'>\nRangeIndex: 5000 entries, 0 to 4999\nData columns (total 17 columns):\n #   Column               Non-Null Count  Dtype \n---  ------               --------------  ----- \n 0   bluecar_counter      5000 non-null   int64 \n 1   utilib_counter       5000 non-null   int64 \n 2   utilib_1.4_counter   5000 non-null   int64 \n 3   charge_slots         5000 non-null   int64 \n 4   charging_status      5000 non-null   object\n 5   city                 5000 non-null   object\n 6   id                   5000 non-null   object\n 7   kind                 5000 non-null   object\n 8   postal_code          5000 non-null   int64 \n 9   rental_status        5000 non-null   object\n 10  slots                5000 non-null   int64 \n 11  station_type         5000 non-null   object\n 12  status               5000 non-null   object\n 13  subscription_status  5000 non-null   object\n 14  day                  5000 non-null   int64 \n 15  hour                 5000 non-null   int64 \n 16  minute               5000 non-null   int64 \ndtypes: int64(9), object(8)\nmemory usage: 664.2+ KB\n"
     ]
    }
   ],
   "source": [
    "dt.drop(['cars'], axis=1, inplace=True)\n",
    "dt.info()"
   ]
  },
  {
   "source": [
    "# Completeness\n",
    "* checking for null values\n",
    "* dropping missing values"
   ],
   "cell_type": "markdown",
   "metadata": {}
  },
  {
   "cell_type": "code",
   "execution_count": 8,
   "metadata": {},
   "outputs": [
    {
     "output_type": "execute_result",
     "data": {
      "text/plain": [
       "bluecar_counter        False\n",
       "utilib_counter         False\n",
       "utilib_1.4_counter     False\n",
       "charge_slots           False\n",
       "charging_status        False\n",
       "city                   False\n",
       "id                     False\n",
       "kind                   False\n",
       "postal_code            False\n",
       "rental_status          False\n",
       "slots                  False\n",
       "station_type           False\n",
       "status                 False\n",
       "subscription_status    False\n",
       "day                    False\n",
       "hour                   False\n",
       "minute                 False\n",
       "dtype: bool"
      ]
     },
     "metadata": {},
     "execution_count": 8
    }
   ],
   "source": [
    "#Checking the missing values in our dataset\n",
    "\n",
    "dt.isnull().any()"
   ]
  },
  {
   "cell_type": "code",
   "execution_count": 9,
   "metadata": {},
   "outputs": [
    {
     "output_type": "execute_result",
     "data": {
      "text/plain": [
       "<AxesSubplot:xlabel='hour'>"
      ]
     },
     "metadata": {},
     "execution_count": 9
    },
    {
     "output_type": "display_data",
     "data": {
      "text/plain": "<Figure size 432x288 with 1 Axes>",
      "image/svg+xml": "<?xml version=\"1.0\" encoding=\"utf-8\" standalone=\"no\"?>\r\n<!DOCTYPE svg PUBLIC \"-//W3C//DTD SVG 1.1//EN\"\r\n  \"http://www.w3.org/Graphics/SVG/1.1/DTD/svg11.dtd\">\r\n<!-- Created with matplotlib (https://matplotlib.org/) -->\r\n<svg height=\"262.19625pt\" version=\"1.1\" viewBox=\"0 0 352.7 262.19625\" width=\"352.7pt\" xmlns=\"http://www.w3.org/2000/svg\" xmlns:xlink=\"http://www.w3.org/1999/xlink\">\r\n <metadata>\r\n  <rdf:RDF xmlns:cc=\"http://creativecommons.org/ns#\" xmlns:dc=\"http://purl.org/dc/elements/1.1/\" xmlns:rdf=\"http://www.w3.org/1999/02/22-rdf-syntax-ns#\">\r\n   <cc:Work>\r\n    <dc:type rdf:resource=\"http://purl.org/dc/dcmitype/StillImage\"/>\r\n    <dc:date>2021-02-12T11:50:21.901449</dc:date>\r\n    <dc:format>image/svg+xml</dc:format>\r\n    <dc:creator>\r\n     <cc:Agent>\r\n      <dc:title>Matplotlib v3.3.2, https://matplotlib.org/</dc:title>\r\n     </cc:Agent>\r\n    </dc:creator>\r\n   </cc:Work>\r\n  </rdf:RDF>\r\n </metadata>\r\n <defs>\r\n  <style type=\"text/css\">*{stroke-linecap:butt;stroke-linejoin:round;}</style>\r\n </defs>\r\n <g id=\"figure_1\">\r\n  <g id=\"patch_1\">\r\n   <path d=\"M 0 262.19625 \r\nL 352.7 262.19625 \r\nL 352.7 0 \r\nL 0 0 \r\nz\r\n\" style=\"fill:none;\"/>\r\n  </g>\r\n  <g id=\"axes_1\">\r\n   <g id=\"patch_2\">\r\n    <path d=\"M 10.7 224.64 \r\nL 345.5 224.64 \r\nL 345.5 7.2 \r\nL 10.7 7.2 \r\nz\r\n\" style=\"fill:#ffffff;\"/>\r\n   </g>\r\n   <g id=\"patch_3\">\r\n    <path clip-path=\"url(#p535252fcb6)\" d=\"M 105.317391 28.944 \r\nL 105.317391 202.896 \r\nL 264.11581 202.896 \r\nL 264.11581 28.944 \r\nL 105.317391 28.944 \r\nz\r\n\" style=\"fill:#3274a1;stroke:#3f3f3f;stroke-linejoin:miter;stroke-width:1.5;\"/>\r\n   </g>\r\n   <g id=\"matplotlib.axis_1\">\r\n    <g id=\"xtick_1\">\r\n     <g id=\"line2d_1\">\r\n      <defs>\r\n       <path d=\"M 0 0 \r\nL 0 3.5 \r\n\" id=\"m96ef4b0813\" style=\"stroke:#000000;stroke-width:0.8;\"/>\r\n      </defs>\r\n      <g>\r\n       <use style=\"stroke:#000000;stroke-width:0.8;\" x=\"25.918182\" xlink:href=\"#m96ef4b0813\" y=\"224.64\"/>\r\n      </g>\r\n     </g>\r\n     <g id=\"text_1\">\r\n      <!-- 0 -->\r\n      <g transform=\"translate(22.736932 239.238437)scale(0.1 -0.1)\">\r\n       <defs>\r\n        <path d=\"M 31.78125 66.40625 \r\nQ 24.171875 66.40625 20.328125 58.90625 \r\nQ 16.5 51.421875 16.5 36.375 \r\nQ 16.5 21.390625 20.328125 13.890625 \r\nQ 24.171875 6.390625 31.78125 6.390625 \r\nQ 39.453125 6.390625 43.28125 13.890625 \r\nQ 47.125 21.390625 47.125 36.375 \r\nQ 47.125 51.421875 43.28125 58.90625 \r\nQ 39.453125 66.40625 31.78125 66.40625 \r\nz\r\nM 31.78125 74.21875 \r\nQ 44.046875 74.21875 50.515625 64.515625 \r\nQ 56.984375 54.828125 56.984375 36.375 \r\nQ 56.984375 17.96875 50.515625 8.265625 \r\nQ 44.046875 -1.421875 31.78125 -1.421875 \r\nQ 19.53125 -1.421875 13.0625 8.265625 \r\nQ 6.59375 17.96875 6.59375 36.375 \r\nQ 6.59375 54.828125 13.0625 64.515625 \r\nQ 19.53125 74.21875 31.78125 74.21875 \r\nz\r\n\" id=\"DejaVuSans-48\"/>\r\n       </defs>\r\n       <use xlink:href=\"#DejaVuSans-48\"/>\r\n      </g>\r\n     </g>\r\n    </g>\r\n    <g id=\"xtick_2\">\r\n     <g id=\"line2d_2\">\r\n      <g>\r\n       <use style=\"stroke:#000000;stroke-width:0.8;\" x=\"92.08419\" xlink:href=\"#m96ef4b0813\" y=\"224.64\"/>\r\n      </g>\r\n     </g>\r\n     <g id=\"text_2\">\r\n      <!-- 5 -->\r\n      <g transform=\"translate(88.90294 239.238437)scale(0.1 -0.1)\">\r\n       <defs>\r\n        <path d=\"M 10.796875 72.90625 \r\nL 49.515625 72.90625 \r\nL 49.515625 64.59375 \r\nL 19.828125 64.59375 \r\nL 19.828125 46.734375 \r\nQ 21.96875 47.46875 24.109375 47.828125 \r\nQ 26.265625 48.1875 28.421875 48.1875 \r\nQ 40.625 48.1875 47.75 41.5 \r\nQ 54.890625 34.8125 54.890625 23.390625 \r\nQ 54.890625 11.625 47.5625 5.09375 \r\nQ 40.234375 -1.421875 26.90625 -1.421875 \r\nQ 22.3125 -1.421875 17.546875 -0.640625 \r\nQ 12.796875 0.140625 7.71875 1.703125 \r\nL 7.71875 11.625 \r\nQ 12.109375 9.234375 16.796875 8.0625 \r\nQ 21.484375 6.890625 26.703125 6.890625 \r\nQ 35.15625 6.890625 40.078125 11.328125 \r\nQ 45.015625 15.765625 45.015625 23.390625 \r\nQ 45.015625 31 40.078125 35.4375 \r\nQ 35.15625 39.890625 26.703125 39.890625 \r\nQ 22.75 39.890625 18.8125 39.015625 \r\nQ 14.890625 38.140625 10.796875 36.28125 \r\nz\r\n\" id=\"DejaVuSans-53\"/>\r\n       </defs>\r\n       <use xlink:href=\"#DejaVuSans-53\"/>\r\n      </g>\r\n     </g>\r\n    </g>\r\n    <g id=\"xtick_3\">\r\n     <g id=\"line2d_3\">\r\n      <g>\r\n       <use style=\"stroke:#000000;stroke-width:0.8;\" x=\"158.250198\" xlink:href=\"#m96ef4b0813\" y=\"224.64\"/>\r\n      </g>\r\n     </g>\r\n     <g id=\"text_3\">\r\n      <!-- 10 -->\r\n      <g transform=\"translate(151.887698 239.238437)scale(0.1 -0.1)\">\r\n       <defs>\r\n        <path d=\"M 12.40625 8.296875 \r\nL 28.515625 8.296875 \r\nL 28.515625 63.921875 \r\nL 10.984375 60.40625 \r\nL 10.984375 69.390625 \r\nL 28.421875 72.90625 \r\nL 38.28125 72.90625 \r\nL 38.28125 8.296875 \r\nL 54.390625 8.296875 \r\nL 54.390625 0 \r\nL 12.40625 0 \r\nz\r\n\" id=\"DejaVuSans-49\"/>\r\n       </defs>\r\n       <use xlink:href=\"#DejaVuSans-49\"/>\r\n       <use x=\"63.623047\" xlink:href=\"#DejaVuSans-48\"/>\r\n      </g>\r\n     </g>\r\n    </g>\r\n    <g id=\"xtick_4\">\r\n     <g id=\"line2d_4\">\r\n      <g>\r\n       <use style=\"stroke:#000000;stroke-width:0.8;\" x=\"224.416206\" xlink:href=\"#m96ef4b0813\" y=\"224.64\"/>\r\n      </g>\r\n     </g>\r\n     <g id=\"text_4\">\r\n      <!-- 15 -->\r\n      <g transform=\"translate(218.053706 239.238437)scale(0.1 -0.1)\">\r\n       <use xlink:href=\"#DejaVuSans-49\"/>\r\n       <use x=\"63.623047\" xlink:href=\"#DejaVuSans-53\"/>\r\n      </g>\r\n     </g>\r\n    </g>\r\n    <g id=\"xtick_5\">\r\n     <g id=\"line2d_5\">\r\n      <g>\r\n       <use style=\"stroke:#000000;stroke-width:0.8;\" x=\"290.582213\" xlink:href=\"#m96ef4b0813\" y=\"224.64\"/>\r\n      </g>\r\n     </g>\r\n     <g id=\"text_5\">\r\n      <!-- 20 -->\r\n      <g transform=\"translate(284.219713 239.238437)scale(0.1 -0.1)\">\r\n       <defs>\r\n        <path d=\"M 19.1875 8.296875 \r\nL 53.609375 8.296875 \r\nL 53.609375 0 \r\nL 7.328125 0 \r\nL 7.328125 8.296875 \r\nQ 12.9375 14.109375 22.625 23.890625 \r\nQ 32.328125 33.6875 34.8125 36.53125 \r\nQ 39.546875 41.84375 41.421875 45.53125 \r\nQ 43.3125 49.21875 43.3125 52.78125 \r\nQ 43.3125 58.59375 39.234375 62.25 \r\nQ 35.15625 65.921875 28.609375 65.921875 \r\nQ 23.96875 65.921875 18.8125 64.3125 \r\nQ 13.671875 62.703125 7.8125 59.421875 \r\nL 7.8125 69.390625 \r\nQ 13.765625 71.78125 18.9375 73 \r\nQ 24.125 74.21875 28.421875 74.21875 \r\nQ 39.75 74.21875 46.484375 68.546875 \r\nQ 53.21875 62.890625 53.21875 53.421875 \r\nQ 53.21875 48.921875 51.53125 44.890625 \r\nQ 49.859375 40.875 45.40625 35.40625 \r\nQ 44.1875 33.984375 37.640625 27.21875 \r\nQ 31.109375 20.453125 19.1875 8.296875 \r\nz\r\n\" id=\"DejaVuSans-50\"/>\r\n       </defs>\r\n       <use xlink:href=\"#DejaVuSans-50\"/>\r\n       <use x=\"63.623047\" xlink:href=\"#DejaVuSans-48\"/>\r\n      </g>\r\n     </g>\r\n    </g>\r\n    <g id=\"text_6\">\r\n     <!-- hour -->\r\n     <g transform=\"translate(166.647656 252.916562)scale(0.1 -0.1)\">\r\n      <defs>\r\n       <path d=\"M 54.890625 33.015625 \r\nL 54.890625 0 \r\nL 45.90625 0 \r\nL 45.90625 32.71875 \r\nQ 45.90625 40.484375 42.875 44.328125 \r\nQ 39.84375 48.1875 33.796875 48.1875 \r\nQ 26.515625 48.1875 22.3125 43.546875 \r\nQ 18.109375 38.921875 18.109375 30.90625 \r\nL 18.109375 0 \r\nL 9.078125 0 \r\nL 9.078125 75.984375 \r\nL 18.109375 75.984375 \r\nL 18.109375 46.1875 \r\nQ 21.34375 51.125 25.703125 53.5625 \r\nQ 30.078125 56 35.796875 56 \r\nQ 45.21875 56 50.046875 50.171875 \r\nQ 54.890625 44.34375 54.890625 33.015625 \r\nz\r\n\" id=\"DejaVuSans-104\"/>\r\n       <path d=\"M 30.609375 48.390625 \r\nQ 23.390625 48.390625 19.1875 42.75 \r\nQ 14.984375 37.109375 14.984375 27.296875 \r\nQ 14.984375 17.484375 19.15625 11.84375 \r\nQ 23.34375 6.203125 30.609375 6.203125 \r\nQ 37.796875 6.203125 41.984375 11.859375 \r\nQ 46.1875 17.53125 46.1875 27.296875 \r\nQ 46.1875 37.015625 41.984375 42.703125 \r\nQ 37.796875 48.390625 30.609375 48.390625 \r\nz\r\nM 30.609375 56 \r\nQ 42.328125 56 49.015625 48.375 \r\nQ 55.71875 40.765625 55.71875 27.296875 \r\nQ 55.71875 13.875 49.015625 6.21875 \r\nQ 42.328125 -1.421875 30.609375 -1.421875 \r\nQ 18.84375 -1.421875 12.171875 6.21875 \r\nQ 5.515625 13.875 5.515625 27.296875 \r\nQ 5.515625 40.765625 12.171875 48.375 \r\nQ 18.84375 56 30.609375 56 \r\nz\r\n\" id=\"DejaVuSans-111\"/>\r\n       <path d=\"M 8.5 21.578125 \r\nL 8.5 54.6875 \r\nL 17.484375 54.6875 \r\nL 17.484375 21.921875 \r\nQ 17.484375 14.15625 20.5 10.265625 \r\nQ 23.53125 6.390625 29.59375 6.390625 \r\nQ 36.859375 6.390625 41.078125 11.03125 \r\nQ 45.3125 15.671875 45.3125 23.6875 \r\nL 45.3125 54.6875 \r\nL 54.296875 54.6875 \r\nL 54.296875 0 \r\nL 45.3125 0 \r\nL 45.3125 8.40625 \r\nQ 42.046875 3.421875 37.71875 1 \r\nQ 33.40625 -1.421875 27.6875 -1.421875 \r\nQ 18.265625 -1.421875 13.375 4.4375 \r\nQ 8.5 10.296875 8.5 21.578125 \r\nz\r\nM 31.109375 56 \r\nz\r\n\" id=\"DejaVuSans-117\"/>\r\n       <path d=\"M 41.109375 46.296875 \r\nQ 39.59375 47.171875 37.8125 47.578125 \r\nQ 36.03125 48 33.890625 48 \r\nQ 26.265625 48 22.1875 43.046875 \r\nQ 18.109375 38.09375 18.109375 28.8125 \r\nL 18.109375 0 \r\nL 9.078125 0 \r\nL 9.078125 54.6875 \r\nL 18.109375 54.6875 \r\nL 18.109375 46.1875 \r\nQ 20.953125 51.171875 25.484375 53.578125 \r\nQ 30.03125 56 36.53125 56 \r\nQ 37.453125 56 38.578125 55.875 \r\nQ 39.703125 55.765625 41.0625 55.515625 \r\nz\r\n\" id=\"DejaVuSans-114\"/>\r\n      </defs>\r\n      <use xlink:href=\"#DejaVuSans-104\"/>\r\n      <use x=\"63.378906\" xlink:href=\"#DejaVuSans-111\"/>\r\n      <use x=\"124.560547\" xlink:href=\"#DejaVuSans-117\"/>\r\n      <use x=\"187.939453\" xlink:href=\"#DejaVuSans-114\"/>\r\n     </g>\r\n    </g>\r\n   </g>\r\n   <g id=\"matplotlib.axis_2\">\r\n    <g id=\"ytick_1\">\r\n     <g id=\"line2d_6\">\r\n      <defs>\r\n       <path d=\"M 0 0 \r\nL -3.5 0 \r\n\" id=\"m4b97f97108\" style=\"stroke:#000000;stroke-width:0.8;\"/>\r\n      </defs>\r\n      <g>\r\n       <use style=\"stroke:#000000;stroke-width:0.8;\" x=\"10.7\" xlink:href=\"#m4b97f97108\" y=\"115.92\"/>\r\n      </g>\r\n     </g>\r\n    </g>\r\n   </g>\r\n   <g id=\"line2d_7\">\r\n    <path clip-path=\"url(#p535252fcb6)\" d=\"M 105.317391 115.92 \r\nL 25.918182 115.92 \r\n\" style=\"fill:none;stroke:#3f3f3f;stroke-linecap:square;stroke-width:1.5;\"/>\r\n   </g>\r\n   <g id=\"line2d_8\">\r\n    <path clip-path=\"url(#p535252fcb6)\" d=\"M 264.11581 115.92 \r\nL 330.281818 115.92 \r\n\" style=\"fill:none;stroke:#3f3f3f;stroke-linecap:square;stroke-width:1.5;\"/>\r\n   </g>\r\n   <g id=\"line2d_9\">\r\n    <path clip-path=\"url(#p535252fcb6)\" d=\"M 25.918182 72.432 \r\nL 25.918182 159.408 \r\n\" style=\"fill:none;stroke:#3f3f3f;stroke-linecap:square;stroke-width:1.5;\"/>\r\n   </g>\r\n   <g id=\"line2d_10\">\r\n    <path clip-path=\"url(#p535252fcb6)\" d=\"M 330.281818 72.432 \r\nL 330.281818 159.408 \r\n\" style=\"fill:none;stroke:#3f3f3f;stroke-linecap:square;stroke-width:1.5;\"/>\r\n   </g>\r\n   <g id=\"line2d_11\"/>\r\n   <g id=\"line2d_12\">\r\n    <path clip-path=\"url(#p535252fcb6)\" d=\"M 171.483399 28.944 \r\nL 171.483399 202.896 \r\n\" style=\"fill:none;stroke:#3f3f3f;stroke-linecap:square;stroke-width:1.5;\"/>\r\n   </g>\r\n   <g id=\"patch_4\">\r\n    <path d=\"M 10.7 224.64 \r\nL 10.7 7.2 \r\n\" style=\"fill:none;stroke:#000000;stroke-linecap:square;stroke-linejoin:miter;stroke-width:0.8;\"/>\r\n   </g>\r\n   <g id=\"patch_5\">\r\n    <path d=\"M 345.5 224.64 \r\nL 345.5 7.2 \r\n\" style=\"fill:none;stroke:#000000;stroke-linecap:square;stroke-linejoin:miter;stroke-width:0.8;\"/>\r\n   </g>\r\n   <g id=\"patch_6\">\r\n    <path d=\"M 10.7 224.64 \r\nL 345.5 224.64 \r\n\" style=\"fill:none;stroke:#000000;stroke-linecap:square;stroke-linejoin:miter;stroke-width:0.8;\"/>\r\n   </g>\r\n   <g id=\"patch_7\">\r\n    <path d=\"M 10.7 7.2 \r\nL 345.5 7.2 \r\n\" style=\"fill:none;stroke:#000000;stroke-linecap:square;stroke-linejoin:miter;stroke-width:0.8;\"/>\r\n   </g>\r\n  </g>\r\n </g>\r\n <defs>\r\n  <clipPath id=\"p535252fcb6\">\r\n   <rect height=\"217.44\" width=\"334.8\" x=\"10.7\" y=\"7.2\"/>\r\n  </clipPath>\r\n </defs>\r\n</svg>\r\n",
      "image/png": "[encoded data removed]"
     },
     "metadata": {
      "needs_background": "light"
     }
    }
   ],
   "source": [
    "# To cross check there are no missing values\n",
    "# we can use outliers\n",
    "# we can discover outliers using data visualization tools\n",
    "\n",
    "#First import seaborn library\n",
    "import seaborn as sns\n",
    "\n",
    "#Plot the boxplot using one column .On this case we used bluecar_counter\n",
    "sns.boxplot(x=dt['hour'])"
   ]
  },
  {
   "cell_type": "code",
   "execution_count": 10,
   "metadata": {},
   "outputs": [
    {
     "output_type": "execute_result",
     "data": {
      "text/plain": [
       "      bluecar_counter  charge_slots  charging_status   city    day   hour  \\\n",
       "0               False         False            False  False  False  False   \n",
       "1               False         False            False  False  False  False   \n",
       "2               False         False            False  False  False  False   \n",
       "3               False          True            False  False  False  False   \n",
       "4               False         False            False  False  False  False   \n",
       "...               ...           ...              ...    ...    ...    ...   \n",
       "4995            False         False            False  False  False  False   \n",
       "4996            False          True            False  False  False  False   \n",
       "4997            False          True            False  False  False  False   \n",
       "4998            False         False            False  False  False  False   \n",
       "4999            False         False            False  False  False  False   \n",
       "\n",
       "         id   kind  minute  postal_code  rental_status  slots  station_type  \\\n",
       "0     False  False   False        False          False  False         False   \n",
       "1     False  False   False        False          False  False         False   \n",
       "2     False  False   False        False          False  False         False   \n",
       "3     False  False   False        False          False  False         False   \n",
       "4     False  False   False        False          False  False         False   \n",
       "...     ...    ...     ...          ...            ...    ...           ...   \n",
       "4995  False  False   False        False          False  False         False   \n",
       "4996  False  False   False        False          False  False         False   \n",
       "4997  False  False   False        False          False  False         False   \n",
       "4998  False  False   False        False          False  False         False   \n",
       "4999  False  False   False        False          False  False         False   \n",
       "\n",
       "      status  subscription_status  utilib_1.4_counter  utilib_counter  \n",
       "0      False                False               False           False  \n",
       "1      False                False               False           False  \n",
       "2      False                False                True           False  \n",
       "3      False                False               False            True  \n",
       "4      False                False               False           False  \n",
       "...      ...                  ...                 ...             ...  \n",
       "4995   False                False               False           False  \n",
       "4996   False                False               False           False  \n",
       "4997   False                False               False           False  \n",
       "4998   False                False               False           False  \n",
       "4999   False                False               False           False  \n",
       "\n",
       "[5000 rows x 17 columns]"
      ],
      "text/html": "<div>\n<style scoped>\n    .dataframe tbody tr th:only-of-type {\n        vertical-align: middle;\n    }\n\n    .dataframe tbody tr th {\n        vertical-align: top;\n    }\n\n    .dataframe thead th {\n        text-align: right;\n    }\n</style>\n<table border=\"1\" class=\"dataframe\">\n  <thead>\n    <tr style=\"text-align: right;\">\n      <th></th>\n      <th>bluecar_counter</th>\n      <th>charge_slots</th>\n      <th>charging_status</th>\n      <th>city</th>\n      <th>day</th>\n      <th>hour</th>\n      <th>id</th>\n      <th>kind</th>\n      <th>minute</th>\n      <th>postal_code</th>\n      <th>rental_status</th>\n      <th>slots</th>\n      <th>station_type</th>\n      <th>status</th>\n      <th>subscription_status</th>\n      <th>utilib_1.4_counter</th>\n      <th>utilib_counter</th>\n    </tr>\n  </thead>\n  <tbody>\n    <tr>\n      <th>0</th>\n      <td>False</td>\n      <td>False</td>\n      <td>False</td>\n      <td>False</td>\n      <td>False</td>\n      <td>False</td>\n      <td>False</td>\n      <td>False</td>\n      <td>False</td>\n      <td>False</td>\n      <td>False</td>\n      <td>False</td>\n      <td>False</td>\n      <td>False</td>\n      <td>False</td>\n      <td>False</td>\n      <td>False</td>\n    </tr>\n    <tr>\n      <th>1</th>\n      <td>False</td>\n      <td>False</td>\n      <td>False</td>\n      <td>False</td>\n      <td>False</td>\n      <td>False</td>\n      <td>False</td>\n      <td>False</td>\n      <td>False</td>\n      <td>False</td>\n      <td>False</td>\n      <td>False</td>\n      <td>False</td>\n      <td>False</td>\n      <td>False</td>\n      <td>False</td>\n      <td>False</td>\n    </tr>\n    <tr>\n      <th>2</th>\n      <td>False</td>\n      <td>False</td>\n      <td>False</td>\n      <td>False</td>\n      <td>False</td>\n      <td>False</td>\n      <td>False</td>\n      <td>False</td>\n      <td>False</td>\n      <td>False</td>\n      <td>False</td>\n      <td>False</td>\n      <td>False</td>\n      <td>False</td>\n      <td>False</td>\n      <td>True</td>\n      <td>False</td>\n    </tr>\n    <tr>\n      <th>3</th>\n      <td>False</td>\n      <td>True</td>\n      <td>False</td>\n      <td>False</td>\n      <td>False</td>\n      <td>False</td>\n      <td>False</td>\n      <td>False</td>\n      <td>False</td>\n      <td>False</td>\n      <td>False</td>\n      <td>False</td>\n      <td>False</td>\n      <td>False</td>\n      <td>False</td>\n      <td>False</td>\n      <td>True</td>\n    </tr>\n    <tr>\n      <th>4</th>\n      <td>False</td>\n      <td>False</td>\n      <td>False</td>\n      <td>False</td>\n      <td>False</td>\n      <td>False</td>\n      <td>False</td>\n      <td>False</td>\n      <td>False</td>\n      <td>False</td>\n      <td>False</td>\n      <td>False</td>\n      <td>False</td>\n      <td>False</td>\n      <td>False</td>\n      <td>False</td>\n      <td>False</td>\n    </tr>\n    <tr>\n      <th>...</th>\n      <td>...</td>\n      <td>...</td>\n      <td>...</td>\n      <td>...</td>\n      <td>...</td>\n      <td>...</td>\n      <td>...</td>\n      <td>...</td>\n      <td>...</td>\n      <td>...</td>\n      <td>...</td>\n      <td>...</td>\n      <td>...</td>\n      <td>...</td>\n      <td>...</td>\n      <td>...</td>\n      <td>...</td>\n    </tr>\n    <tr>\n      <th>4995</th>\n      <td>False</td>\n      <td>False</td>\n      <td>False</td>\n      <td>False</td>\n      <td>False</td>\n      <td>False</td>\n      <td>False</td>\n      <td>False</td>\n      <td>False</td>\n      <td>False</td>\n      <td>False</td>\n      <td>False</td>\n      <td>False</td>\n      <td>False</td>\n      <td>False</td>\n      <td>False</td>\n      <td>False</td>\n    </tr>\n    <tr>\n      <th>4996</th>\n      <td>False</td>\n      <td>True</td>\n      <td>False</td>\n      <td>False</td>\n      <td>False</td>\n      <td>False</td>\n      <td>False</td>\n      <td>False</td>\n      <td>False</td>\n      <td>False</td>\n      <td>False</td>\n      <td>False</td>\n      <td>False</td>\n      <td>False</td>\n      <td>False</td>\n      <td>False</td>\n      <td>False</td>\n    </tr>\n    <tr>\n      <th>4997</th>\n      <td>False</td>\n      <td>True</td>\n      <td>False</td>\n      <td>False</td>\n      <td>False</td>\n      <td>False</td>\n      <td>False</td>\n      <td>False</td>\n      <td>False</td>\n      <td>False</td>\n      <td>False</td>\n      <td>False</td>\n      <td>False</td>\n      <td>False</td>\n      <td>False</td>\n      <td>False</td>\n      <td>False</td>\n    </tr>\n    <tr>\n      <th>4998</th>\n      <td>False</td>\n      <td>False</td>\n      <td>False</td>\n      <td>False</td>\n      <td>False</td>\n      <td>False</td>\n      <td>False</td>\n      <td>False</td>\n      <td>False</td>\n      <td>False</td>\n      <td>False</td>\n      <td>False</td>\n      <td>False</td>\n      <td>False</td>\n      <td>False</td>\n      <td>False</td>\n      <td>False</td>\n    </tr>\n    <tr>\n      <th>4999</th>\n      <td>False</td>\n      <td>False</td>\n      <td>False</td>\n      <td>False</td>\n      <td>False</td>\n      <td>False</td>\n      <td>False</td>\n      <td>False</td>\n      <td>False</td>\n      <td>False</td>\n      <td>False</td>\n      <td>False</td>\n      <td>False</td>\n      <td>False</td>\n      <td>False</td>\n      <td>False</td>\n      <td>False</td>\n    </tr>\n  </tbody>\n</table>\n<p>5000 rows × 17 columns</p>\n</div>"
     },
     "metadata": {},
     "execution_count": 10
    }
   ],
   "source": [
    "Q1 = dt.quantile(0.25)\n",
    "Q3 = dt.quantile(0.75)\n",
    "\n",
    "IQR = Q3 - Q1\n",
    "\n",
    "(dt < (Q1 - 1.5 * IQR)) |(dt > (Q3 + 1.5 * IQR))\n",
    "\n",
    "\n",
    "# The two commented lines of code below can be used to drop the outliers but for now I will not drop them since the data\n",
    "#does not seem to have outliers.\n",
    "# This is due to the range of each column.\n",
    "\n",
    "# Autolib_no_outlier = Electric[~((Autolib < (Q1 - 1.5 * IQR)) | (Autolib > (Q3 + 1.5 * IQR))).any(axis = 1)]\n",
    "\n",
    "# print(Autolib_no_outlier)"
   ]
  },
  {
   "source": [
    "# Consitency\n",
    "* Checking for duplicates"
   ],
   "cell_type": "markdown",
   "metadata": {}
  },
  {
   "cell_type": "code",
   "execution_count": 11,
   "metadata": {},
   "outputs": [
    {
     "output_type": "execute_result",
     "data": {
      "text/plain": [
       "0"
      ]
     },
     "metadata": {},
     "execution_count": 11
    }
   ],
   "source": [
    "# Duplicates are data points that are repeated in our dataset. \n",
    "# These should be simply removed.\n",
    "#To check if our dataset has duplicate values, we use the duplicated function\n",
    "dt.duplicated().sum()\n",
    "\n",
    "#There are zero duplicates\n",
    "\n",
    "#Data Cleaning Action: No action taken\n",
    "#Explanation: There were no typos"
   ]
  },
  {
   "source": [
    "# Uniformity\n",
    "* Standardization - Renaming column names\n",
    "* Fixing messy column names\n",
    "* Date Type Conversion"
   ],
   "cell_type": "markdown",
   "metadata": {}
  },
  {
   "cell_type": "code",
   "execution_count": 12,
   "metadata": {},
   "outputs": [
    {
     "output_type": "execute_result",
     "data": {
      "text/plain": [
       "Index(['bluecar_counter', 'utilib_counter', 'utilib_1.4_counter',\n",
       "       'charge_slots', 'charging_status', 'city', 'id', 'kind', 'postal_code',\n",
       "       'rental_status', 'slots', 'station_type', 'status',\n",
       "       'subscription_status', 'day', 'hour', 'minute'],\n",
       "      dtype='object')"
      ]
     },
     "metadata": {},
     "execution_count": 12
    }
   ],
   "source": [
    "dt.columns"
   ]
  },
  {
   "cell_type": "code",
   "execution_count": 13,
   "metadata": {},
   "outputs": [
    {
     "output_type": "execute_result",
     "data": {
      "text/plain": [
       "   bluecar_counter  utilib_counter  utilib_1.4_counter  charge_slots  \\\n",
       "0                0               0                   0             0   \n",
       "1                6               0                   0             0   \n",
       "2                3               0                   2             0   \n",
       "3                3               1                   0             1   \n",
       "4                3               0                   0             0   \n",
       "\n",
       "  charging_status        city                       Station Name     kind  \\\n",
       "0     nonexistent       Paris                    paris-suffren-2  STATION   \n",
       "1     operational       Paris         paris-raymondlosserand-145  STATION   \n",
       "2     operational  Le Bourget  lebourget-johnfitzgeraldkennedy-2  STATION   \n",
       "3     operational       Paris              paris-eugeneoudine-51  STATION   \n",
       "4     nonexistent       Paris          paris-portedechamperret-6  PARKING   \n",
       "\n",
       "   postal_code rental_status  slots station_type status subscription_status  \\\n",
       "0        75015   operational      2      station     ok         nonexistent   \n",
       "1        75014   operational      0      station     ok         nonexistent   \n",
       "2        93350   operational      1      station     ok         nonexistent   \n",
       "3        75013   operational      2      station     ok         nonexistent   \n",
       "4        75017   operational      3      station     ok         nonexistent   \n",
       "\n",
       "   day  hour  minute  \n",
       "0    8    11      43  \n",
       "1    6     7      24  \n",
       "2    3    20      14  \n",
       "3    4     4      37  \n",
       "4    8    17      23  "
      ],
      "text/html": "<div>\n<style scoped>\n    .dataframe tbody tr th:only-of-type {\n        vertical-align: middle;\n    }\n\n    .dataframe tbody tr th {\n        vertical-align: top;\n    }\n\n    .dataframe thead th {\n        text-align: right;\n    }\n</style>\n<table border=\"1\" class=\"dataframe\">\n  <thead>\n    <tr style=\"text-align: right;\">\n      <th></th>\n      <th>bluecar_counter</th>\n      <th>utilib_counter</th>\n      <th>utilib_1.4_counter</th>\n      <th>charge_slots</th>\n      <th>charging_status</th>\n      <th>city</th>\n      <th>Station Name</th>\n      <th>kind</th>\n      <th>postal_code</th>\n      <th>rental_status</th>\n      <th>slots</th>\n      <th>station_type</th>\n      <th>status</th>\n      <th>subscription_status</th>\n      <th>day</th>\n      <th>hour</th>\n      <th>minute</th>\n    </tr>\n  </thead>\n  <tbody>\n    <tr>\n      <th>0</th>\n      <td>0</td>\n      <td>0</td>\n      <td>0</td>\n      <td>0</td>\n      <td>nonexistent</td>\n      <td>Paris</td>\n      <td>paris-suffren-2</td>\n      <td>STATION</td>\n      <td>75015</td>\n      <td>operational</td>\n      <td>2</td>\n      <td>station</td>\n      <td>ok</td>\n      <td>nonexistent</td>\n      <td>8</td>\n      <td>11</td>\n      <td>43</td>\n    </tr>\n    <tr>\n      <th>1</th>\n      <td>6</td>\n      <td>0</td>\n      <td>0</td>\n      <td>0</td>\n      <td>operational</td>\n      <td>Paris</td>\n      <td>paris-raymondlosserand-145</td>\n      <td>STATION</td>\n      <td>75014</td>\n      <td>operational</td>\n      <td>0</td>\n      <td>station</td>\n      <td>ok</td>\n      <td>nonexistent</td>\n      <td>6</td>\n      <td>7</td>\n      <td>24</td>\n    </tr>\n    <tr>\n      <th>2</th>\n      <td>3</td>\n      <td>0</td>\n      <td>2</td>\n      <td>0</td>\n      <td>operational</td>\n      <td>Le Bourget</td>\n      <td>lebourget-johnfitzgeraldkennedy-2</td>\n      <td>STATION</td>\n      <td>93350</td>\n      <td>operational</td>\n      <td>1</td>\n      <td>station</td>\n      <td>ok</td>\n      <td>nonexistent</td>\n      <td>3</td>\n      <td>20</td>\n      <td>14</td>\n    </tr>\n    <tr>\n      <th>3</th>\n      <td>3</td>\n      <td>1</td>\n      <td>0</td>\n      <td>1</td>\n      <td>operational</td>\n      <td>Paris</td>\n      <td>paris-eugeneoudine-51</td>\n      <td>STATION</td>\n      <td>75013</td>\n      <td>operational</td>\n      <td>2</td>\n      <td>station</td>\n      <td>ok</td>\n      <td>nonexistent</td>\n      <td>4</td>\n      <td>4</td>\n      <td>37</td>\n    </tr>\n    <tr>\n      <th>4</th>\n      <td>3</td>\n      <td>0</td>\n      <td>0</td>\n      <td>0</td>\n      <td>nonexistent</td>\n      <td>Paris</td>\n      <td>paris-portedechamperret-6</td>\n      <td>PARKING</td>\n      <td>75017</td>\n      <td>operational</td>\n      <td>3</td>\n      <td>station</td>\n      <td>ok</td>\n      <td>nonexistent</td>\n      <td>8</td>\n      <td>17</td>\n      <td>23</td>\n    </tr>\n  </tbody>\n</table>\n</div>"
     },
     "metadata": {},
     "execution_count": 13
    }
   ],
   "source": [
    "# according to the data set description \n",
    "# station name is also id\n",
    "dt = dt.rename({'id': 'Station Name'}, axis='columns')\n",
    "dt.head()\n"
   ]
  },
  {
   "cell_type": "code",
   "execution_count": 14,
   "metadata": {},
   "outputs": [
    {
     "output_type": "execute_result",
     "data": {
      "text/plain": [
       "   bluecar_counter  utilib_counter  utilib_1.4_counter  charge_slots  \\\n",
       "0                0               0                   0             0   \n",
       "1                6               0                   0             0   \n",
       "2                3               0                   2             0   \n",
       "3                3               1                   0             1   \n",
       "4                3               0                   0             0   \n",
       "\n",
       "  charging_status        city                       Station Name     kind  \\\n",
       "0     nonexistent       Paris                    paris-suffren-2  STATION   \n",
       "1     operational       Paris         paris-raymondlosserand-145  STATION   \n",
       "2     operational  Le Bourget  lebourget-johnfitzgeraldkennedy-2  STATION   \n",
       "3     operational       Paris              paris-eugeneoudine-51  STATION   \n",
       "4     nonexistent       Paris          paris-portedechamperret-6  PARKING   \n",
       "\n",
       "   postal_code rental_status  slots station_type status subscription_status  \\\n",
       "0        75015   operational      2      station     ok         nonexistent   \n",
       "1        75014   operational      0      station     ok         nonexistent   \n",
       "2        93350   operational      1      station     ok         nonexistent   \n",
       "3        75013   operational      2      station     ok         nonexistent   \n",
       "4        75017   operational      3      station     ok         nonexistent   \n",
       "\n",
       "   day  hour  minute  \n",
       "0    8    11      43  \n",
       "1    6     7      24  \n",
       "2    3    20      14  \n",
       "3    4     4      37  \n",
       "4    8    17      23  "
      ],
      "text/html": "<div>\n<style scoped>\n    .dataframe tbody tr th:only-of-type {\n        vertical-align: middle;\n    }\n\n    .dataframe tbody tr th {\n        vertical-align: top;\n    }\n\n    .dataframe thead th {\n        text-align: right;\n    }\n</style>\n<table border=\"1\" class=\"dataframe\">\n  <thead>\n    <tr style=\"text-align: right;\">\n      <th></th>\n      <th>bluecar_counter</th>\n      <th>utilib_counter</th>\n      <th>utilib_1.4_counter</th>\n      <th>charge_slots</th>\n      <th>charging_status</th>\n      <th>city</th>\n      <th>Station Name</th>\n      <th>kind</th>\n      <th>postal_code</th>\n      <th>rental_status</th>\n      <th>slots</th>\n      <th>station_type</th>\n      <th>status</th>\n      <th>subscription_status</th>\n      <th>day</th>\n      <th>hour</th>\n      <th>minute</th>\n    </tr>\n  </thead>\n  <tbody>\n    <tr>\n      <th>0</th>\n      <td>0</td>\n      <td>0</td>\n      <td>0</td>\n      <td>0</td>\n      <td>nonexistent</td>\n      <td>Paris</td>\n      <td>paris-suffren-2</td>\n      <td>STATION</td>\n      <td>75015</td>\n      <td>operational</td>\n      <td>2</td>\n      <td>station</td>\n      <td>ok</td>\n      <td>nonexistent</td>\n      <td>8</td>\n      <td>11</td>\n      <td>43</td>\n    </tr>\n    <tr>\n      <th>1</th>\n      <td>6</td>\n      <td>0</td>\n      <td>0</td>\n      <td>0</td>\n      <td>operational</td>\n      <td>Paris</td>\n      <td>paris-raymondlosserand-145</td>\n      <td>STATION</td>\n      <td>75014</td>\n      <td>operational</td>\n      <td>0</td>\n      <td>station</td>\n      <td>ok</td>\n      <td>nonexistent</td>\n      <td>6</td>\n      <td>7</td>\n      <td>24</td>\n    </tr>\n    <tr>\n      <th>2</th>\n      <td>3</td>\n      <td>0</td>\n      <td>2</td>\n      <td>0</td>\n      <td>operational</td>\n      <td>Le Bourget</td>\n      <td>lebourget-johnfitzgeraldkennedy-2</td>\n      <td>STATION</td>\n      <td>93350</td>\n      <td>operational</td>\n      <td>1</td>\n      <td>station</td>\n      <td>ok</td>\n      <td>nonexistent</td>\n      <td>3</td>\n      <td>20</td>\n      <td>14</td>\n    </tr>\n    <tr>\n      <th>3</th>\n      <td>3</td>\n      <td>1</td>\n      <td>0</td>\n      <td>1</td>\n      <td>operational</td>\n      <td>Paris</td>\n      <td>paris-eugeneoudine-51</td>\n      <td>STATION</td>\n      <td>75013</td>\n      <td>operational</td>\n      <td>2</td>\n      <td>station</td>\n      <td>ok</td>\n      <td>nonexistent</td>\n      <td>4</td>\n      <td>4</td>\n      <td>37</td>\n    </tr>\n    <tr>\n      <th>4</th>\n      <td>3</td>\n      <td>0</td>\n      <td>0</td>\n      <td>0</td>\n      <td>nonexistent</td>\n      <td>Paris</td>\n      <td>paris-portedechamperret-6</td>\n      <td>PARKING</td>\n      <td>75017</td>\n      <td>operational</td>\n      <td>3</td>\n      <td>station</td>\n      <td>ok</td>\n      <td>nonexistent</td>\n      <td>8</td>\n      <td>17</td>\n      <td>23</td>\n    </tr>\n  </tbody>\n</table>\n</div>"
     },
     "metadata": {},
     "execution_count": 14
    }
   ],
   "source": [
    "# Filtering of data\n",
    "#  for final data set\n",
    "#filtering out the operational data we do not need the broken ones.\n",
    "\n",
    "\n",
    "dt1 = dt[dt.rental_status == 'operational']\n",
    "dt.head()"
   ]
  },
  {
   "cell_type": "code",
   "execution_count": 15,
   "metadata": {},
   "outputs": [
    {
     "output_type": "stream",
     "name": "stdout",
     "text": [
      "<class 'pandas.core.frame.DataFrame'>\nRangeIndex: 5000 entries, 0 to 4999\nData columns (total 17 columns):\n #   Column               Non-Null Count  Dtype \n---  ------               --------------  ----- \n 0   bluecar_counter      5000 non-null   int64 \n 1   utilib_counter       5000 non-null   int64 \n 2   utilib_1.4_counter   5000 non-null   int64 \n 3   charge_slots         5000 non-null   int64 \n 4   charging_status      5000 non-null   object\n 5   city                 5000 non-null   object\n 6   Station Name         5000 non-null   object\n 7   kind                 5000 non-null   object\n 8   postal_code          5000 non-null   int64 \n 9   rental_status        5000 non-null   object\n 10  slots                5000 non-null   int64 \n 11  station_type         5000 non-null   object\n 12  status               5000 non-null   object\n 13  subscription_status  5000 non-null   object\n 14  day                  5000 non-null   int64 \n 15  hour                 5000 non-null   int64 \n 16  minute               5000 non-null   int64 \ndtypes: int64(9), object(8)\nmemory usage: 664.2+ KB\n"
     ]
    }
   ],
   "source": [
    "#checking out the info\n",
    "dt.info()"
   ]
  },
  {
   "source": [
    "# Exporting the cleaned data set"
   ],
   "cell_type": "markdown",
   "metadata": {}
  },
  {
   "cell_type": "code",
   "execution_count": null,
   "metadata": {},
   "outputs": [],
   "source": [
    "# export to clean\n",
    "\n",
    "dataclean = dt1.to_csv('dataclean')\n",
    "\n"
   ]
  },
  {
   "cell_type": "code",
   "execution_count": 16,
   "metadata": {},
   "outputs": [
    {
     "output_type": "execute_result",
     "data": {
      "text/plain": [
       "   Unnamed: 0  bluecar_counter  utilib_counter  utilib_1.4_counter  \\\n",
       "0           0                0               0                   0   \n",
       "1           1                6               0                   0   \n",
       "2           2                3               0                   2   \n",
       "3           3                3               1                   0   \n",
       "4           4                3               0                   0   \n",
       "\n",
       "   charge_slots charging_status        city  \\\n",
       "0             0     nonexistent       Paris   \n",
       "1             0     operational       Paris   \n",
       "2             0     operational  Le Bourget   \n",
       "3             1     operational       Paris   \n",
       "4             0     nonexistent       Paris   \n",
       "\n",
       "                        station_name     kind  postal_code rental_status  \\\n",
       "0                    paris/suffren/2  STATION        75015   operational   \n",
       "1         paris/raymondlosserand/145  STATION        75014   operational   \n",
       "2  lebourget/johnfitzgeraldkennedy/2  STATION        93350   operational   \n",
       "3              paris/eugeneoudine/51  STATION        75013   operational   \n",
       "4          paris/portedechamperret/6  PARKING        75017   operational   \n",
       "\n",
       "   slots station_type status subscription_status  day  hour  minute  date  \n",
       "0      2      station     ok         nonexistent    8    11      43     8  \n",
       "1      0      station     ok         nonexistent    6     7      24     6  \n",
       "2      1      station     ok         nonexistent    3    20      14     3  \n",
       "3      2      station     ok         nonexistent    4     4      37     4  \n",
       "4      3      station     ok         nonexistent    8    17      23     8  "
      ],
      "text/html": "<div>\n<style scoped>\n    .dataframe tbody tr th:only-of-type {\n        vertical-align: middle;\n    }\n\n    .dataframe tbody tr th {\n        vertical-align: top;\n    }\n\n    .dataframe thead th {\n        text-align: right;\n    }\n</style>\n<table border=\"1\" class=\"dataframe\">\n  <thead>\n    <tr style=\"text-align: right;\">\n      <th></th>\n      <th>Unnamed: 0</th>\n      <th>bluecar_counter</th>\n      <th>utilib_counter</th>\n      <th>utilib_1.4_counter</th>\n      <th>charge_slots</th>\n      <th>charging_status</th>\n      <th>city</th>\n      <th>station_name</th>\n      <th>kind</th>\n      <th>postal_code</th>\n      <th>rental_status</th>\n      <th>slots</th>\n      <th>station_type</th>\n      <th>status</th>\n      <th>subscription_status</th>\n      <th>day</th>\n      <th>hour</th>\n      <th>minute</th>\n      <th>date</th>\n    </tr>\n  </thead>\n  <tbody>\n    <tr>\n      <th>0</th>\n      <td>0</td>\n      <td>0</td>\n      <td>0</td>\n      <td>0</td>\n      <td>0</td>\n      <td>nonexistent</td>\n      <td>Paris</td>\n      <td>paris/suffren/2</td>\n      <td>STATION</td>\n      <td>75015</td>\n      <td>operational</td>\n      <td>2</td>\n      <td>station</td>\n      <td>ok</td>\n      <td>nonexistent</td>\n      <td>8</td>\n      <td>11</td>\n      <td>43</td>\n      <td>8</td>\n    </tr>\n    <tr>\n      <th>1</th>\n      <td>1</td>\n      <td>6</td>\n      <td>0</td>\n      <td>0</td>\n      <td>0</td>\n      <td>operational</td>\n      <td>Paris</td>\n      <td>paris/raymondlosserand/145</td>\n      <td>STATION</td>\n      <td>75014</td>\n      <td>operational</td>\n      <td>0</td>\n      <td>station</td>\n      <td>ok</td>\n      <td>nonexistent</td>\n      <td>6</td>\n      <td>7</td>\n      <td>24</td>\n      <td>6</td>\n    </tr>\n    <tr>\n      <th>2</th>\n      <td>2</td>\n      <td>3</td>\n      <td>0</td>\n      <td>2</td>\n      <td>0</td>\n      <td>operational</td>\n      <td>Le Bourget</td>\n      <td>lebourget/johnfitzgeraldkennedy/2</td>\n      <td>STATION</td>\n      <td>93350</td>\n      <td>operational</td>\n      <td>1</td>\n      <td>station</td>\n      <td>ok</td>\n      <td>nonexistent</td>\n      <td>3</td>\n      <td>20</td>\n      <td>14</td>\n      <td>3</td>\n    </tr>\n    <tr>\n      <th>3</th>\n      <td>3</td>\n      <td>3</td>\n      <td>1</td>\n      <td>0</td>\n      <td>1</td>\n      <td>operational</td>\n      <td>Paris</td>\n      <td>paris/eugeneoudine/51</td>\n      <td>STATION</td>\n      <td>75013</td>\n      <td>operational</td>\n      <td>2</td>\n      <td>station</td>\n      <td>ok</td>\n      <td>nonexistent</td>\n      <td>4</td>\n      <td>4</td>\n      <td>37</td>\n      <td>4</td>\n    </tr>\n    <tr>\n      <th>4</th>\n      <td>4</td>\n      <td>3</td>\n      <td>0</td>\n      <td>0</td>\n      <td>0</td>\n      <td>nonexistent</td>\n      <td>Paris</td>\n      <td>paris/portedechamperret/6</td>\n      <td>PARKING</td>\n      <td>75017</td>\n      <td>operational</td>\n      <td>3</td>\n      <td>station</td>\n      <td>ok</td>\n      <td>nonexistent</td>\n      <td>8</td>\n      <td>17</td>\n      <td>23</td>\n      <td>8</td>\n    </tr>\n  </tbody>\n</table>\n</div>"
     },
     "metadata": {},
     "execution_count": 16
    }
   ],
   "source": [
    "#reading the csv file\n",
    "cars = pd.read_csv('data/dataclean', encoding = 'utf8')\n",
    "cars.head()"
   ]
  },
  {
   "cell_type": "code",
   "execution_count": 24,
   "metadata": {},
   "outputs": [],
   "source": [
    "#our new clean file adopted the index of the previous one\n",
    "cars.drop(['Unnamed: 0'], axis=1, inplace=True)\n"
   ]
  },
  {
   "cell_type": "code",
   "execution_count": 25,
   "metadata": {},
   "outputs": [
    {
     "output_type": "execute_result",
     "data": {
      "text/plain": [
       "   bluecar_counter  utilib_counter  utilib_1.4_counter  charge_slots  \\\n",
       "0                0               0                   0             0   \n",
       "1                6               0                   0             0   \n",
       "2                3               0                   2             0   \n",
       "3                3               1                   0             1   \n",
       "4                3               0                   0             0   \n",
       "\n",
       "  charging_status        city                       station_name     kind  \\\n",
       "0     nonexistent       Paris                    paris/suffren/2  STATION   \n",
       "1     operational       Paris         paris/raymondlosserand/145  STATION   \n",
       "2     operational  Le Bourget  lebourget/johnfitzgeraldkennedy/2  STATION   \n",
       "3     operational       Paris              paris/eugeneoudine/51  STATION   \n",
       "4     nonexistent       Paris          paris/portedechamperret/6  PARKING   \n",
       "\n",
       "   postal_code rental_status  slots station_type status subscription_status  \\\n",
       "0        75015   operational      2      station     ok         nonexistent   \n",
       "1        75014   operational      0      station     ok         nonexistent   \n",
       "2        93350   operational      1      station     ok         nonexistent   \n",
       "3        75013   operational      2      station     ok         nonexistent   \n",
       "4        75017   operational      3      station     ok         nonexistent   \n",
       "\n",
       "   day  hour  minute  date  \n",
       "0    8    11      43     8  \n",
       "1    6     7      24     6  \n",
       "2    3    20      14     3  \n",
       "3    4     4      37     4  \n",
       "4    8    17      23     8  "
      ],
      "text/html": "<div>\n<style scoped>\n    .dataframe tbody tr th:only-of-type {\n        vertical-align: middle;\n    }\n\n    .dataframe tbody tr th {\n        vertical-align: top;\n    }\n\n    .dataframe thead th {\n        text-align: right;\n    }\n</style>\n<table border=\"1\" class=\"dataframe\">\n  <thead>\n    <tr style=\"text-align: right;\">\n      <th></th>\n      <th>bluecar_counter</th>\n      <th>utilib_counter</th>\n      <th>utilib_1.4_counter</th>\n      <th>charge_slots</th>\n      <th>charging_status</th>\n      <th>city</th>\n      <th>station_name</th>\n      <th>kind</th>\n      <th>postal_code</th>\n      <th>rental_status</th>\n      <th>slots</th>\n      <th>station_type</th>\n      <th>status</th>\n      <th>subscription_status</th>\n      <th>day</th>\n      <th>hour</th>\n      <th>minute</th>\n      <th>date</th>\n    </tr>\n  </thead>\n  <tbody>\n    <tr>\n      <th>0</th>\n      <td>0</td>\n      <td>0</td>\n      <td>0</td>\n      <td>0</td>\n      <td>nonexistent</td>\n      <td>Paris</td>\n      <td>paris/suffren/2</td>\n      <td>STATION</td>\n      <td>75015</td>\n      <td>operational</td>\n      <td>2</td>\n      <td>station</td>\n      <td>ok</td>\n      <td>nonexistent</td>\n      <td>8</td>\n      <td>11</td>\n      <td>43</td>\n      <td>8</td>\n    </tr>\n    <tr>\n      <th>1</th>\n      <td>6</td>\n      <td>0</td>\n      <td>0</td>\n      <td>0</td>\n      <td>operational</td>\n      <td>Paris</td>\n      <td>paris/raymondlosserand/145</td>\n      <td>STATION</td>\n      <td>75014</td>\n      <td>operational</td>\n      <td>0</td>\n      <td>station</td>\n      <td>ok</td>\n      <td>nonexistent</td>\n      <td>6</td>\n      <td>7</td>\n      <td>24</td>\n      <td>6</td>\n    </tr>\n    <tr>\n      <th>2</th>\n      <td>3</td>\n      <td>0</td>\n      <td>2</td>\n      <td>0</td>\n      <td>operational</td>\n      <td>Le Bourget</td>\n      <td>lebourget/johnfitzgeraldkennedy/2</td>\n      <td>STATION</td>\n      <td>93350</td>\n      <td>operational</td>\n      <td>1</td>\n      <td>station</td>\n      <td>ok</td>\n      <td>nonexistent</td>\n      <td>3</td>\n      <td>20</td>\n      <td>14</td>\n      <td>3</td>\n    </tr>\n    <tr>\n      <th>3</th>\n      <td>3</td>\n      <td>1</td>\n      <td>0</td>\n      <td>1</td>\n      <td>operational</td>\n      <td>Paris</td>\n      <td>paris/eugeneoudine/51</td>\n      <td>STATION</td>\n      <td>75013</td>\n      <td>operational</td>\n      <td>2</td>\n      <td>station</td>\n      <td>ok</td>\n      <td>nonexistent</td>\n      <td>4</td>\n      <td>4</td>\n      <td>37</td>\n      <td>4</td>\n    </tr>\n    <tr>\n      <th>4</th>\n      <td>3</td>\n      <td>0</td>\n      <td>0</td>\n      <td>0</td>\n      <td>nonexistent</td>\n      <td>Paris</td>\n      <td>paris/portedechamperret/6</td>\n      <td>PARKING</td>\n      <td>75017</td>\n      <td>operational</td>\n      <td>3</td>\n      <td>station</td>\n      <td>ok</td>\n      <td>nonexistent</td>\n      <td>8</td>\n      <td>17</td>\n      <td>23</td>\n      <td>8</td>\n    </tr>\n  </tbody>\n</table>\n</div>"
     },
     "metadata": {},
     "execution_count": 25
    }
   ],
   "source": [
    "cars.head()"
   ]
  },
  {
   "cell_type": "code",
   "execution_count": 26,
   "metadata": {},
   "outputs": [
    {
     "output_type": "execute_result",
     "data": {
      "text/plain": [
       "(4618, 18)"
      ]
     },
     "metadata": {},
     "execution_count": 26
    }
   ],
   "source": [
    "cars.shape"
   ]
  },
  {
   "cell_type": "code",
   "execution_count": 27,
   "metadata": {},
   "outputs": [
    {
     "output_type": "execute_result",
     "data": {
      "text/plain": [
       "       bluecar_counter  utilib_counter  utilib_1.4_counter  charge_slots  \\\n",
       "count      4618.000000      4618.00000         4618.000000   4618.000000   \n",
       "mean          2.526635         0.06453            0.133175      0.274361   \n",
       "std           1.999308         0.25608            0.369130      0.563373   \n",
       "min           0.000000         0.00000            0.000000      0.000000   \n",
       "25%           1.000000         0.00000            0.000000      0.000000   \n",
       "50%           2.000000         0.00000            0.000000      0.000000   \n",
       "75%           4.000000         0.00000            0.000000      0.000000   \n",
       "max           7.000000         2.00000            3.000000      2.000000   \n",
       "\n",
       "        postal_code        slots          day         hour       minute  \\\n",
       "count   4618.000000  4618.000000  4618.000000  4618.000000  4618.000000   \n",
       "mean   82527.600043     2.092248     4.939801    11.521871    29.378302   \n",
       "std     8813.323677     1.896425     2.595429     6.883012    17.232702   \n",
       "min    75001.000000     0.000000     1.000000     0.000000     0.000000   \n",
       "25%    75012.000000     0.000000     3.000000     6.000000    15.000000   \n",
       "50%    75019.000000     2.000000     5.000000    12.000000    29.000000   \n",
       "75%    92310.000000     4.000000     7.000000    17.750000    44.000000   \n",
       "max    95880.000000     7.000000     9.000000    23.000000    59.000000   \n",
       "\n",
       "              date  \n",
       "count  4618.000000  \n",
       "mean      4.939801  \n",
       "std       2.595429  \n",
       "min       1.000000  \n",
       "25%       3.000000  \n",
       "50%       5.000000  \n",
       "75%       7.000000  \n",
       "max       9.000000  "
      ],
      "text/html": "<div>\n<style scoped>\n    .dataframe tbody tr th:only-of-type {\n        vertical-align: middle;\n    }\n\n    .dataframe tbody tr th {\n        vertical-align: top;\n    }\n\n    .dataframe thead th {\n        text-align: right;\n    }\n</style>\n<table border=\"1\" class=\"dataframe\">\n  <thead>\n    <tr style=\"text-align: right;\">\n      <th></th>\n      <th>bluecar_counter</th>\n      <th>utilib_counter</th>\n      <th>utilib_1.4_counter</th>\n      <th>charge_slots</th>\n      <th>postal_code</th>\n      <th>slots</th>\n      <th>day</th>\n      <th>hour</th>\n      <th>minute</th>\n      <th>date</th>\n    </tr>\n  </thead>\n  <tbody>\n    <tr>\n      <th>count</th>\n      <td>4618.000000</td>\n      <td>4618.00000</td>\n      <td>4618.000000</td>\n      <td>4618.000000</td>\n      <td>4618.000000</td>\n      <td>4618.000000</td>\n      <td>4618.000000</td>\n      <td>4618.000000</td>\n      <td>4618.000000</td>\n      <td>4618.000000</td>\n    </tr>\n    <tr>\n      <th>mean</th>\n      <td>2.526635</td>\n      <td>0.06453</td>\n      <td>0.133175</td>\n      <td>0.274361</td>\n      <td>82527.600043</td>\n      <td>2.092248</td>\n      <td>4.939801</td>\n      <td>11.521871</td>\n      <td>29.378302</td>\n      <td>4.939801</td>\n    </tr>\n    <tr>\n      <th>std</th>\n      <td>1.999308</td>\n      <td>0.25608</td>\n      <td>0.369130</td>\n      <td>0.563373</td>\n      <td>8813.323677</td>\n      <td>1.896425</td>\n      <td>2.595429</td>\n      <td>6.883012</td>\n      <td>17.232702</td>\n      <td>2.595429</td>\n    </tr>\n    <tr>\n      <th>min</th>\n      <td>0.000000</td>\n      <td>0.00000</td>\n      <td>0.000000</td>\n      <td>0.000000</td>\n      <td>75001.000000</td>\n      <td>0.000000</td>\n      <td>1.000000</td>\n      <td>0.000000</td>\n      <td>0.000000</td>\n      <td>1.000000</td>\n    </tr>\n    <tr>\n      <th>25%</th>\n      <td>1.000000</td>\n      <td>0.00000</td>\n      <td>0.000000</td>\n      <td>0.000000</td>\n      <td>75012.000000</td>\n      <td>0.000000</td>\n      <td>3.000000</td>\n      <td>6.000000</td>\n      <td>15.000000</td>\n      <td>3.000000</td>\n    </tr>\n    <tr>\n      <th>50%</th>\n      <td>2.000000</td>\n      <td>0.00000</td>\n      <td>0.000000</td>\n      <td>0.000000</td>\n      <td>75019.000000</td>\n      <td>2.000000</td>\n      <td>5.000000</td>\n      <td>12.000000</td>\n      <td>29.000000</td>\n      <td>5.000000</td>\n    </tr>\n    <tr>\n      <th>75%</th>\n      <td>4.000000</td>\n      <td>0.00000</td>\n      <td>0.000000</td>\n      <td>0.000000</td>\n      <td>92310.000000</td>\n      <td>4.000000</td>\n      <td>7.000000</td>\n      <td>17.750000</td>\n      <td>44.000000</td>\n      <td>7.000000</td>\n    </tr>\n    <tr>\n      <th>max</th>\n      <td>7.000000</td>\n      <td>2.00000</td>\n      <td>3.000000</td>\n      <td>2.000000</td>\n      <td>95880.000000</td>\n      <td>7.000000</td>\n      <td>9.000000</td>\n      <td>23.000000</td>\n      <td>59.000000</td>\n      <td>9.000000</td>\n    </tr>\n  </tbody>\n</table>\n</div>"
     },
     "metadata": {},
     "execution_count": 27
    }
   ],
   "source": [
    "cars.describe()"
   ]
  },
  {
   "cell_type": "code",
   "execution_count": 29,
   "metadata": {},
   "outputs": [
    {
     "output_type": "execute_result",
     "data": {
      "text/plain": [
       "bluecar_counter        False\n",
       "utilib_counter         False\n",
       "utilib_1.4_counter     False\n",
       "charge_slots           False\n",
       "charging_status        False\n",
       "city                   False\n",
       "station_name           False\n",
       "kind                   False\n",
       "postal_code            False\n",
       "rental_status          False\n",
       "slots                  False\n",
       "station_type           False\n",
       "status                 False\n",
       "subscription_status    False\n",
       "day                    False\n",
       "hour                   False\n",
       "minute                 False\n",
       "date                   False\n",
       "dtype: bool"
      ]
     },
     "metadata": {},
     "execution_count": 29
    }
   ],
   "source": []
  },
  {
   "cell_type": "code",
   "execution_count": null,
   "metadata": {},
   "outputs": [],
   "source": []
  },
  {
   "source": [
    "\n",
    "# Answering questions\n",
    "# Question 1\n",
    "* Identify the most popular hour of the day for picking up a shared electric car (Bluecar) in the city of Paris over the month of April 2018"
   ],
   "cell_type": "markdown",
   "metadata": {}
  },
  {
   "cell_type": "code",
   "execution_count": 30,
   "metadata": {},
   "outputs": [
    {
     "output_type": "execute_result",
     "data": {
      "text/plain": [
       "    bluecar_counter  utilib_counter  utilib_1.4_counter  charge_slots  \\\n",
       "0                 0               0                   0             0   \n",
       "1                 6               0                   0             0   \n",
       "3                 3               1                   0             1   \n",
       "4                 3               0                   0             0   \n",
       "5                 0               0                   0             0   \n",
       "7                 1               0                   0             0   \n",
       "8                 6               0                   0             0   \n",
       "9                 0               0                   0             2   \n",
       "11                5               1                   0             0   \n",
       "12                0               0                   0             0   \n",
       "13                0               0                   0             1   \n",
       "16                6               0                   0             0   \n",
       "17                5               0                   0             0   \n",
       "18                4               0                   2             0   \n",
       "19                3               0                   0             0   \n",
       "23                2               0                   0             1   \n",
       "24                0               0                   0             2   \n",
       "25                2               0                   1             0   \n",
       "27                0               0                   0             2   \n",
       "28                0               0                   0             2   \n",
       "\n",
       "   charging_status   city                   station_name     kind  \\\n",
       "0      nonexistent  Paris                paris/suffren/2  STATION   \n",
       "1      operational  Paris     paris/raymondlosserand/145  STATION   \n",
       "3      operational  Paris          paris/eugeneoudine/51  STATION   \n",
       "4      nonexistent  Paris      paris/portedechamperret/6  PARKING   \n",
       "5      nonexistent  Paris               paris/voltaire/8  STATION   \n",
       "7      nonexistent  Paris            paris/jeanmoulin/34  STATION   \n",
       "8      nonexistent  Paris           paris/anvers/parking  PARKING   \n",
       "9      operational  Paris               paris/censier/14  STATION   \n",
       "11     nonexistent  Paris      paris/portedechamperret/6  PARKING   \n",
       "12     nonexistent  Paris            paris/jeanmoulin/34  STATION   \n",
       "13     operational  Paris          paris/richardlenoir/8  STATION   \n",
       "16     operational  Paris             paris/voltaire/182  STATION   \n",
       "17     nonexistent  Paris        paris/cambronne/parking  PARKING   \n",
       "18     operational  Paris              paris/renecoty/11  STATION   \n",
       "19     operational  Paris              paris/catalogne/2    SPACE   \n",
       "23     operational  Paris        paris/emiledeschanel/15  STATION   \n",
       "24     operational  Paris             paris/voltaire/182  STATION   \n",
       "25     operational  Paris  paris/faubourgsaintmartin/203  STATION   \n",
       "27     operational  Paris                 paris/danton/8  STATION   \n",
       "28     operational  Paris     paris/pontlouisphilippe/24  STATION   \n",
       "\n",
       "    postal_code rental_status  slots  station_type status subscription_status  \\\n",
       "0         75015   operational      2       station     ok         nonexistent   \n",
       "1         75014   operational      0       station     ok         nonexistent   \n",
       "3         75013   operational      2       station     ok         nonexistent   \n",
       "4         75017   operational      3       station     ok         nonexistent   \n",
       "5         75011   operational      4       station     ok         nonexistent   \n",
       "7         75014   operational      4       station     ok         nonexistent   \n",
       "8         75009   operational      0       station     ok         nonexistent   \n",
       "9         75005   operational      6       station     ok         nonexistent   \n",
       "11        75017   operational      0       station     ok         nonexistent   \n",
       "12        75014   operational      0       station     ok         nonexistent   \n",
       "13        75011   operational      4       station     ok         nonexistent   \n",
       "16        75011   operational      0       station     ok         nonexistent   \n",
       "17        75015   operational      0       station     ok         nonexistent   \n",
       "18        75014   operational      0       station     ok         nonexistent   \n",
       "19        75014   operational      0  full_station     ok         operational   \n",
       "23        75007   operational      2       station     ok         nonexistent   \n",
       "24        75011   operational      5       station     ok         nonexistent   \n",
       "25        75010   operational      2       station     ok         nonexistent   \n",
       "27        75006   operational      6       station     ok         nonexistent   \n",
       "28        75004   operational      5       station     ok         nonexistent   \n",
       "\n",
       "    day  hour  minute  date  \n",
       "0     8    11      43     8  \n",
       "1     6     7      24     6  \n",
       "3     4     4      37     4  \n",
       "4     8    17      23     8  \n",
       "5     6     7       2     6  \n",
       "7     2    22      58     2  \n",
       "8     4    15       2     4  \n",
       "9     1     4      39     1  \n",
       "11    5    12      22     5  \n",
       "12    8    21      54     8  \n",
       "13    6     8       0     6  \n",
       "16    9    12      14     9  \n",
       "17    9    20      58     9  \n",
       "18    9    21      31     9  \n",
       "19    5     6      16     5  \n",
       "23    4    23      27     4  \n",
       "24    5    21       6     5  \n",
       "25    3     9      40     3  \n",
       "27    2    23      28     2  \n",
       "28    9    21       7     9  "
      ],
      "text/html": "<div>\n<style scoped>\n    .dataframe tbody tr th:only-of-type {\n        vertical-align: middle;\n    }\n\n    .dataframe tbody tr th {\n        vertical-align: top;\n    }\n\n    .dataframe thead th {\n        text-align: right;\n    }\n</style>\n<table border=\"1\" class=\"dataframe\">\n  <thead>\n    <tr style=\"text-align: right;\">\n      <th></th>\n      <th>bluecar_counter</th>\n      <th>utilib_counter</th>\n      <th>utilib_1.4_counter</th>\n      <th>charge_slots</th>\n      <th>charging_status</th>\n      <th>city</th>\n      <th>station_name</th>\n      <th>kind</th>\n      <th>postal_code</th>\n      <th>rental_status</th>\n      <th>slots</th>\n      <th>station_type</th>\n      <th>status</th>\n      <th>subscription_status</th>\n      <th>day</th>\n      <th>hour</th>\n      <th>minute</th>\n      <th>date</th>\n    </tr>\n  </thead>\n  <tbody>\n    <tr>\n      <th>0</th>\n      <td>0</td>\n      <td>0</td>\n      <td>0</td>\n      <td>0</td>\n      <td>nonexistent</td>\n      <td>Paris</td>\n      <td>paris/suffren/2</td>\n      <td>STATION</td>\n      <td>75015</td>\n      <td>operational</td>\n      <td>2</td>\n      <td>station</td>\n      <td>ok</td>\n      <td>nonexistent</td>\n      <td>8</td>\n      <td>11</td>\n      <td>43</td>\n      <td>8</td>\n    </tr>\n    <tr>\n      <th>1</th>\n      <td>6</td>\n      <td>0</td>\n      <td>0</td>\n      <td>0</td>\n      <td>operational</td>\n      <td>Paris</td>\n      <td>paris/raymondlosserand/145</td>\n      <td>STATION</td>\n      <td>75014</td>\n      <td>operational</td>\n      <td>0</td>\n      <td>station</td>\n      <td>ok</td>\n      <td>nonexistent</td>\n      <td>6</td>\n      <td>7</td>\n      <td>24</td>\n      <td>6</td>\n    </tr>\n    <tr>\n      <th>3</th>\n      <td>3</td>\n      <td>1</td>\n      <td>0</td>\n      <td>1</td>\n      <td>operational</td>\n      <td>Paris</td>\n      <td>paris/eugeneoudine/51</td>\n      <td>STATION</td>\n      <td>75013</td>\n      <td>operational</td>\n      <td>2</td>\n      <td>station</td>\n      <td>ok</td>\n      <td>nonexistent</td>\n      <td>4</td>\n      <td>4</td>\n      <td>37</td>\n      <td>4</td>\n    </tr>\n    <tr>\n      <th>4</th>\n      <td>3</td>\n      <td>0</td>\n      <td>0</td>\n      <td>0</td>\n      <td>nonexistent</td>\n      <td>Paris</td>\n      <td>paris/portedechamperret/6</td>\n      <td>PARKING</td>\n      <td>75017</td>\n      <td>operational</td>\n      <td>3</td>\n      <td>station</td>\n      <td>ok</td>\n      <td>nonexistent</td>\n      <td>8</td>\n      <td>17</td>\n      <td>23</td>\n      <td>8</td>\n    </tr>\n    <tr>\n      <th>5</th>\n      <td>0</td>\n      <td>0</td>\n      <td>0</td>\n      <td>0</td>\n      <td>nonexistent</td>\n      <td>Paris</td>\n      <td>paris/voltaire/8</td>\n      <td>STATION</td>\n      <td>75011</td>\n      <td>operational</td>\n      <td>4</td>\n      <td>station</td>\n      <td>ok</td>\n      <td>nonexistent</td>\n      <td>6</td>\n      <td>7</td>\n      <td>2</td>\n      <td>6</td>\n    </tr>\n    <tr>\n      <th>7</th>\n      <td>1</td>\n      <td>0</td>\n      <td>0</td>\n      <td>0</td>\n      <td>nonexistent</td>\n      <td>Paris</td>\n      <td>paris/jeanmoulin/34</td>\n      <td>STATION</td>\n      <td>75014</td>\n      <td>operational</td>\n      <td>4</td>\n      <td>station</td>\n      <td>ok</td>\n      <td>nonexistent</td>\n      <td>2</td>\n      <td>22</td>\n      <td>58</td>\n      <td>2</td>\n    </tr>\n    <tr>\n      <th>8</th>\n      <td>6</td>\n      <td>0</td>\n      <td>0</td>\n      <td>0</td>\n      <td>nonexistent</td>\n      <td>Paris</td>\n      <td>paris/anvers/parking</td>\n      <td>PARKING</td>\n      <td>75009</td>\n      <td>operational</td>\n      <td>0</td>\n      <td>station</td>\n      <td>ok</td>\n      <td>nonexistent</td>\n      <td>4</td>\n      <td>15</td>\n      <td>2</td>\n      <td>4</td>\n    </tr>\n    <tr>\n      <th>9</th>\n      <td>0</td>\n      <td>0</td>\n      <td>0</td>\n      <td>2</td>\n      <td>operational</td>\n      <td>Paris</td>\n      <td>paris/censier/14</td>\n      <td>STATION</td>\n      <td>75005</td>\n      <td>operational</td>\n      <td>6</td>\n      <td>station</td>\n      <td>ok</td>\n      <td>nonexistent</td>\n      <td>1</td>\n      <td>4</td>\n      <td>39</td>\n      <td>1</td>\n    </tr>\n    <tr>\n      <th>11</th>\n      <td>5</td>\n      <td>1</td>\n      <td>0</td>\n      <td>0</td>\n      <td>nonexistent</td>\n      <td>Paris</td>\n      <td>paris/portedechamperret/6</td>\n      <td>PARKING</td>\n      <td>75017</td>\n      <td>operational</td>\n      <td>0</td>\n      <td>station</td>\n      <td>ok</td>\n      <td>nonexistent</td>\n      <td>5</td>\n      <td>12</td>\n      <td>22</td>\n      <td>5</td>\n    </tr>\n    <tr>\n      <th>12</th>\n      <td>0</td>\n      <td>0</td>\n      <td>0</td>\n      <td>0</td>\n      <td>nonexistent</td>\n      <td>Paris</td>\n      <td>paris/jeanmoulin/34</td>\n      <td>STATION</td>\n      <td>75014</td>\n      <td>operational</td>\n      <td>0</td>\n      <td>station</td>\n      <td>ok</td>\n      <td>nonexistent</td>\n      <td>8</td>\n      <td>21</td>\n      <td>54</td>\n      <td>8</td>\n    </tr>\n    <tr>\n      <th>13</th>\n      <td>0</td>\n      <td>0</td>\n      <td>0</td>\n      <td>1</td>\n      <td>operational</td>\n      <td>Paris</td>\n      <td>paris/richardlenoir/8</td>\n      <td>STATION</td>\n      <td>75011</td>\n      <td>operational</td>\n      <td>4</td>\n      <td>station</td>\n      <td>ok</td>\n      <td>nonexistent</td>\n      <td>6</td>\n      <td>8</td>\n      <td>0</td>\n      <td>6</td>\n    </tr>\n    <tr>\n      <th>16</th>\n      <td>6</td>\n      <td>0</td>\n      <td>0</td>\n      <td>0</td>\n      <td>operational</td>\n      <td>Paris</td>\n      <td>paris/voltaire/182</td>\n      <td>STATION</td>\n      <td>75011</td>\n      <td>operational</td>\n      <td>0</td>\n      <td>station</td>\n      <td>ok</td>\n      <td>nonexistent</td>\n      <td>9</td>\n      <td>12</td>\n      <td>14</td>\n      <td>9</td>\n    </tr>\n    <tr>\n      <th>17</th>\n      <td>5</td>\n      <td>0</td>\n      <td>0</td>\n      <td>0</td>\n      <td>nonexistent</td>\n      <td>Paris</td>\n      <td>paris/cambronne/parking</td>\n      <td>PARKING</td>\n      <td>75015</td>\n      <td>operational</td>\n      <td>0</td>\n      <td>station</td>\n      <td>ok</td>\n      <td>nonexistent</td>\n      <td>9</td>\n      <td>20</td>\n      <td>58</td>\n      <td>9</td>\n    </tr>\n    <tr>\n      <th>18</th>\n      <td>4</td>\n      <td>0</td>\n      <td>2</td>\n      <td>0</td>\n      <td>operational</td>\n      <td>Paris</td>\n      <td>paris/renecoty/11</td>\n      <td>STATION</td>\n      <td>75014</td>\n      <td>operational</td>\n      <td>0</td>\n      <td>station</td>\n      <td>ok</td>\n      <td>nonexistent</td>\n      <td>9</td>\n      <td>21</td>\n      <td>31</td>\n      <td>9</td>\n    </tr>\n    <tr>\n      <th>19</th>\n      <td>3</td>\n      <td>0</td>\n      <td>0</td>\n      <td>0</td>\n      <td>operational</td>\n      <td>Paris</td>\n      <td>paris/catalogne/2</td>\n      <td>SPACE</td>\n      <td>75014</td>\n      <td>operational</td>\n      <td>0</td>\n      <td>full_station</td>\n      <td>ok</td>\n      <td>operational</td>\n      <td>5</td>\n      <td>6</td>\n      <td>16</td>\n      <td>5</td>\n    </tr>\n    <tr>\n      <th>23</th>\n      <td>2</td>\n      <td>0</td>\n      <td>0</td>\n      <td>1</td>\n      <td>operational</td>\n      <td>Paris</td>\n      <td>paris/emiledeschanel/15</td>\n      <td>STATION</td>\n      <td>75007</td>\n      <td>operational</td>\n      <td>2</td>\n      <td>station</td>\n      <td>ok</td>\n      <td>nonexistent</td>\n      <td>4</td>\n      <td>23</td>\n      <td>27</td>\n      <td>4</td>\n    </tr>\n    <tr>\n      <th>24</th>\n      <td>0</td>\n      <td>0</td>\n      <td>0</td>\n      <td>2</td>\n      <td>operational</td>\n      <td>Paris</td>\n      <td>paris/voltaire/182</td>\n      <td>STATION</td>\n      <td>75011</td>\n      <td>operational</td>\n      <td>5</td>\n      <td>station</td>\n      <td>ok</td>\n      <td>nonexistent</td>\n      <td>5</td>\n      <td>21</td>\n      <td>6</td>\n      <td>5</td>\n    </tr>\n    <tr>\n      <th>25</th>\n      <td>2</td>\n      <td>0</td>\n      <td>1</td>\n      <td>0</td>\n      <td>operational</td>\n      <td>Paris</td>\n      <td>paris/faubourgsaintmartin/203</td>\n      <td>STATION</td>\n      <td>75010</td>\n      <td>operational</td>\n      <td>2</td>\n      <td>station</td>\n      <td>ok</td>\n      <td>nonexistent</td>\n      <td>3</td>\n      <td>9</td>\n      <td>40</td>\n      <td>3</td>\n    </tr>\n    <tr>\n      <th>27</th>\n      <td>0</td>\n      <td>0</td>\n      <td>0</td>\n      <td>2</td>\n      <td>operational</td>\n      <td>Paris</td>\n      <td>paris/danton/8</td>\n      <td>STATION</td>\n      <td>75006</td>\n      <td>operational</td>\n      <td>6</td>\n      <td>station</td>\n      <td>ok</td>\n      <td>nonexistent</td>\n      <td>2</td>\n      <td>23</td>\n      <td>28</td>\n      <td>2</td>\n    </tr>\n    <tr>\n      <th>28</th>\n      <td>0</td>\n      <td>0</td>\n      <td>0</td>\n      <td>2</td>\n      <td>operational</td>\n      <td>Paris</td>\n      <td>paris/pontlouisphilippe/24</td>\n      <td>STATION</td>\n      <td>75004</td>\n      <td>operational</td>\n      <td>5</td>\n      <td>station</td>\n      <td>ok</td>\n      <td>nonexistent</td>\n      <td>9</td>\n      <td>21</td>\n      <td>7</td>\n      <td>9</td>\n    </tr>\n  </tbody>\n</table>\n</div>"
     },
     "metadata": {},
     "execution_count": 30
    }
   ],
   "source": [
    "\n",
    "#The most popular hour of the day for picking up a shared blue electric car in the city of paris in the month of april 2018\n",
    "#First filter to only paris \n",
    "\n",
    "carsparis = cars[cars['city'] == 'Paris']\n",
    "carsparis.head(20)"
   ]
  },
  {
   "cell_type": "code",
   "execution_count": 31,
   "metadata": {},
   "outputs": [
    {
     "output_type": "execute_result",
     "data": {
      "text/plain": [
       "                               bluecar_counter  utilib_counter  \\\n",
       "station_name         day hour                                    \n",
       "paris/25aout1944/8   1   18                  1               0   \n",
       "                     2   7                   4               0   \n",
       "                         12                  2               0   \n",
       "                     4   3                   3               0   \n",
       "                         18                  1               0   \n",
       "                     7   21                  1               0   \n",
       "                     9   5                   0               0   \n",
       "                         20                  1               0   \n",
       "paris/adolphemax/6   2   11                  4               0   \n",
       "                     7   16                  0               0   \n",
       "                     8   13                  0               0   \n",
       "paris/adolphemille/8 1   1                   1               0   \n",
       "                     3   12                  2               0   \n",
       "                         21                  4               0   \n",
       "                     4   18                  2               0   \n",
       "                     8   1                   0               0   \n",
       "                     9   0                   1               0   \n",
       "paris/adolpheyvon/6  1   20                  4               0   \n",
       "                     2   14                  5               0   \n",
       "                         19                  5               0   \n",
       "\n",
       "                               utilib_1.4_counter  charge_slots  postal_code  \\\n",
       "station_name         day hour                                                  \n",
       "paris/25aout1944/8   1   18                     0             0        75014   \n",
       "                     2   7                      0             0        75014   \n",
       "                         12                     0             0        75014   \n",
       "                     4   3                      0             0        75014   \n",
       "                         18                     0             0        75014   \n",
       "                     7   21                     1             0        75014   \n",
       "                     9   5                      0             0        75014   \n",
       "                         20                     1             0        75014   \n",
       "paris/adolphemax/6   2   11                     0             0        75009   \n",
       "                     7   16                     0             0        75009   \n",
       "                     8   13                     0             0        75009   \n",
       "paris/adolphemille/8 1   1                      0             0        75019   \n",
       "                     3   12                     0             0        75019   \n",
       "                         21                     0             0        75019   \n",
       "                     4   18                     1             0        75019   \n",
       "                     8   1                      0             1        75019   \n",
       "                     9   0                      0             2       150038   \n",
       "paris/adolpheyvon/6  1   20                     0             1        75016   \n",
       "                     2   14                     0             0        75016   \n",
       "                         19                     0             0        75016   \n",
       "\n",
       "                               slots  minute  date  \n",
       "station_name         day hour                       \n",
       "paris/25aout1944/8   1   18        2      40     1  \n",
       "                     2   7         0      37     2  \n",
       "                         12        1      49     2  \n",
       "                     4   3         0      10     4  \n",
       "                         18        1      48     4  \n",
       "                     7   21        1      18     7  \n",
       "                     9   5         3      23     9  \n",
       "                         20        1      53     9  \n",
       "paris/adolphemax/6   2   11        0       1     2  \n",
       "                     7   16        3      47     7  \n",
       "                     8   13        4      56     8  \n",
       "paris/adolphemille/8 1   1         1      53     1  \n",
       "                     3   12        1      25     3  \n",
       "                         21        0      53     3  \n",
       "                     4   18        1      23     4  \n",
       "                     8   1         4       2     8  \n",
       "                     9   0         9      89    18  \n",
       "paris/adolpheyvon/6  1   20        1      28     1  \n",
       "                     2   14        0      15     2  \n",
       "                         19        1      14     2  "
      ],
      "text/html": "<div>\n<style scoped>\n    .dataframe tbody tr th:only-of-type {\n        vertical-align: middle;\n    }\n\n    .dataframe tbody tr th {\n        vertical-align: top;\n    }\n\n    .dataframe thead th {\n        text-align: right;\n    }\n</style>\n<table border=\"1\" class=\"dataframe\">\n  <thead>\n    <tr style=\"text-align: right;\">\n      <th></th>\n      <th></th>\n      <th></th>\n      <th>bluecar_counter</th>\n      <th>utilib_counter</th>\n      <th>utilib_1.4_counter</th>\n      <th>charge_slots</th>\n      <th>postal_code</th>\n      <th>slots</th>\n      <th>minute</th>\n      <th>date</th>\n    </tr>\n    <tr>\n      <th>station_name</th>\n      <th>day</th>\n      <th>hour</th>\n      <th></th>\n      <th></th>\n      <th></th>\n      <th></th>\n      <th></th>\n      <th></th>\n      <th></th>\n      <th></th>\n    </tr>\n  </thead>\n  <tbody>\n    <tr>\n      <th rowspan=\"8\" valign=\"top\">paris/25aout1944/8</th>\n      <th>1</th>\n      <th>18</th>\n      <td>1</td>\n      <td>0</td>\n      <td>0</td>\n      <td>0</td>\n      <td>75014</td>\n      <td>2</td>\n      <td>40</td>\n      <td>1</td>\n    </tr>\n    <tr>\n      <th rowspan=\"2\" valign=\"top\">2</th>\n      <th>7</th>\n      <td>4</td>\n      <td>0</td>\n      <td>0</td>\n      <td>0</td>\n      <td>75014</td>\n      <td>0</td>\n      <td>37</td>\n      <td>2</td>\n    </tr>\n    <tr>\n      <th>12</th>\n      <td>2</td>\n      <td>0</td>\n      <td>0</td>\n      <td>0</td>\n      <td>75014</td>\n      <td>1</td>\n      <td>49</td>\n      <td>2</td>\n    </tr>\n    <tr>\n      <th rowspan=\"2\" valign=\"top\">4</th>\n      <th>3</th>\n      <td>3</td>\n      <td>0</td>\n      <td>0</td>\n      <td>0</td>\n      <td>75014</td>\n      <td>0</td>\n      <td>10</td>\n      <td>4</td>\n    </tr>\n    <tr>\n      <th>18</th>\n      <td>1</td>\n      <td>0</td>\n      <td>0</td>\n      <td>0</td>\n      <td>75014</td>\n      <td>1</td>\n      <td>48</td>\n      <td>4</td>\n    </tr>\n    <tr>\n      <th>7</th>\n      <th>21</th>\n      <td>1</td>\n      <td>0</td>\n      <td>1</td>\n      <td>0</td>\n      <td>75014</td>\n      <td>1</td>\n      <td>18</td>\n      <td>7</td>\n    </tr>\n    <tr>\n      <th rowspan=\"2\" valign=\"top\">9</th>\n      <th>5</th>\n      <td>0</td>\n      <td>0</td>\n      <td>0</td>\n      <td>0</td>\n      <td>75014</td>\n      <td>3</td>\n      <td>23</td>\n      <td>9</td>\n    </tr>\n    <tr>\n      <th>20</th>\n      <td>1</td>\n      <td>0</td>\n      <td>1</td>\n      <td>0</td>\n      <td>75014</td>\n      <td>1</td>\n      <td>53</td>\n      <td>9</td>\n    </tr>\n    <tr>\n      <th rowspan=\"3\" valign=\"top\">paris/adolphemax/6</th>\n      <th>2</th>\n      <th>11</th>\n      <td>4</td>\n      <td>0</td>\n      <td>0</td>\n      <td>0</td>\n      <td>75009</td>\n      <td>0</td>\n      <td>1</td>\n      <td>2</td>\n    </tr>\n    <tr>\n      <th>7</th>\n      <th>16</th>\n      <td>0</td>\n      <td>0</td>\n      <td>0</td>\n      <td>0</td>\n      <td>75009</td>\n      <td>3</td>\n      <td>47</td>\n      <td>7</td>\n    </tr>\n    <tr>\n      <th>8</th>\n      <th>13</th>\n      <td>0</td>\n      <td>0</td>\n      <td>0</td>\n      <td>0</td>\n      <td>75009</td>\n      <td>4</td>\n      <td>56</td>\n      <td>8</td>\n    </tr>\n    <tr>\n      <th rowspan=\"6\" valign=\"top\">paris/adolphemille/8</th>\n      <th>1</th>\n      <th>1</th>\n      <td>1</td>\n      <td>0</td>\n      <td>0</td>\n      <td>0</td>\n      <td>75019</td>\n      <td>1</td>\n      <td>53</td>\n      <td>1</td>\n    </tr>\n    <tr>\n      <th rowspan=\"2\" valign=\"top\">3</th>\n      <th>12</th>\n      <td>2</td>\n      <td>0</td>\n      <td>0</td>\n      <td>0</td>\n      <td>75019</td>\n      <td>1</td>\n      <td>25</td>\n      <td>3</td>\n    </tr>\n    <tr>\n      <th>21</th>\n      <td>4</td>\n      <td>0</td>\n      <td>0</td>\n      <td>0</td>\n      <td>75019</td>\n      <td>0</td>\n      <td>53</td>\n      <td>3</td>\n    </tr>\n    <tr>\n      <th>4</th>\n      <th>18</th>\n      <td>2</td>\n      <td>0</td>\n      <td>1</td>\n      <td>0</td>\n      <td>75019</td>\n      <td>1</td>\n      <td>23</td>\n      <td>4</td>\n    </tr>\n    <tr>\n      <th>8</th>\n      <th>1</th>\n      <td>0</td>\n      <td>0</td>\n      <td>0</td>\n      <td>1</td>\n      <td>75019</td>\n      <td>4</td>\n      <td>2</td>\n      <td>8</td>\n    </tr>\n    <tr>\n      <th>9</th>\n      <th>0</th>\n      <td>1</td>\n      <td>0</td>\n      <td>0</td>\n      <td>2</td>\n      <td>150038</td>\n      <td>9</td>\n      <td>89</td>\n      <td>18</td>\n    </tr>\n    <tr>\n      <th rowspan=\"3\" valign=\"top\">paris/adolpheyvon/6</th>\n      <th>1</th>\n      <th>20</th>\n      <td>4</td>\n      <td>0</td>\n      <td>0</td>\n      <td>1</td>\n      <td>75016</td>\n      <td>1</td>\n      <td>28</td>\n      <td>1</td>\n    </tr>\n    <tr>\n      <th rowspan=\"2\" valign=\"top\">2</th>\n      <th>14</th>\n      <td>5</td>\n      <td>0</td>\n      <td>0</td>\n      <td>0</td>\n      <td>75016</td>\n      <td>0</td>\n      <td>15</td>\n      <td>2</td>\n    </tr>\n    <tr>\n      <th>19</th>\n      <td>5</td>\n      <td>0</td>\n      <td>0</td>\n      <td>0</td>\n      <td>75016</td>\n      <td>1</td>\n      <td>14</td>\n      <td>2</td>\n    </tr>\n  </tbody>\n</table>\n</div>"
     },
     "metadata": {},
     "execution_count": 31
    }
   ],
   "source": [
    "\n",
    "#creating a copy\n",
    "dfparis = carsparis\n",
    "#grouping \n",
    "dfparis = dfparis.groupby(['station_name','day','hour']).sum()\n",
    "dfparis.head(20)"
   ]
  },
  {
   "cell_type": "code",
   "execution_count": 32,
   "metadata": {},
   "outputs": [],
   "source": [
    "#Group by hour to find the most used bluecars\n",
    "# Positive values mean cars wwere returned \n",
    "#  Negative values  means cars picked\n",
    "#The most popular hour is 21. It has the highest positive value\n",
    "dfparis['rental_hour'] = dfparis.groupby('station_name')['bluecar_counter'].diff().fillna(0)\n"
   ]
  },
  {
   "cell_type": "code",
   "execution_count": 33,
   "metadata": {},
   "outputs": [
    {
     "output_type": "execute_result",
     "data": {
      "text/plain": [
       "                             bluecar_counter  utilib_counter  \\\n",
       "station_name       day hour                                    \n",
       "paris/25aout1944/8 1   18                  1               0   \n",
       "                   2   7                   4               0   \n",
       "                       12                  2               0   \n",
       "                   4   3                   3               0   \n",
       "                       18                  1               0   \n",
       "...                                      ...             ...   \n",
       "paris/vulpian/24   8   22                  3               0   \n",
       "                   9   12                  1               0   \n",
       "                       23                  2               0   \n",
       "paris/wagram/77    5   20                  0               0   \n",
       "                   6   0                   2               0   \n",
       "\n",
       "                             utilib_1.4_counter  charge_slots  postal_code  \\\n",
       "station_name       day hour                                                  \n",
       "paris/25aout1944/8 1   18                     0             0        75014   \n",
       "                   2   7                      0             0        75014   \n",
       "                       12                     0             0        75014   \n",
       "                   4   3                      0             0        75014   \n",
       "                       18                     0             0        75014   \n",
       "...                                         ...           ...          ...   \n",
       "paris/vulpian/24   8   22                     0             1        75013   \n",
       "                   9   12                     0             1        75013   \n",
       "                       23                     0             1        75013   \n",
       "paris/wagram/77    5   20                     1             0        75017   \n",
       "                   6   0                      0             0        75017   \n",
       "\n",
       "                             slots  minute  date  rental_hour  \n",
       "station_name       day hour                                    \n",
       "paris/25aout1944/8 1   18        2      40     1          0.0  \n",
       "                   2   7         0      37     2          3.0  \n",
       "                       12        1      49     2         -2.0  \n",
       "                   4   3         0      10     4          1.0  \n",
       "                       18        1      48     4         -2.0  \n",
       "...                            ...     ...   ...          ...  \n",
       "paris/vulpian/24   8   22        2      24     8          2.0  \n",
       "                   9   12        4      58     9         -2.0  \n",
       "                       23        4      32     9          1.0  \n",
       "paris/wagram/77    5   20        0      24     5          0.0  \n",
       "                   6   0         2       7     6          2.0  \n",
       "\n",
       "[2602 rows x 9 columns]"
      ],
      "text/html": "<div>\n<style scoped>\n    .dataframe tbody tr th:only-of-type {\n        vertical-align: middle;\n    }\n\n    .dataframe tbody tr th {\n        vertical-align: top;\n    }\n\n    .dataframe thead th {\n        text-align: right;\n    }\n</style>\n<table border=\"1\" class=\"dataframe\">\n  <thead>\n    <tr style=\"text-align: right;\">\n      <th></th>\n      <th></th>\n      <th></th>\n      <th>bluecar_counter</th>\n      <th>utilib_counter</th>\n      <th>utilib_1.4_counter</th>\n      <th>charge_slots</th>\n      <th>postal_code</th>\n      <th>slots</th>\n      <th>minute</th>\n      <th>date</th>\n      <th>rental_hour</th>\n    </tr>\n    <tr>\n      <th>station_name</th>\n      <th>day</th>\n      <th>hour</th>\n      <th></th>\n      <th></th>\n      <th></th>\n      <th></th>\n      <th></th>\n      <th></th>\n      <th></th>\n      <th></th>\n      <th></th>\n    </tr>\n  </thead>\n  <tbody>\n    <tr>\n      <th rowspan=\"5\" valign=\"top\">paris/25aout1944/8</th>\n      <th>1</th>\n      <th>18</th>\n      <td>1</td>\n      <td>0</td>\n      <td>0</td>\n      <td>0</td>\n      <td>75014</td>\n      <td>2</td>\n      <td>40</td>\n      <td>1</td>\n      <td>0.0</td>\n    </tr>\n    <tr>\n      <th rowspan=\"2\" valign=\"top\">2</th>\n      <th>7</th>\n      <td>4</td>\n      <td>0</td>\n      <td>0</td>\n      <td>0</td>\n      <td>75014</td>\n      <td>0</td>\n      <td>37</td>\n      <td>2</td>\n      <td>3.0</td>\n    </tr>\n    <tr>\n      <th>12</th>\n      <td>2</td>\n      <td>0</td>\n      <td>0</td>\n      <td>0</td>\n      <td>75014</td>\n      <td>1</td>\n      <td>49</td>\n      <td>2</td>\n      <td>-2.0</td>\n    </tr>\n    <tr>\n      <th rowspan=\"2\" valign=\"top\">4</th>\n      <th>3</th>\n      <td>3</td>\n      <td>0</td>\n      <td>0</td>\n      <td>0</td>\n      <td>75014</td>\n      <td>0</td>\n      <td>10</td>\n      <td>4</td>\n      <td>1.0</td>\n    </tr>\n    <tr>\n      <th>18</th>\n      <td>1</td>\n      <td>0</td>\n      <td>0</td>\n      <td>0</td>\n      <td>75014</td>\n      <td>1</td>\n      <td>48</td>\n      <td>4</td>\n      <td>-2.0</td>\n    </tr>\n    <tr>\n      <th>...</th>\n      <th>...</th>\n      <th>...</th>\n      <td>...</td>\n      <td>...</td>\n      <td>...</td>\n      <td>...</td>\n      <td>...</td>\n      <td>...</td>\n      <td>...</td>\n      <td>...</td>\n      <td>...</td>\n    </tr>\n    <tr>\n      <th rowspan=\"3\" valign=\"top\">paris/vulpian/24</th>\n      <th>8</th>\n      <th>22</th>\n      <td>3</td>\n      <td>0</td>\n      <td>0</td>\n      <td>1</td>\n      <td>75013</td>\n      <td>2</td>\n      <td>24</td>\n      <td>8</td>\n      <td>2.0</td>\n    </tr>\n    <tr>\n      <th rowspan=\"2\" valign=\"top\">9</th>\n      <th>12</th>\n      <td>1</td>\n      <td>0</td>\n      <td>0</td>\n      <td>1</td>\n      <td>75013</td>\n      <td>4</td>\n      <td>58</td>\n      <td>9</td>\n      <td>-2.0</td>\n    </tr>\n    <tr>\n      <th>23</th>\n      <td>2</td>\n      <td>0</td>\n      <td>0</td>\n      <td>1</td>\n      <td>75013</td>\n      <td>4</td>\n      <td>32</td>\n      <td>9</td>\n      <td>1.0</td>\n    </tr>\n    <tr>\n      <th rowspan=\"2\" valign=\"top\">paris/wagram/77</th>\n      <th>5</th>\n      <th>20</th>\n      <td>0</td>\n      <td>0</td>\n      <td>1</td>\n      <td>0</td>\n      <td>75017</td>\n      <td>0</td>\n      <td>24</td>\n      <td>5</td>\n      <td>0.0</td>\n    </tr>\n    <tr>\n      <th>6</th>\n      <th>0</th>\n      <td>2</td>\n      <td>0</td>\n      <td>0</td>\n      <td>0</td>\n      <td>75017</td>\n      <td>2</td>\n      <td>7</td>\n      <td>6</td>\n      <td>2.0</td>\n    </tr>\n  </tbody>\n</table>\n<p>2602 rows × 9 columns</p>\n</div>"
     },
     "metadata": {},
     "execution_count": 33
    }
   ],
   "source": [
    "dfparis"
   ]
  },
  {
   "cell_type": "code",
   "execution_count": 34,
   "metadata": {},
   "outputs": [
    {
     "output_type": "execute_result",
     "data": {
      "text/plain": [
       "                               bluecar_counter  utilib_counter  \\\n",
       "station_name         day hour                                    \n",
       "paris/25aout1944/8   2   12                  2               0   \n",
       "                     4   18                  1               0   \n",
       "                     9   5                   0               0   \n",
       "paris/adolphemax/6   7   16                  0               0   \n",
       "paris/adolphemille/8 4   18                  2               0   \n",
       "...                                        ...             ...   \n",
       "paris/voltaire/236   9   15                  1               1   \n",
       "paris/voltaire/8     3   12                  0               0   \n",
       "                     5   2                   0               0   \n",
       "paris/vouille/47     6   10                  0               0   \n",
       "paris/vulpian/24     9   12                  1               0   \n",
       "\n",
       "                               utilib_1.4_counter  charge_slots  postal_code  \\\n",
       "station_name         day hour                                                  \n",
       "paris/25aout1944/8   2   12                     0             0        75014   \n",
       "                     4   18                     0             0        75014   \n",
       "                     9   5                      0             0        75014   \n",
       "paris/adolphemax/6   7   16                     0             0        75009   \n",
       "paris/adolphemille/8 4   18                     1             0        75019   \n",
       "...                                           ...           ...          ...   \n",
       "paris/voltaire/236   9   15                     0             0        75011   \n",
       "paris/voltaire/8     3   12                     1             0        75011   \n",
       "                     5   2                      0             0        75011   \n",
       "paris/vouille/47     6   10                     0             0        75015   \n",
       "paris/vulpian/24     9   12                     0             1        75013   \n",
       "\n",
       "                               slots  minute  date  rental_hour  \n",
       "station_name         day hour                                    \n",
       "paris/25aout1944/8   2   12        1      49     2         -2.0  \n",
       "                     4   18        1      48     4         -2.0  \n",
       "                     9   5         3      23     9         -1.0  \n",
       "paris/adolphemax/6   7   16        3      47     7         -4.0  \n",
       "paris/adolphemille/8 4   18        1      23     4         -2.0  \n",
       "...                              ...     ...   ...          ...  \n",
       "paris/voltaire/236   9   15        2       1     9         -2.0  \n",
       "paris/voltaire/8     3   12        2       3     3         -4.0  \n",
       "                     5   2         4      51     5         -3.0  \n",
       "paris/vouille/47     6   10        3       8     6         -4.0  \n",
       "paris/vulpian/24     9   12        4      58     9         -2.0  \n",
       "\n",
       "[756 rows x 9 columns]"
      ],
      "text/html": "<div>\n<style scoped>\n    .dataframe tbody tr th:only-of-type {\n        vertical-align: middle;\n    }\n\n    .dataframe tbody tr th {\n        vertical-align: top;\n    }\n\n    .dataframe thead th {\n        text-align: right;\n    }\n</style>\n<table border=\"1\" class=\"dataframe\">\n  <thead>\n    <tr style=\"text-align: right;\">\n      <th></th>\n      <th></th>\n      <th></th>\n      <th>bluecar_counter</th>\n      <th>utilib_counter</th>\n      <th>utilib_1.4_counter</th>\n      <th>charge_slots</th>\n      <th>postal_code</th>\n      <th>slots</th>\n      <th>minute</th>\n      <th>date</th>\n      <th>rental_hour</th>\n    </tr>\n    <tr>\n      <th>station_name</th>\n      <th>day</th>\n      <th>hour</th>\n      <th></th>\n      <th></th>\n      <th></th>\n      <th></th>\n      <th></th>\n      <th></th>\n      <th></th>\n      <th></th>\n      <th></th>\n    </tr>\n  </thead>\n  <tbody>\n    <tr>\n      <th rowspan=\"3\" valign=\"top\">paris/25aout1944/8</th>\n      <th>2</th>\n      <th>12</th>\n      <td>2</td>\n      <td>0</td>\n      <td>0</td>\n      <td>0</td>\n      <td>75014</td>\n      <td>1</td>\n      <td>49</td>\n      <td>2</td>\n      <td>-2.0</td>\n    </tr>\n    <tr>\n      <th>4</th>\n      <th>18</th>\n      <td>1</td>\n      <td>0</td>\n      <td>0</td>\n      <td>0</td>\n      <td>75014</td>\n      <td>1</td>\n      <td>48</td>\n      <td>4</td>\n      <td>-2.0</td>\n    </tr>\n    <tr>\n      <th>9</th>\n      <th>5</th>\n      <td>0</td>\n      <td>0</td>\n      <td>0</td>\n      <td>0</td>\n      <td>75014</td>\n      <td>3</td>\n      <td>23</td>\n      <td>9</td>\n      <td>-1.0</td>\n    </tr>\n    <tr>\n      <th>paris/adolphemax/6</th>\n      <th>7</th>\n      <th>16</th>\n      <td>0</td>\n      <td>0</td>\n      <td>0</td>\n      <td>0</td>\n      <td>75009</td>\n      <td>3</td>\n      <td>47</td>\n      <td>7</td>\n      <td>-4.0</td>\n    </tr>\n    <tr>\n      <th>paris/adolphemille/8</th>\n      <th>4</th>\n      <th>18</th>\n      <td>2</td>\n      <td>0</td>\n      <td>1</td>\n      <td>0</td>\n      <td>75019</td>\n      <td>1</td>\n      <td>23</td>\n      <td>4</td>\n      <td>-2.0</td>\n    </tr>\n    <tr>\n      <th>...</th>\n      <th>...</th>\n      <th>...</th>\n      <td>...</td>\n      <td>...</td>\n      <td>...</td>\n      <td>...</td>\n      <td>...</td>\n      <td>...</td>\n      <td>...</td>\n      <td>...</td>\n      <td>...</td>\n    </tr>\n    <tr>\n      <th>paris/voltaire/236</th>\n      <th>9</th>\n      <th>15</th>\n      <td>1</td>\n      <td>1</td>\n      <td>0</td>\n      <td>0</td>\n      <td>75011</td>\n      <td>2</td>\n      <td>1</td>\n      <td>9</td>\n      <td>-2.0</td>\n    </tr>\n    <tr>\n      <th rowspan=\"2\" valign=\"top\">paris/voltaire/8</th>\n      <th>3</th>\n      <th>12</th>\n      <td>0</td>\n      <td>0</td>\n      <td>1</td>\n      <td>0</td>\n      <td>75011</td>\n      <td>2</td>\n      <td>3</td>\n      <td>3</td>\n      <td>-4.0</td>\n    </tr>\n    <tr>\n      <th>5</th>\n      <th>2</th>\n      <td>0</td>\n      <td>0</td>\n      <td>0</td>\n      <td>0</td>\n      <td>75011</td>\n      <td>4</td>\n      <td>51</td>\n      <td>5</td>\n      <td>-3.0</td>\n    </tr>\n    <tr>\n      <th>paris/vouille/47</th>\n      <th>6</th>\n      <th>10</th>\n      <td>0</td>\n      <td>0</td>\n      <td>0</td>\n      <td>0</td>\n      <td>75015</td>\n      <td>3</td>\n      <td>8</td>\n      <td>6</td>\n      <td>-4.0</td>\n    </tr>\n    <tr>\n      <th>paris/vulpian/24</th>\n      <th>9</th>\n      <th>12</th>\n      <td>1</td>\n      <td>0</td>\n      <td>0</td>\n      <td>1</td>\n      <td>75013</td>\n      <td>4</td>\n      <td>58</td>\n      <td>9</td>\n      <td>-2.0</td>\n    </tr>\n  </tbody>\n</table>\n<p>756 rows × 9 columns</p>\n</div>"
     },
     "metadata": {},
     "execution_count": 34
    }
   ],
   "source": [
    "#obtain -ve values meaning a car was picked\n",
    "\n",
    "pariscars = dfparis[dfparis['rental_hour'] < 0]\n",
    "pariscars"
   ]
  },
  {
   "cell_type": "code",
   "execution_count": 35,
   "metadata": {},
   "outputs": [
    {
     "output_type": "execute_result",
     "data": {
      "text/plain": [
       "hour\n",
       "21   -112.0\n",
       "Name: rental_hour, dtype: float64"
      ]
     },
     "metadata": {},
     "execution_count": 35
    }
   ],
   "source": [
    "# Find the hour of the most picked car in paris\n",
    "# largest negative value means had high rates of picking\n",
    "pariscars['rental_hour'].sum()\n",
    "pariscars.groupby(['hour'])['rental_hour'].sum().sort_values().head(1)"
   ]
  },
  {
   "source": [
    "# Question 2\n",
    "* What is the most popular hour for returning cars?"
   ],
   "cell_type": "markdown",
   "metadata": {}
  },
  {
   "cell_type": "code",
   "execution_count": 36,
   "metadata": {},
   "outputs": [
    {
     "output_type": "execute_result",
     "data": {
      "text/plain": [
       "                                           bluecar_counter  utilib_counter  \\\n",
       "station_name                     day hour                                    \n",
       "alfortville/charlesdegaulle/16   1   0                   2               0   \n",
       "                                     1                   4               0   \n",
       "                                 3   4                   3               0   \n",
       "                                     22                  4               0   \n",
       "                                 4   3                   6               0   \n",
       "alfortville/etiennedolet/174     4   9                   1               0   \n",
       "                                 6   7                   4               0   \n",
       "alfortville/jeanbaptistepreux/17 1   5                   6               0   \n",
       "                                 2   23                  2               1   \n",
       "                                 4   20                  1               0   \n",
       "                                 7   8                   4               0   \n",
       "alfortville/josephfranceschi/1   1   2                   4               0   \n",
       "                                     23                  5               0   \n",
       "                                 3   20                  3               0   \n",
       "                                 4   11                  0               0   \n",
       "                                 8   4                   5               0   \n",
       "alfortville/malleret/16          1   1                   4               1   \n",
       "                                 2   16                  0               0   \n",
       "                                 3   4                   4               0   \n",
       "                                     12                  0               0   \n",
       "\n",
       "                                           utilib_1.4_counter  charge_slots  \\\n",
       "station_name                     day hour                                     \n",
       "alfortville/charlesdegaulle/16   1   0                      0             0   \n",
       "                                     1                      0             0   \n",
       "                                 3   4                      0             0   \n",
       "                                     22                     0             0   \n",
       "                                 4   3                      0             0   \n",
       "alfortville/etiennedolet/174     4   9                      0             0   \n",
       "                                 6   7                      0             0   \n",
       "alfortville/jeanbaptistepreux/17 1   5                      0             0   \n",
       "                                 2   23                     0             0   \n",
       "                                 4   20                     0             0   \n",
       "                                 7   8                      0             0   \n",
       "alfortville/josephfranceschi/1   1   2                      0             0   \n",
       "                                     23                     0             0   \n",
       "                                 3   20                     0             0   \n",
       "                                 4   11                     0             0   \n",
       "                                 8   4                      0             0   \n",
       "alfortville/malleret/16          1   1                      0             0   \n",
       "                                 2   16                     0             0   \n",
       "                                 3   4                      0             0   \n",
       "                                     12                     0             0   \n",
       "\n",
       "                                           postal_code  slots  minute  date  \n",
       "station_name                     day hour                                    \n",
       "alfortville/charlesdegaulle/16   1   0           94140      0      36     1  \n",
       "                                     1           94140      0      36     1  \n",
       "                                 3   4           94140      3       3     3  \n",
       "                                     22          94140      1      27     3  \n",
       "                                 4   3           94140      0      30     4  \n",
       "alfortville/etiennedolet/174     4   9           94140      5      40     4  \n",
       "                                 6   7           94140      2      52     6  \n",
       "alfortville/jeanbaptistepreux/17 1   5           94140      0      24     1  \n",
       "                                 2   23          94140      3      47     2  \n",
       "                                 4   20          94140      4      19     4  \n",
       "                                 7   8           94140      2      15     7  \n",
       "alfortville/josephfranceschi/1   1   2           94140      0       0     1  \n",
       "                                     23          94140      0       0     1  \n",
       "                                 3   20          94140      2      54     3  \n",
       "                                 4   11          94140      5      48     4  \n",
       "                                 8   4           94140      1      21     8  \n",
       "alfortville/malleret/16          1   1           94140      0      28     1  \n",
       "                                 2   16          94140      4      21     2  \n",
       "                                 3   4           94140      2       8     3  \n",
       "                                     12          94140      6      42     3  "
      ],
      "text/html": "<div>\n<style scoped>\n    .dataframe tbody tr th:only-of-type {\n        vertical-align: middle;\n    }\n\n    .dataframe tbody tr th {\n        vertical-align: top;\n    }\n\n    .dataframe thead th {\n        text-align: right;\n    }\n</style>\n<table border=\"1\" class=\"dataframe\">\n  <thead>\n    <tr style=\"text-align: right;\">\n      <th></th>\n      <th></th>\n      <th></th>\n      <th>bluecar_counter</th>\n      <th>utilib_counter</th>\n      <th>utilib_1.4_counter</th>\n      <th>charge_slots</th>\n      <th>postal_code</th>\n      <th>slots</th>\n      <th>minute</th>\n      <th>date</th>\n    </tr>\n    <tr>\n      <th>station_name</th>\n      <th>day</th>\n      <th>hour</th>\n      <th></th>\n      <th></th>\n      <th></th>\n      <th></th>\n      <th></th>\n      <th></th>\n      <th></th>\n      <th></th>\n    </tr>\n  </thead>\n  <tbody>\n    <tr>\n      <th rowspan=\"5\" valign=\"top\">alfortville/charlesdegaulle/16</th>\n      <th rowspan=\"2\" valign=\"top\">1</th>\n      <th>0</th>\n      <td>2</td>\n      <td>0</td>\n      <td>0</td>\n      <td>0</td>\n      <td>94140</td>\n      <td>0</td>\n      <td>36</td>\n      <td>1</td>\n    </tr>\n    <tr>\n      <th>1</th>\n      <td>4</td>\n      <td>0</td>\n      <td>0</td>\n      <td>0</td>\n      <td>94140</td>\n      <td>0</td>\n      <td>36</td>\n      <td>1</td>\n    </tr>\n    <tr>\n      <th rowspan=\"2\" valign=\"top\">3</th>\n      <th>4</th>\n      <td>3</td>\n      <td>0</td>\n      <td>0</td>\n      <td>0</td>\n      <td>94140</td>\n      <td>3</td>\n      <td>3</td>\n      <td>3</td>\n    </tr>\n    <tr>\n      <th>22</th>\n      <td>4</td>\n      <td>0</td>\n      <td>0</td>\n      <td>0</td>\n      <td>94140</td>\n      <td>1</td>\n      <td>27</td>\n      <td>3</td>\n    </tr>\n    <tr>\n      <th>4</th>\n      <th>3</th>\n      <td>6</td>\n      <td>0</td>\n      <td>0</td>\n      <td>0</td>\n      <td>94140</td>\n      <td>0</td>\n      <td>30</td>\n      <td>4</td>\n    </tr>\n    <tr>\n      <th rowspan=\"2\" valign=\"top\">alfortville/etiennedolet/174</th>\n      <th>4</th>\n      <th>9</th>\n      <td>1</td>\n      <td>0</td>\n      <td>0</td>\n      <td>0</td>\n      <td>94140</td>\n      <td>5</td>\n      <td>40</td>\n      <td>4</td>\n    </tr>\n    <tr>\n      <th>6</th>\n      <th>7</th>\n      <td>4</td>\n      <td>0</td>\n      <td>0</td>\n      <td>0</td>\n      <td>94140</td>\n      <td>2</td>\n      <td>52</td>\n      <td>6</td>\n    </tr>\n    <tr>\n      <th rowspan=\"4\" valign=\"top\">alfortville/jeanbaptistepreux/17</th>\n      <th>1</th>\n      <th>5</th>\n      <td>6</td>\n      <td>0</td>\n      <td>0</td>\n      <td>0</td>\n      <td>94140</td>\n      <td>0</td>\n      <td>24</td>\n      <td>1</td>\n    </tr>\n    <tr>\n      <th>2</th>\n      <th>23</th>\n      <td>2</td>\n      <td>1</td>\n      <td>0</td>\n      <td>0</td>\n      <td>94140</td>\n      <td>3</td>\n      <td>47</td>\n      <td>2</td>\n    </tr>\n    <tr>\n      <th>4</th>\n      <th>20</th>\n      <td>1</td>\n      <td>0</td>\n      <td>0</td>\n      <td>0</td>\n      <td>94140</td>\n      <td>4</td>\n      <td>19</td>\n      <td>4</td>\n    </tr>\n    <tr>\n      <th>7</th>\n      <th>8</th>\n      <td>4</td>\n      <td>0</td>\n      <td>0</td>\n      <td>0</td>\n      <td>94140</td>\n      <td>2</td>\n      <td>15</td>\n      <td>7</td>\n    </tr>\n    <tr>\n      <th rowspan=\"5\" valign=\"top\">alfortville/josephfranceschi/1</th>\n      <th rowspan=\"2\" valign=\"top\">1</th>\n      <th>2</th>\n      <td>4</td>\n      <td>0</td>\n      <td>0</td>\n      <td>0</td>\n      <td>94140</td>\n      <td>0</td>\n      <td>0</td>\n      <td>1</td>\n    </tr>\n    <tr>\n      <th>23</th>\n      <td>5</td>\n      <td>0</td>\n      <td>0</td>\n      <td>0</td>\n      <td>94140</td>\n      <td>0</td>\n      <td>0</td>\n      <td>1</td>\n    </tr>\n    <tr>\n      <th>3</th>\n      <th>20</th>\n      <td>3</td>\n      <td>0</td>\n      <td>0</td>\n      <td>0</td>\n      <td>94140</td>\n      <td>2</td>\n      <td>54</td>\n      <td>3</td>\n    </tr>\n    <tr>\n      <th>4</th>\n      <th>11</th>\n      <td>0</td>\n      <td>0</td>\n      <td>0</td>\n      <td>0</td>\n      <td>94140</td>\n      <td>5</td>\n      <td>48</td>\n      <td>4</td>\n    </tr>\n    <tr>\n      <th>8</th>\n      <th>4</th>\n      <td>5</td>\n      <td>0</td>\n      <td>0</td>\n      <td>0</td>\n      <td>94140</td>\n      <td>1</td>\n      <td>21</td>\n      <td>8</td>\n    </tr>\n    <tr>\n      <th rowspan=\"4\" valign=\"top\">alfortville/malleret/16</th>\n      <th>1</th>\n      <th>1</th>\n      <td>4</td>\n      <td>1</td>\n      <td>0</td>\n      <td>0</td>\n      <td>94140</td>\n      <td>0</td>\n      <td>28</td>\n      <td>1</td>\n    </tr>\n    <tr>\n      <th>2</th>\n      <th>16</th>\n      <td>0</td>\n      <td>0</td>\n      <td>0</td>\n      <td>0</td>\n      <td>94140</td>\n      <td>4</td>\n      <td>21</td>\n      <td>2</td>\n    </tr>\n    <tr>\n      <th rowspan=\"2\" valign=\"top\">3</th>\n      <th>4</th>\n      <td>4</td>\n      <td>0</td>\n      <td>0</td>\n      <td>0</td>\n      <td>94140</td>\n      <td>2</td>\n      <td>8</td>\n      <td>3</td>\n    </tr>\n    <tr>\n      <th>12</th>\n      <td>0</td>\n      <td>0</td>\n      <td>0</td>\n      <td>0</td>\n      <td>94140</td>\n      <td>6</td>\n      <td>42</td>\n      <td>3</td>\n    </tr>\n  </tbody>\n</table>\n</div>"
     },
     "metadata": {},
     "execution_count": 36
    }
   ],
   "source": [
    "carsreturned = cars.groupby(['station_name','day','hour']).sum()\n",
    "carsreturned.head(20)"
   ]
  },
  {
   "cell_type": "code",
   "execution_count": 37,
   "metadata": {},
   "outputs": [
    {
     "output_type": "execute_result",
     "data": {
      "text/plain": [
       "                                         bluecar_counter  utilib_counter  \\\n",
       "station_name                   day hour                                    \n",
       "alfortville/charlesdegaulle/16 1   0                   2               0   \n",
       "                                   1                   4               0   \n",
       "                               3   4                   3               0   \n",
       "                                   22                  4               0   \n",
       "                               4   3                   6               0   \n",
       "...                                                  ...             ...   \n",
       "yerres/pierrebrossolette/92    7   5                   6               1   \n",
       "                                   19                  5               1   \n",
       "                               8   19                  0               0   \n",
       "                               9   14                  0               0   \n",
       "yerres/raymondpoincare/200     2   15                  2               0   \n",
       "\n",
       "                                         utilib_1.4_counter  charge_slots  \\\n",
       "station_name                   day hour                                     \n",
       "alfortville/charlesdegaulle/16 1   0                      0             0   \n",
       "                                   1                      0             0   \n",
       "                               3   4                      0             0   \n",
       "                                   22                     0             0   \n",
       "                               4   3                      0             0   \n",
       "...                                                     ...           ...   \n",
       "yerres/pierrebrossolette/92    7   5                      0             0   \n",
       "                                   19                     0             0   \n",
       "                               8   19                     0             0   \n",
       "                               9   14                     0             0   \n",
       "yerres/raymondpoincare/200     2   15                     0             1   \n",
       "\n",
       "                                         postal_code  slots  minute  date  \\\n",
       "station_name                   day hour                                     \n",
       "alfortville/charlesdegaulle/16 1   0           94140      0      36     1   \n",
       "                                   1           94140      0      36     1   \n",
       "                               3   4           94140      3       3     3   \n",
       "                                   22          94140      1      27     3   \n",
       "                               4   3           94140      0      30     4   \n",
       "...                                              ...    ...     ...   ...   \n",
       "yerres/pierrebrossolette/92    7   5           91330      0      40     7   \n",
       "                                   19          91330      0      59     7   \n",
       "                               8   19          91330      7      34     8   \n",
       "                               9   14         182660     14      69    18   \n",
       "yerres/raymondpoincare/200     2   15          91330      5      55     2   \n",
       "\n",
       "                                         rental_hour  \n",
       "station_name                   day hour               \n",
       "alfortville/charlesdegaulle/16 1   0             0.0  \n",
       "                                   1             2.0  \n",
       "                               3   4            -1.0  \n",
       "                                   22            1.0  \n",
       "                               4   3             2.0  \n",
       "...                                              ...  \n",
       "yerres/pierrebrossolette/92    7   5             0.0  \n",
       "                                   19           -1.0  \n",
       "                               8   19           -5.0  \n",
       "                               9   14            0.0  \n",
       "yerres/raymondpoincare/200     2   15            0.0  \n",
       "\n",
       "[4576 rows x 9 columns]"
      ],
      "text/html": "<div>\n<style scoped>\n    .dataframe tbody tr th:only-of-type {\n        vertical-align: middle;\n    }\n\n    .dataframe tbody tr th {\n        vertical-align: top;\n    }\n\n    .dataframe thead th {\n        text-align: right;\n    }\n</style>\n<table border=\"1\" class=\"dataframe\">\n  <thead>\n    <tr style=\"text-align: right;\">\n      <th></th>\n      <th></th>\n      <th></th>\n      <th>bluecar_counter</th>\n      <th>utilib_counter</th>\n      <th>utilib_1.4_counter</th>\n      <th>charge_slots</th>\n      <th>postal_code</th>\n      <th>slots</th>\n      <th>minute</th>\n      <th>date</th>\n      <th>rental_hour</th>\n    </tr>\n    <tr>\n      <th>station_name</th>\n      <th>day</th>\n      <th>hour</th>\n      <th></th>\n      <th></th>\n      <th></th>\n      <th></th>\n      <th></th>\n      <th></th>\n      <th></th>\n      <th></th>\n      <th></th>\n    </tr>\n  </thead>\n  <tbody>\n    <tr>\n      <th rowspan=\"5\" valign=\"top\">alfortville/charlesdegaulle/16</th>\n      <th rowspan=\"2\" valign=\"top\">1</th>\n      <th>0</th>\n      <td>2</td>\n      <td>0</td>\n      <td>0</td>\n      <td>0</td>\n      <td>94140</td>\n      <td>0</td>\n      <td>36</td>\n      <td>1</td>\n      <td>0.0</td>\n    </tr>\n    <tr>\n      <th>1</th>\n      <td>4</td>\n      <td>0</td>\n      <td>0</td>\n      <td>0</td>\n      <td>94140</td>\n      <td>0</td>\n      <td>36</td>\n      <td>1</td>\n      <td>2.0</td>\n    </tr>\n    <tr>\n      <th rowspan=\"2\" valign=\"top\">3</th>\n      <th>4</th>\n      <td>3</td>\n      <td>0</td>\n      <td>0</td>\n      <td>0</td>\n      <td>94140</td>\n      <td>3</td>\n      <td>3</td>\n      <td>3</td>\n      <td>-1.0</td>\n    </tr>\n    <tr>\n      <th>22</th>\n      <td>4</td>\n      <td>0</td>\n      <td>0</td>\n      <td>0</td>\n      <td>94140</td>\n      <td>1</td>\n      <td>27</td>\n      <td>3</td>\n      <td>1.0</td>\n    </tr>\n    <tr>\n      <th>4</th>\n      <th>3</th>\n      <td>6</td>\n      <td>0</td>\n      <td>0</td>\n      <td>0</td>\n      <td>94140</td>\n      <td>0</td>\n      <td>30</td>\n      <td>4</td>\n      <td>2.0</td>\n    </tr>\n    <tr>\n      <th>...</th>\n      <th>...</th>\n      <th>...</th>\n      <td>...</td>\n      <td>...</td>\n      <td>...</td>\n      <td>...</td>\n      <td>...</td>\n      <td>...</td>\n      <td>...</td>\n      <td>...</td>\n      <td>...</td>\n    </tr>\n    <tr>\n      <th rowspan=\"4\" valign=\"top\">yerres/pierrebrossolette/92</th>\n      <th rowspan=\"2\" valign=\"top\">7</th>\n      <th>5</th>\n      <td>6</td>\n      <td>1</td>\n      <td>0</td>\n      <td>0</td>\n      <td>91330</td>\n      <td>0</td>\n      <td>40</td>\n      <td>7</td>\n      <td>0.0</td>\n    </tr>\n    <tr>\n      <th>19</th>\n      <td>5</td>\n      <td>1</td>\n      <td>0</td>\n      <td>0</td>\n      <td>91330</td>\n      <td>0</td>\n      <td>59</td>\n      <td>7</td>\n      <td>-1.0</td>\n    </tr>\n    <tr>\n      <th>8</th>\n      <th>19</th>\n      <td>0</td>\n      <td>0</td>\n      <td>0</td>\n      <td>0</td>\n      <td>91330</td>\n      <td>7</td>\n      <td>34</td>\n      <td>8</td>\n      <td>-5.0</td>\n    </tr>\n    <tr>\n      <th>9</th>\n      <th>14</th>\n      <td>0</td>\n      <td>0</td>\n      <td>0</td>\n      <td>0</td>\n      <td>182660</td>\n      <td>14</td>\n      <td>69</td>\n      <td>18</td>\n      <td>0.0</td>\n    </tr>\n    <tr>\n      <th>yerres/raymondpoincare/200</th>\n      <th>2</th>\n      <th>15</th>\n      <td>2</td>\n      <td>0</td>\n      <td>0</td>\n      <td>1</td>\n      <td>91330</td>\n      <td>5</td>\n      <td>55</td>\n      <td>2</td>\n      <td>0.0</td>\n    </tr>\n  </tbody>\n</table>\n<p>4576 rows × 9 columns</p>\n</div>"
     },
     "metadata": {},
     "execution_count": 37
    }
   ],
   "source": [
    "#  +ve values mean returned -ve means picked\n",
    "# *****\n",
    "carsreturned['rental_hour'] = carsreturned.groupby('station_name')['bluecar_counter'].diff().fillna(0)\n",
    "carsreturned"
   ]
  },
  {
   "cell_type": "code",
   "execution_count": 38,
   "metadata": {},
   "outputs": [
    {
     "output_type": "execute_result",
     "data": {
      "text/plain": [
       "                                           bluecar_counter  utilib_counter  \\\n",
       "station_name                     day hour                                    \n",
       "alfortville/charlesdegaulle/16   1   1                   4               0   \n",
       "                                 3   22                  4               0   \n",
       "                                 4   3                   6               0   \n",
       "alfortville/etiennedolet/174     6   7                   4               0   \n",
       "alfortville/jeanbaptistepreux/17 7   8                   4               0   \n",
       "...                                                    ...             ...   \n",
       "vincennes/fontenay/194           3   4                   7               0   \n",
       "vincennes/fontenay/44            5   12                  1               0   \n",
       "                                 7   14                  2               0   \n",
       "vincennes/mursduparc/2           9   0                   6               0   \n",
       "yerres/charlesdegaulle/99        6   6                   7               0   \n",
       "\n",
       "                                           utilib_1.4_counter  charge_slots  \\\n",
       "station_name                     day hour                                     \n",
       "alfortville/charlesdegaulle/16   1   1                      0             0   \n",
       "                                 3   22                     0             0   \n",
       "                                 4   3                      0             0   \n",
       "alfortville/etiennedolet/174     6   7                      0             0   \n",
       "alfortville/jeanbaptistepreux/17 7   8                      0             0   \n",
       "...                                                       ...           ...   \n",
       "vincennes/fontenay/194           3   4                      0             0   \n",
       "vincennes/fontenay/44            5   12                     0             0   \n",
       "                                 7   14                     1             0   \n",
       "vincennes/mursduparc/2           9   0                      0             0   \n",
       "yerres/charlesdegaulle/99        6   6                      0             0   \n",
       "\n",
       "                                           postal_code  slots  minute  date  \\\n",
       "station_name                     day hour                                     \n",
       "alfortville/charlesdegaulle/16   1   1           94140      0      36     1   \n",
       "                                 3   22          94140      1      27     3   \n",
       "                                 4   3           94140      0      30     4   \n",
       "alfortville/etiennedolet/174     6   7           94140      2      52     6   \n",
       "alfortville/jeanbaptistepreux/17 7   8           94140      2      15     7   \n",
       "...                                                ...    ...     ...   ...   \n",
       "vincennes/fontenay/194           3   4           94300      0      37     3   \n",
       "vincennes/fontenay/44            5   12          94300      5      49     5   \n",
       "                                 7   14          94300      0      50     7   \n",
       "vincennes/mursduparc/2           9   0           94300      1      49     9   \n",
       "yerres/charlesdegaulle/99        6   6           91330      0      49     6   \n",
       "\n",
       "                                           rental_hour  \n",
       "station_name                     day hour               \n",
       "alfortville/charlesdegaulle/16   1   1             2.0  \n",
       "                                 3   22            1.0  \n",
       "                                 4   3             2.0  \n",
       "alfortville/etiennedolet/174     6   7             3.0  \n",
       "alfortville/jeanbaptistepreux/17 7   8             3.0  \n",
       "...                                                ...  \n",
       "vincennes/fontenay/194           3   4             4.0  \n",
       "vincennes/fontenay/44            5   12            1.0  \n",
       "                                 7   14            1.0  \n",
       "vincennes/mursduparc/2           9   0             1.0  \n",
       "yerres/charlesdegaulle/99        6   6             7.0  \n",
       "\n",
       "[1317 rows x 9 columns]"
      ],
      "text/html": "<div>\n<style scoped>\n    .dataframe tbody tr th:only-of-type {\n        vertical-align: middle;\n    }\n\n    .dataframe tbody tr th {\n        vertical-align: top;\n    }\n\n    .dataframe thead th {\n        text-align: right;\n    }\n</style>\n<table border=\"1\" class=\"dataframe\">\n  <thead>\n    <tr style=\"text-align: right;\">\n      <th></th>\n      <th></th>\n      <th></th>\n      <th>bluecar_counter</th>\n      <th>utilib_counter</th>\n      <th>utilib_1.4_counter</th>\n      <th>charge_slots</th>\n      <th>postal_code</th>\n      <th>slots</th>\n      <th>minute</th>\n      <th>date</th>\n      <th>rental_hour</th>\n    </tr>\n    <tr>\n      <th>station_name</th>\n      <th>day</th>\n      <th>hour</th>\n      <th></th>\n      <th></th>\n      <th></th>\n      <th></th>\n      <th></th>\n      <th></th>\n      <th></th>\n      <th></th>\n      <th></th>\n    </tr>\n  </thead>\n  <tbody>\n    <tr>\n      <th rowspan=\"3\" valign=\"top\">alfortville/charlesdegaulle/16</th>\n      <th>1</th>\n      <th>1</th>\n      <td>4</td>\n      <td>0</td>\n      <td>0</td>\n      <td>0</td>\n      <td>94140</td>\n      <td>0</td>\n      <td>36</td>\n      <td>1</td>\n      <td>2.0</td>\n    </tr>\n    <tr>\n      <th>3</th>\n      <th>22</th>\n      <td>4</td>\n      <td>0</td>\n      <td>0</td>\n      <td>0</td>\n      <td>94140</td>\n      <td>1</td>\n      <td>27</td>\n      <td>3</td>\n      <td>1.0</td>\n    </tr>\n    <tr>\n      <th>4</th>\n      <th>3</th>\n      <td>6</td>\n      <td>0</td>\n      <td>0</td>\n      <td>0</td>\n      <td>94140</td>\n      <td>0</td>\n      <td>30</td>\n      <td>4</td>\n      <td>2.0</td>\n    </tr>\n    <tr>\n      <th>alfortville/etiennedolet/174</th>\n      <th>6</th>\n      <th>7</th>\n      <td>4</td>\n      <td>0</td>\n      <td>0</td>\n      <td>0</td>\n      <td>94140</td>\n      <td>2</td>\n      <td>52</td>\n      <td>6</td>\n      <td>3.0</td>\n    </tr>\n    <tr>\n      <th>alfortville/jeanbaptistepreux/17</th>\n      <th>7</th>\n      <th>8</th>\n      <td>4</td>\n      <td>0</td>\n      <td>0</td>\n      <td>0</td>\n      <td>94140</td>\n      <td>2</td>\n      <td>15</td>\n      <td>7</td>\n      <td>3.0</td>\n    </tr>\n    <tr>\n      <th>...</th>\n      <th>...</th>\n      <th>...</th>\n      <td>...</td>\n      <td>...</td>\n      <td>...</td>\n      <td>...</td>\n      <td>...</td>\n      <td>...</td>\n      <td>...</td>\n      <td>...</td>\n      <td>...</td>\n    </tr>\n    <tr>\n      <th>vincennes/fontenay/194</th>\n      <th>3</th>\n      <th>4</th>\n      <td>7</td>\n      <td>0</td>\n      <td>0</td>\n      <td>0</td>\n      <td>94300</td>\n      <td>0</td>\n      <td>37</td>\n      <td>3</td>\n      <td>4.0</td>\n    </tr>\n    <tr>\n      <th rowspan=\"2\" valign=\"top\">vincennes/fontenay/44</th>\n      <th>5</th>\n      <th>12</th>\n      <td>1</td>\n      <td>0</td>\n      <td>0</td>\n      <td>0</td>\n      <td>94300</td>\n      <td>5</td>\n      <td>49</td>\n      <td>5</td>\n      <td>1.0</td>\n    </tr>\n    <tr>\n      <th>7</th>\n      <th>14</th>\n      <td>2</td>\n      <td>0</td>\n      <td>1</td>\n      <td>0</td>\n      <td>94300</td>\n      <td>0</td>\n      <td>50</td>\n      <td>7</td>\n      <td>1.0</td>\n    </tr>\n    <tr>\n      <th>vincennes/mursduparc/2</th>\n      <th>9</th>\n      <th>0</th>\n      <td>6</td>\n      <td>0</td>\n      <td>0</td>\n      <td>0</td>\n      <td>94300</td>\n      <td>1</td>\n      <td>49</td>\n      <td>9</td>\n      <td>1.0</td>\n    </tr>\n    <tr>\n      <th>yerres/charlesdegaulle/99</th>\n      <th>6</th>\n      <th>6</th>\n      <td>7</td>\n      <td>0</td>\n      <td>0</td>\n      <td>0</td>\n      <td>91330</td>\n      <td>0</td>\n      <td>49</td>\n      <td>6</td>\n      <td>7.0</td>\n    </tr>\n  </tbody>\n</table>\n<p>1317 rows × 9 columns</p>\n</div>"
     },
     "metadata": {},
     "execution_count": 38
    }
   ],
   "source": [
    "#DAtaframe for the returned cars\n",
    "#Seperate positives from negatives to get the returned\n",
    "carsreturned = carsreturned[carsreturned['rental_hour'] > 0]\n",
    "carsreturned"
   ]
  },
  {
   "cell_type": "code",
   "execution_count": 39,
   "metadata": {},
   "outputs": [
    {
     "output_type": "execute_result",
     "data": {
      "text/plain": [
       "hour\n",
       "15    87.0\n",
       "Name: rental_hour, dtype: float64"
      ]
     },
     "metadata": {},
     "execution_count": 39
    }
   ],
   "source": [
    "# Find the hour for returning\n",
    "# largest positive value means had high rates of returns\n",
    "carsreturned['rental_hour'].sum()\n",
    "carsreturned.groupby(['hour'])['rental_hour'].sum().sort_values().head(1)"
   ]
  },
  {
   "source": [
    "\n",
    "# Question 3\n",
    "\n",
    "* What station is the most popular?\n",
    "* Overall?\n",
    "* At the most popular picking hour?"
   ],
   "cell_type": "markdown",
   "metadata": {}
  },
  {
   "source": [
    "# Most popular station \n",
    "# Overall\n",
    "stationoverall = cars.groupby(['station_name','day','hour']).sum()\n",
    "stationoverall.tail(20)"
   ],
   "cell_type": "code",
   "metadata": {},
   "execution_count": 40,
   "outputs": [
    {
     "output_type": "execute_result",
     "data": {
      "text/plain": [
       "                                      bluecar_counter  utilib_counter  \\\n",
       "station_name                day hour                                    \n",
       "vincennes/fontenay/194      5   11                  2               0   \n",
       "vincennes/fontenay/44       4   11                  0               0   \n",
       "                            5   12                  1               0   \n",
       "                            7   14                  2               0   \n",
       "                            9   7                   2               0   \n",
       "vincennes/mursduparc/2      2   7                   6               0   \n",
       "                                14                  5               0   \n",
       "                            8   13                  5               0   \n",
       "                            9   0                   6               0   \n",
       "                                19                  0               0   \n",
       "yerres/charlesdegaulle/99   2   20                  0               0   \n",
       "                            6   6                   7               0   \n",
       "                                11                  7               0   \n",
       "                            7   23                  6               0   \n",
       "                            8   23                  3               0   \n",
       "yerres/pierrebrossolette/92 7   5                   6               1   \n",
       "                                19                  5               1   \n",
       "                            8   19                  0               0   \n",
       "                            9   14                  0               0   \n",
       "yerres/raymondpoincare/200  2   15                  2               0   \n",
       "\n",
       "                                      utilib_1.4_counter  charge_slots  \\\n",
       "station_name                day hour                                     \n",
       "vincennes/fontenay/194      5   11                     0             0   \n",
       "vincennes/fontenay/44       4   11                     0             0   \n",
       "                            5   12                     0             0   \n",
       "                            7   14                     1             0   \n",
       "                            9   7                      1             0   \n",
       "vincennes/mursduparc/2      2   7                      0             0   \n",
       "                                14                     0             0   \n",
       "                            8   13                     0             0   \n",
       "                            9   0                      0             0   \n",
       "                                19                     0             0   \n",
       "yerres/charlesdegaulle/99   2   20                     0             1   \n",
       "                            6   6                      0             0   \n",
       "                                11                     0             0   \n",
       "                            7   23                     0             0   \n",
       "                            8   23                     0             1   \n",
       "yerres/pierrebrossolette/92 7   5                      0             0   \n",
       "                                19                     0             0   \n",
       "                            8   19                     0             0   \n",
       "                            9   14                     0             0   \n",
       "yerres/raymondpoincare/200  2   15                     0             1   \n",
       "\n",
       "                                      postal_code  slots  minute  date  \n",
       "station_name                day hour                                    \n",
       "vincennes/fontenay/194      5   11          94300      3      17     5  \n",
       "vincennes/fontenay/44       4   11          94300      4      28     4  \n",
       "                            5   12          94300      5      49     5  \n",
       "                            7   14          94300      0      50     7  \n",
       "                            9   7           94300      0      55     9  \n",
       "vincennes/mursduparc/2      2   7           94300      1      57     2  \n",
       "                                14          94300      2      48     2  \n",
       "                            8   13          94300      0       7     8  \n",
       "                            9   0           94300      1      49     9  \n",
       "                                19          94300      6       1     9  \n",
       "yerres/charlesdegaulle/99   2   20          91330      7      19     2  \n",
       "                            6   6           91330      0      49     6  \n",
       "                                11          91330      0       8     6  \n",
       "                            7   23          91330      0      50     7  \n",
       "                            8   23          91330      2      39     8  \n",
       "yerres/pierrebrossolette/92 7   5           91330      0      40     7  \n",
       "                                19          91330      0      59     7  \n",
       "                            8   19          91330      7      34     8  \n",
       "                            9   14         182660     14      69    18  \n",
       "yerres/raymondpoincare/200  2   15          91330      5      55     2  "
      ],
      "text/html": "<div>\n<style scoped>\n    .dataframe tbody tr th:only-of-type {\n        vertical-align: middle;\n    }\n\n    .dataframe tbody tr th {\n        vertical-align: top;\n    }\n\n    .dataframe thead th {\n        text-align: right;\n    }\n</style>\n<table border=\"1\" class=\"dataframe\">\n  <thead>\n    <tr style=\"text-align: right;\">\n      <th></th>\n      <th></th>\n      <th></th>\n      <th>bluecar_counter</th>\n      <th>utilib_counter</th>\n      <th>utilib_1.4_counter</th>\n      <th>charge_slots</th>\n      <th>postal_code</th>\n      <th>slots</th>\n      <th>minute</th>\n      <th>date</th>\n    </tr>\n    <tr>\n      <th>station_name</th>\n      <th>day</th>\n      <th>hour</th>\n      <th></th>\n      <th></th>\n      <th></th>\n      <th></th>\n      <th></th>\n      <th></th>\n      <th></th>\n      <th></th>\n    </tr>\n  </thead>\n  <tbody>\n    <tr>\n      <th>vincennes/fontenay/194</th>\n      <th>5</th>\n      <th>11</th>\n      <td>2</td>\n      <td>0</td>\n      <td>0</td>\n      <td>0</td>\n      <td>94300</td>\n      <td>3</td>\n      <td>17</td>\n      <td>5</td>\n    </tr>\n    <tr>\n      <th rowspan=\"4\" valign=\"top\">vincennes/fontenay/44</th>\n      <th>4</th>\n      <th>11</th>\n      <td>0</td>\n      <td>0</td>\n      <td>0</td>\n      <td>0</td>\n      <td>94300</td>\n      <td>4</td>\n      <td>28</td>\n      <td>4</td>\n    </tr>\n    <tr>\n      <th>5</th>\n      <th>12</th>\n      <td>1</td>\n      <td>0</td>\n      <td>0</td>\n      <td>0</td>\n      <td>94300</td>\n      <td>5</td>\n      <td>49</td>\n      <td>5</td>\n    </tr>\n    <tr>\n      <th>7</th>\n      <th>14</th>\n      <td>2</td>\n      <td>0</td>\n      <td>1</td>\n      <td>0</td>\n      <td>94300</td>\n      <td>0</td>\n      <td>50</td>\n      <td>7</td>\n    </tr>\n    <tr>\n      <th>9</th>\n      <th>7</th>\n      <td>2</td>\n      <td>0</td>\n      <td>1</td>\n      <td>0</td>\n      <td>94300</td>\n      <td>0</td>\n      <td>55</td>\n      <td>9</td>\n    </tr>\n    <tr>\n      <th rowspan=\"5\" valign=\"top\">vincennes/mursduparc/2</th>\n      <th rowspan=\"2\" valign=\"top\">2</th>\n      <th>7</th>\n      <td>6</td>\n      <td>0</td>\n      <td>0</td>\n      <td>0</td>\n      <td>94300</td>\n      <td>1</td>\n      <td>57</td>\n      <td>2</td>\n    </tr>\n    <tr>\n      <th>14</th>\n      <td>5</td>\n      <td>0</td>\n      <td>0</td>\n      <td>0</td>\n      <td>94300</td>\n      <td>2</td>\n      <td>48</td>\n      <td>2</td>\n    </tr>\n    <tr>\n      <th>8</th>\n      <th>13</th>\n      <td>5</td>\n      <td>0</td>\n      <td>0</td>\n      <td>0</td>\n      <td>94300</td>\n      <td>0</td>\n      <td>7</td>\n      <td>8</td>\n    </tr>\n    <tr>\n      <th rowspan=\"2\" valign=\"top\">9</th>\n      <th>0</th>\n      <td>6</td>\n      <td>0</td>\n      <td>0</td>\n      <td>0</td>\n      <td>94300</td>\n      <td>1</td>\n      <td>49</td>\n      <td>9</td>\n    </tr>\n    <tr>\n      <th>19</th>\n      <td>0</td>\n      <td>0</td>\n      <td>0</td>\n      <td>0</td>\n      <td>94300</td>\n      <td>6</td>\n      <td>1</td>\n      <td>9</td>\n    </tr>\n    <tr>\n      <th rowspan=\"5\" valign=\"top\">yerres/charlesdegaulle/99</th>\n      <th>2</th>\n      <th>20</th>\n      <td>0</td>\n      <td>0</td>\n      <td>0</td>\n      <td>1</td>\n      <td>91330</td>\n      <td>7</td>\n      <td>19</td>\n      <td>2</td>\n    </tr>\n    <tr>\n      <th rowspan=\"2\" valign=\"top\">6</th>\n      <th>6</th>\n      <td>7</td>\n      <td>0</td>\n      <td>0</td>\n      <td>0</td>\n      <td>91330</td>\n      <td>0</td>\n      <td>49</td>\n      <td>6</td>\n    </tr>\n    <tr>\n      <th>11</th>\n      <td>7</td>\n      <td>0</td>\n      <td>0</td>\n      <td>0</td>\n      <td>91330</td>\n      <td>0</td>\n      <td>8</td>\n      <td>6</td>\n    </tr>\n    <tr>\n      <th>7</th>\n      <th>23</th>\n      <td>6</td>\n      <td>0</td>\n      <td>0</td>\n      <td>0</td>\n      <td>91330</td>\n      <td>0</td>\n      <td>50</td>\n      <td>7</td>\n    </tr>\n    <tr>\n      <th>8</th>\n      <th>23</th>\n      <td>3</td>\n      <td>0</td>\n      <td>0</td>\n      <td>1</td>\n      <td>91330</td>\n      <td>2</td>\n      <td>39</td>\n      <td>8</td>\n    </tr>\n    <tr>\n      <th rowspan=\"4\" valign=\"top\">yerres/pierrebrossolette/92</th>\n      <th rowspan=\"2\" valign=\"top\">7</th>\n      <th>5</th>\n      <td>6</td>\n      <td>1</td>\n      <td>0</td>\n      <td>0</td>\n      <td>91330</td>\n      <td>0</td>\n      <td>40</td>\n      <td>7</td>\n    </tr>\n    <tr>\n      <th>19</th>\n      <td>5</td>\n      <td>1</td>\n      <td>0</td>\n      <td>0</td>\n      <td>91330</td>\n      <td>0</td>\n      <td>59</td>\n      <td>7</td>\n    </tr>\n    <tr>\n      <th>8</th>\n      <th>19</th>\n      <td>0</td>\n      <td>0</td>\n      <td>0</td>\n      <td>0</td>\n      <td>91330</td>\n      <td>7</td>\n      <td>34</td>\n      <td>8</td>\n    </tr>\n    <tr>\n      <th>9</th>\n      <th>14</th>\n      <td>0</td>\n      <td>0</td>\n      <td>0</td>\n      <td>0</td>\n      <td>182660</td>\n      <td>14</td>\n      <td>69</td>\n      <td>18</td>\n    </tr>\n    <tr>\n      <th>yerres/raymondpoincare/200</th>\n      <th>2</th>\n      <th>15</th>\n      <td>2</td>\n      <td>0</td>\n      <td>0</td>\n      <td>1</td>\n      <td>91330</td>\n      <td>5</td>\n      <td>55</td>\n      <td>2</td>\n    </tr>\n  </tbody>\n</table>\n</div>"
     },
     "metadata": {},
     "execution_count": 40
    }
   ]
  },
  {
   "cell_type": "code",
   "execution_count": 41,
   "metadata": {},
   "outputs": [
    {
     "output_type": "execute_result",
     "data": {
      "text/plain": [
       "                                         bluecar_counter  utilib_counter  \\\n",
       "station_name                   day hour                                    \n",
       "alfortville/charlesdegaulle/16 1   0                   2               0   \n",
       "                                   1                   4               0   \n",
       "                               3   4                   3               0   \n",
       "                                   22                  4               0   \n",
       "                               4   3                   6               0   \n",
       "...                                                  ...             ...   \n",
       "yerres/pierrebrossolette/92    7   5                   6               1   \n",
       "                                   19                  5               1   \n",
       "                               8   19                  0               0   \n",
       "                               9   14                  0               0   \n",
       "yerres/raymondpoincare/200     2   15                  2               0   \n",
       "\n",
       "                                         utilib_1.4_counter  charge_slots  \\\n",
       "station_name                   day hour                                     \n",
       "alfortville/charlesdegaulle/16 1   0                      0             0   \n",
       "                                   1                      0             0   \n",
       "                               3   4                      0             0   \n",
       "                                   22                     0             0   \n",
       "                               4   3                      0             0   \n",
       "...                                                     ...           ...   \n",
       "yerres/pierrebrossolette/92    7   5                      0             0   \n",
       "                                   19                     0             0   \n",
       "                               8   19                     0             0   \n",
       "                               9   14                     0             0   \n",
       "yerres/raymondpoincare/200     2   15                     0             1   \n",
       "\n",
       "                                         postal_code  slots  minute  date  \\\n",
       "station_name                   day hour                                     \n",
       "alfortville/charlesdegaulle/16 1   0           94140      0      36     1   \n",
       "                                   1           94140      0      36     1   \n",
       "                               3   4           94140      3       3     3   \n",
       "                                   22          94140      1      27     3   \n",
       "                               4   3           94140      0      30     4   \n",
       "...                                              ...    ...     ...   ...   \n",
       "yerres/pierrebrossolette/92    7   5           91330      0      40     7   \n",
       "                                   19          91330      0      59     7   \n",
       "                               8   19          91330      7      34     8   \n",
       "                               9   14         182660     14      69    18   \n",
       "yerres/raymondpoincare/200     2   15          91330      5      55     2   \n",
       "\n",
       "                                         rental_hour  \n",
       "station_name                   day hour               \n",
       "alfortville/charlesdegaulle/16 1   0             0.0  \n",
       "                                   1             2.0  \n",
       "                               3   4            -1.0  \n",
       "                                   22            1.0  \n",
       "                               4   3             2.0  \n",
       "...                                              ...  \n",
       "yerres/pierrebrossolette/92    7   5             0.0  \n",
       "                                   19           -1.0  \n",
       "                               8   19           -5.0  \n",
       "                               9   14            0.0  \n",
       "yerres/raymondpoincare/200     2   15            0.0  \n",
       "\n",
       "[4576 rows x 9 columns]"
      ],
      "text/html": "<div>\n<style scoped>\n    .dataframe tbody tr th:only-of-type {\n        vertical-align: middle;\n    }\n\n    .dataframe tbody tr th {\n        vertical-align: top;\n    }\n\n    .dataframe thead th {\n        text-align: right;\n    }\n</style>\n<table border=\"1\" class=\"dataframe\">\n  <thead>\n    <tr style=\"text-align: right;\">\n      <th></th>\n      <th></th>\n      <th></th>\n      <th>bluecar_counter</th>\n      <th>utilib_counter</th>\n      <th>utilib_1.4_counter</th>\n      <th>charge_slots</th>\n      <th>postal_code</th>\n      <th>slots</th>\n      <th>minute</th>\n      <th>date</th>\n      <th>rental_hour</th>\n    </tr>\n    <tr>\n      <th>station_name</th>\n      <th>day</th>\n      <th>hour</th>\n      <th></th>\n      <th></th>\n      <th></th>\n      <th></th>\n      <th></th>\n      <th></th>\n      <th></th>\n      <th></th>\n      <th></th>\n    </tr>\n  </thead>\n  <tbody>\n    <tr>\n      <th rowspan=\"5\" valign=\"top\">alfortville/charlesdegaulle/16</th>\n      <th rowspan=\"2\" valign=\"top\">1</th>\n      <th>0</th>\n      <td>2</td>\n      <td>0</td>\n      <td>0</td>\n      <td>0</td>\n      <td>94140</td>\n      <td>0</td>\n      <td>36</td>\n      <td>1</td>\n      <td>0.0</td>\n    </tr>\n    <tr>\n      <th>1</th>\n      <td>4</td>\n      <td>0</td>\n      <td>0</td>\n      <td>0</td>\n      <td>94140</td>\n      <td>0</td>\n      <td>36</td>\n      <td>1</td>\n      <td>2.0</td>\n    </tr>\n    <tr>\n      <th rowspan=\"2\" valign=\"top\">3</th>\n      <th>4</th>\n      <td>3</td>\n      <td>0</td>\n      <td>0</td>\n      <td>0</td>\n      <td>94140</td>\n      <td>3</td>\n      <td>3</td>\n      <td>3</td>\n      <td>-1.0</td>\n    </tr>\n    <tr>\n      <th>22</th>\n      <td>4</td>\n      <td>0</td>\n      <td>0</td>\n      <td>0</td>\n      <td>94140</td>\n      <td>1</td>\n      <td>27</td>\n      <td>3</td>\n      <td>1.0</td>\n    </tr>\n    <tr>\n      <th>4</th>\n      <th>3</th>\n      <td>6</td>\n      <td>0</td>\n      <td>0</td>\n      <td>0</td>\n      <td>94140</td>\n      <td>0</td>\n      <td>30</td>\n      <td>4</td>\n      <td>2.0</td>\n    </tr>\n    <tr>\n      <th>...</th>\n      <th>...</th>\n      <th>...</th>\n      <td>...</td>\n      <td>...</td>\n      <td>...</td>\n      <td>...</td>\n      <td>...</td>\n      <td>...</td>\n      <td>...</td>\n      <td>...</td>\n      <td>...</td>\n    </tr>\n    <tr>\n      <th rowspan=\"4\" valign=\"top\">yerres/pierrebrossolette/92</th>\n      <th rowspan=\"2\" valign=\"top\">7</th>\n      <th>5</th>\n      <td>6</td>\n      <td>1</td>\n      <td>0</td>\n      <td>0</td>\n      <td>91330</td>\n      <td>0</td>\n      <td>40</td>\n      <td>7</td>\n      <td>0.0</td>\n    </tr>\n    <tr>\n      <th>19</th>\n      <td>5</td>\n      <td>1</td>\n      <td>0</td>\n      <td>0</td>\n      <td>91330</td>\n      <td>0</td>\n      <td>59</td>\n      <td>7</td>\n      <td>-1.0</td>\n    </tr>\n    <tr>\n      <th>8</th>\n      <th>19</th>\n      <td>0</td>\n      <td>0</td>\n      <td>0</td>\n      <td>0</td>\n      <td>91330</td>\n      <td>7</td>\n      <td>34</td>\n      <td>8</td>\n      <td>-5.0</td>\n    </tr>\n    <tr>\n      <th>9</th>\n      <th>14</th>\n      <td>0</td>\n      <td>0</td>\n      <td>0</td>\n      <td>0</td>\n      <td>182660</td>\n      <td>14</td>\n      <td>69</td>\n      <td>18</td>\n      <td>0.0</td>\n    </tr>\n    <tr>\n      <th>yerres/raymondpoincare/200</th>\n      <th>2</th>\n      <th>15</th>\n      <td>2</td>\n      <td>0</td>\n      <td>0</td>\n      <td>1</td>\n      <td>91330</td>\n      <td>5</td>\n      <td>55</td>\n      <td>2</td>\n      <td>0.0</td>\n    </tr>\n  </tbody>\n</table>\n<p>4576 rows × 9 columns</p>\n</div>"
     },
     "metadata": {},
     "execution_count": 41
    }
   ],
   "source": [
    "#  +ve values mean returned -ve means picked\n",
    "\n",
    "stationoverall['rental_hour'] = stationoverall.groupby('station_name')['bluecar_counter'].diff().fillna(0)\n",
    "stationoverall"
   ]
  },
  {
   "cell_type": "code",
   "execution_count": 45,
   "metadata": {},
   "outputs": [
    {
     "output_type": "execute_result",
     "data": {
      "text/plain": [
       "station_name\n",
       "bagneux/leonblum/13   -8.0\n",
       "Name: rental_hour, dtype: float64"
      ]
     },
     "metadata": {},
     "execution_count": 45
    }
   ],
   "source": [
    "# to get frequent station.\n",
    "# Overall\n",
    "#group by station name  then sum of the absolute value\n",
    "stationoverall.groupby(['station_name'])['rental_hour'].sum().sort_values(ascending=True).head(0)"
   ]
  },
  {
   "cell_type": "code",
   "execution_count": null,
   "metadata": {},
   "outputs": [],
   "source": [
    "stationoverall.head()"
   ]
  },
  {
   "cell_type": "code",
   "execution_count": 46,
   "metadata": {},
   "outputs": [
    {
     "output_type": "execute_result",
     "data": {
      "text/plain": [
       "                                           bluecar_counter  utilib_counter  \\\n",
       "station_name                     day hour                                    \n",
       "alfortville/charlesdegaulle/16   3   4                   3               0   \n",
       "alfortville/jeanbaptistepreux/17 2   23                  2               1   \n",
       "                                 4   20                  1               0   \n",
       "alfortville/josephfranceschi/1   3   20                  3               0   \n",
       "                                 4   11                  0               0   \n",
       "...                                                    ...             ...   \n",
       "vincennes/mursduparc/2           9   19                  0               0   \n",
       "yerres/charlesdegaulle/99        7   23                  6               0   \n",
       "                                 8   23                  3               0   \n",
       "yerres/pierrebrossolette/92      7   19                  5               1   \n",
       "                                 8   19                  0               0   \n",
       "\n",
       "                                           utilib_1.4_counter  charge_slots  \\\n",
       "station_name                     day hour                                     \n",
       "alfortville/charlesdegaulle/16   3   4                      0             0   \n",
       "alfortville/jeanbaptistepreux/17 2   23                     0             0   \n",
       "                                 4   20                     0             0   \n",
       "alfortville/josephfranceschi/1   3   20                     0             0   \n",
       "                                 4   11                     0             0   \n",
       "...                                                       ...           ...   \n",
       "vincennes/mursduparc/2           9   19                     0             0   \n",
       "yerres/charlesdegaulle/99        7   23                     0             0   \n",
       "                                 8   23                     0             1   \n",
       "yerres/pierrebrossolette/92      7   19                     0             0   \n",
       "                                 8   19                     0             0   \n",
       "\n",
       "                                           postal_code  slots  minute  date  \\\n",
       "station_name                     day hour                                     \n",
       "alfortville/charlesdegaulle/16   3   4           94140      3       3     3   \n",
       "alfortville/jeanbaptistepreux/17 2   23          94140      3      47     2   \n",
       "                                 4   20          94140      4      19     4   \n",
       "alfortville/josephfranceschi/1   3   20          94140      2      54     3   \n",
       "                                 4   11          94140      5      48     4   \n",
       "...                                                ...    ...     ...   ...   \n",
       "vincennes/mursduparc/2           9   19          94300      6       1     9   \n",
       "yerres/charlesdegaulle/99        7   23          91330      0      50     7   \n",
       "                                 8   23          91330      2      39     8   \n",
       "yerres/pierrebrossolette/92      7   19          91330      0      59     7   \n",
       "                                 8   19          91330      7      34     8   \n",
       "\n",
       "                                           rental_hour  \n",
       "station_name                     day hour               \n",
       "alfortville/charlesdegaulle/16   3   4            -1.0  \n",
       "alfortville/jeanbaptistepreux/17 2   23           -4.0  \n",
       "                                 4   20           -1.0  \n",
       "alfortville/josephfranceschi/1   3   20           -2.0  \n",
       "                                 4   11           -3.0  \n",
       "...                                                ...  \n",
       "vincennes/mursduparc/2           9   19           -6.0  \n",
       "yerres/charlesdegaulle/99        7   23           -1.0  \n",
       "                                 8   23           -3.0  \n",
       "yerres/pierrebrossolette/92      7   19           -1.0  \n",
       "                                 8   19           -5.0  \n",
       "\n",
       "[1369 rows x 9 columns]"
      ],
      "text/html": "<div>\n<style scoped>\n    .dataframe tbody tr th:only-of-type {\n        vertical-align: middle;\n    }\n\n    .dataframe tbody tr th {\n        vertical-align: top;\n    }\n\n    .dataframe thead th {\n        text-align: right;\n    }\n</style>\n<table border=\"1\" class=\"dataframe\">\n  <thead>\n    <tr style=\"text-align: right;\">\n      <th></th>\n      <th></th>\n      <th></th>\n      <th>bluecar_counter</th>\n      <th>utilib_counter</th>\n      <th>utilib_1.4_counter</th>\n      <th>charge_slots</th>\n      <th>postal_code</th>\n      <th>slots</th>\n      <th>minute</th>\n      <th>date</th>\n      <th>rental_hour</th>\n    </tr>\n    <tr>\n      <th>station_name</th>\n      <th>day</th>\n      <th>hour</th>\n      <th></th>\n      <th></th>\n      <th></th>\n      <th></th>\n      <th></th>\n      <th></th>\n      <th></th>\n      <th></th>\n      <th></th>\n    </tr>\n  </thead>\n  <tbody>\n    <tr>\n      <th>alfortville/charlesdegaulle/16</th>\n      <th>3</th>\n      <th>4</th>\n      <td>3</td>\n      <td>0</td>\n      <td>0</td>\n      <td>0</td>\n      <td>94140</td>\n      <td>3</td>\n      <td>3</td>\n      <td>3</td>\n      <td>-1.0</td>\n    </tr>\n    <tr>\n      <th rowspan=\"2\" valign=\"top\">alfortville/jeanbaptistepreux/17</th>\n      <th>2</th>\n      <th>23</th>\n      <td>2</td>\n      <td>1</td>\n      <td>0</td>\n      <td>0</td>\n      <td>94140</td>\n      <td>3</td>\n      <td>47</td>\n      <td>2</td>\n      <td>-4.0</td>\n    </tr>\n    <tr>\n      <th>4</th>\n      <th>20</th>\n      <td>1</td>\n      <td>0</td>\n      <td>0</td>\n      <td>0</td>\n      <td>94140</td>\n      <td>4</td>\n      <td>19</td>\n      <td>4</td>\n      <td>-1.0</td>\n    </tr>\n    <tr>\n      <th rowspan=\"2\" valign=\"top\">alfortville/josephfranceschi/1</th>\n      <th>3</th>\n      <th>20</th>\n      <td>3</td>\n      <td>0</td>\n      <td>0</td>\n      <td>0</td>\n      <td>94140</td>\n      <td>2</td>\n      <td>54</td>\n      <td>3</td>\n      <td>-2.0</td>\n    </tr>\n    <tr>\n      <th>4</th>\n      <th>11</th>\n      <td>0</td>\n      <td>0</td>\n      <td>0</td>\n      <td>0</td>\n      <td>94140</td>\n      <td>5</td>\n      <td>48</td>\n      <td>4</td>\n      <td>-3.0</td>\n    </tr>\n    <tr>\n      <th>...</th>\n      <th>...</th>\n      <th>...</th>\n      <td>...</td>\n      <td>...</td>\n      <td>...</td>\n      <td>...</td>\n      <td>...</td>\n      <td>...</td>\n      <td>...</td>\n      <td>...</td>\n      <td>...</td>\n    </tr>\n    <tr>\n      <th>vincennes/mursduparc/2</th>\n      <th>9</th>\n      <th>19</th>\n      <td>0</td>\n      <td>0</td>\n      <td>0</td>\n      <td>0</td>\n      <td>94300</td>\n      <td>6</td>\n      <td>1</td>\n      <td>9</td>\n      <td>-6.0</td>\n    </tr>\n    <tr>\n      <th rowspan=\"2\" valign=\"top\">yerres/charlesdegaulle/99</th>\n      <th>7</th>\n      <th>23</th>\n      <td>6</td>\n      <td>0</td>\n      <td>0</td>\n      <td>0</td>\n      <td>91330</td>\n      <td>0</td>\n      <td>50</td>\n      <td>7</td>\n      <td>-1.0</td>\n    </tr>\n    <tr>\n      <th>8</th>\n      <th>23</th>\n      <td>3</td>\n      <td>0</td>\n      <td>0</td>\n      <td>1</td>\n      <td>91330</td>\n      <td>2</td>\n      <td>39</td>\n      <td>8</td>\n      <td>-3.0</td>\n    </tr>\n    <tr>\n      <th rowspan=\"2\" valign=\"top\">yerres/pierrebrossolette/92</th>\n      <th>7</th>\n      <th>19</th>\n      <td>5</td>\n      <td>1</td>\n      <td>0</td>\n      <td>0</td>\n      <td>91330</td>\n      <td>0</td>\n      <td>59</td>\n      <td>7</td>\n      <td>-1.0</td>\n    </tr>\n    <tr>\n      <th>8</th>\n      <th>19</th>\n      <td>0</td>\n      <td>0</td>\n      <td>0</td>\n      <td>0</td>\n      <td>91330</td>\n      <td>7</td>\n      <td>34</td>\n      <td>8</td>\n      <td>-5.0</td>\n    </tr>\n  </tbody>\n</table>\n<p>1369 rows × 9 columns</p>\n</div>"
     },
     "metadata": {},
     "execution_count": 46
    }
   ],
   "source": [
    "# dataframe for the most picked station at picking hours\n",
    "#  separate negative to get picked\n",
    "stationpicked = stationoverall[stationoverall['rental_hour'] < 0]\n",
    "stationpicked"
   ]
  },
  {
   "cell_type": "code",
   "execution_count": 47,
   "metadata": {},
   "outputs": [
    {
     "output_type": "stream",
     "name": "stdout",
     "text": [
      "<class 'pandas.core.frame.DataFrame'>\nMultiIndex: 1369 entries, ('alfortville/charlesdegaulle/16', 3, 4) to ('yerres/pierrebrossolette/92', 8, 19)\nData columns (total 9 columns):\n #   Column              Non-Null Count  Dtype  \n---  ------              --------------  -----  \n 0   bluecar_counter     1369 non-null   int64  \n 1   utilib_counter      1369 non-null   int64  \n 2   utilib_1.4_counter  1369 non-null   int64  \n 3   charge_slots        1369 non-null   int64  \n 4   postal_code         1369 non-null   int64  \n 5   slots               1369 non-null   int64  \n 6   minute              1369 non-null   int64  \n 7   date                1369 non-null   int64  \n 8   rental_hour         1369 non-null   float64\ndtypes: float64(1), int64(8)\nmemory usage: 110.0+ KB\n"
     ]
    }
   ],
   "source": [
    "stationpicked.info()"
   ]
  },
  {
   "cell_type": "code",
   "execution_count": 48,
   "metadata": {},
   "outputs": [
    {
     "output_type": "execute_result",
     "data": {
      "text/plain": [
       "                                           bluecar_counter  utilib_counter  \\\n",
       "station_name                     day hour                                    \n",
       "alfortville/charlesdegaulle/16   3   4                   3               0   \n",
       "alfortville/jeanbaptistepreux/17 2   23                  2               1   \n",
       "                                 4   20                  1               0   \n",
       "alfortville/josephfranceschi/1   3   20                  3               0   \n",
       "                                 4   11                  0               0   \n",
       "\n",
       "                                           utilib_1.4_counter  charge_slots  \\\n",
       "station_name                     day hour                                     \n",
       "alfortville/charlesdegaulle/16   3   4                      0             0   \n",
       "alfortville/jeanbaptistepreux/17 2   23                     0             0   \n",
       "                                 4   20                     0             0   \n",
       "alfortville/josephfranceschi/1   3   20                     0             0   \n",
       "                                 4   11                     0             0   \n",
       "\n",
       "                                           postal_code  slots  minute  date  \\\n",
       "station_name                     day hour                                     \n",
       "alfortville/charlesdegaulle/16   3   4           94140      3       3     3   \n",
       "alfortville/jeanbaptistepreux/17 2   23          94140      3      47     2   \n",
       "                                 4   20          94140      4      19     4   \n",
       "alfortville/josephfranceschi/1   3   20          94140      2      54     3   \n",
       "                                 4   11          94140      5      48     4   \n",
       "\n",
       "                                           rental_hour  \n",
       "station_name                     day hour               \n",
       "alfortville/charlesdegaulle/16   3   4            -1.0  \n",
       "alfortville/jeanbaptistepreux/17 2   23           -4.0  \n",
       "                                 4   20           -1.0  \n",
       "alfortville/josephfranceschi/1   3   20           -2.0  \n",
       "                                 4   11           -3.0  "
      ],
      "text/html": "<div>\n<style scoped>\n    .dataframe tbody tr th:only-of-type {\n        vertical-align: middle;\n    }\n\n    .dataframe tbody tr th {\n        vertical-align: top;\n    }\n\n    .dataframe thead th {\n        text-align: right;\n    }\n</style>\n<table border=\"1\" class=\"dataframe\">\n  <thead>\n    <tr style=\"text-align: right;\">\n      <th></th>\n      <th></th>\n      <th></th>\n      <th>bluecar_counter</th>\n      <th>utilib_counter</th>\n      <th>utilib_1.4_counter</th>\n      <th>charge_slots</th>\n      <th>postal_code</th>\n      <th>slots</th>\n      <th>minute</th>\n      <th>date</th>\n      <th>rental_hour</th>\n    </tr>\n    <tr>\n      <th>station_name</th>\n      <th>day</th>\n      <th>hour</th>\n      <th></th>\n      <th></th>\n      <th></th>\n      <th></th>\n      <th></th>\n      <th></th>\n      <th></th>\n      <th></th>\n      <th></th>\n    </tr>\n  </thead>\n  <tbody>\n    <tr>\n      <th>alfortville/charlesdegaulle/16</th>\n      <th>3</th>\n      <th>4</th>\n      <td>3</td>\n      <td>0</td>\n      <td>0</td>\n      <td>0</td>\n      <td>94140</td>\n      <td>3</td>\n      <td>3</td>\n      <td>3</td>\n      <td>-1.0</td>\n    </tr>\n    <tr>\n      <th rowspan=\"2\" valign=\"top\">alfortville/jeanbaptistepreux/17</th>\n      <th>2</th>\n      <th>23</th>\n      <td>2</td>\n      <td>1</td>\n      <td>0</td>\n      <td>0</td>\n      <td>94140</td>\n      <td>3</td>\n      <td>47</td>\n      <td>2</td>\n      <td>-4.0</td>\n    </tr>\n    <tr>\n      <th>4</th>\n      <th>20</th>\n      <td>1</td>\n      <td>0</td>\n      <td>0</td>\n      <td>0</td>\n      <td>94140</td>\n      <td>4</td>\n      <td>19</td>\n      <td>4</td>\n      <td>-1.0</td>\n    </tr>\n    <tr>\n      <th rowspan=\"2\" valign=\"top\">alfortville/josephfranceschi/1</th>\n      <th>3</th>\n      <th>20</th>\n      <td>3</td>\n      <td>0</td>\n      <td>0</td>\n      <td>0</td>\n      <td>94140</td>\n      <td>2</td>\n      <td>54</td>\n      <td>3</td>\n      <td>-2.0</td>\n    </tr>\n    <tr>\n      <th>4</th>\n      <th>11</th>\n      <td>0</td>\n      <td>0</td>\n      <td>0</td>\n      <td>0</td>\n      <td>94140</td>\n      <td>5</td>\n      <td>48</td>\n      <td>4</td>\n      <td>-3.0</td>\n    </tr>\n  </tbody>\n</table>\n</div>"
     },
     "metadata": {},
     "execution_count": 48
    }
   ],
   "source": [
    "popularhour = stationpicked.groupby(['station_name','day','hour']).sum()\n",
    "popularhour.head()"
   ]
  },
  {
   "cell_type": "code",
   "execution_count": 49,
   "metadata": {},
   "outputs": [
    {
     "output_type": "execute_result",
     "data": {
      "text/plain": [
       "station_name\n",
       "paris/portedemontrouge/8   -19.0\n",
       "Name: rental_hour, dtype: float64"
      ]
     },
     "metadata": {},
     "execution_count": 49
    }
   ],
   "source": [
    "# Station at the most popular picked hour\n",
    "\n",
    "popularhour.groupby(['station_name'])['rental_hour'].sum().sort_values().head(1)"
   ]
  },
  {
   "source": [
    "# Question 4\n",
    "* What postal code is the most popular for picking up Blue cars? Does the most popular station belong to that postal code?\n",
    "* Overall?\n"
   ],
   "cell_type": "markdown",
   "metadata": {}
  },
  {
   "cell_type": "code",
   "execution_count": 50,
   "metadata": {},
   "outputs": [
    {
     "output_type": "execute_result",
     "data": {
      "text/plain": [
       "postal_code\n",
       "75015   -176.0\n",
       "Name: rental_hour, dtype: float64"
      ]
     },
     "metadata": {},
     "execution_count": 50
    }
   ],
   "source": [
    "#Postal code that is most popular\n",
    "\n",
    "popularhour.groupby(['postal_code'])['rental_hour'].sum().sort_values().head(1)\n",
    "\n"
   ]
  },
  {
   "cell_type": "code",
   "execution_count": 56,
   "metadata": {},
   "outputs": [
    {
     "output_type": "execute_result",
     "data": {
      "text/plain": [
       "      bluecar_counter  utilib_counter  utilib_1.4_counter  charge_slots  \\\n",
       "116                 3               0                   1             1   \n",
       "184                 1               1                   0             1   \n",
       "335                 0               0                   1             2   \n",
       "933                 5               1                   0             0   \n",
       "1182                4               0                   1             0   \n",
       "\n",
       "     charging_status   city              station_name     kind  postal_code  \\\n",
       "116      operational  Paris  paris/portedemontrouge/8  STATION        75014   \n",
       "184      operational  Paris  paris/portedemontrouge/8  STATION        75014   \n",
       "335      operational  Paris  paris/portedemontrouge/8  STATION        75014   \n",
       "933      operational  Paris  paris/portedemontrouge/8  STATION        75014   \n",
       "1182     operational  Paris  paris/portedemontrouge/8  STATION        75014   \n",
       "\n",
       "     rental_status  slots station_type status subscription_status  day  hour  \\\n",
       "116    operational      2      station     ok         nonexistent    8    19   \n",
       "184    operational      4      station     ok         nonexistent    8    16   \n",
       "335    operational      5      station     ok         nonexistent    2    22   \n",
       "933    operational      0      station     ok         nonexistent    6     2   \n",
       "1182   operational      0      station     ok         nonexistent    7    10   \n",
       "\n",
       "      minute  date  \n",
       "116       57     8  \n",
       "184        5     8  \n",
       "335       12     2  \n",
       "933       46     6  \n",
       "1182      37     7  "
      ],
      "text/html": "<div>\n<style scoped>\n    .dataframe tbody tr th:only-of-type {\n        vertical-align: middle;\n    }\n\n    .dataframe tbody tr th {\n        vertical-align: top;\n    }\n\n    .dataframe thead th {\n        text-align: right;\n    }\n</style>\n<table border=\"1\" class=\"dataframe\">\n  <thead>\n    <tr style=\"text-align: right;\">\n      <th></th>\n      <th>bluecar_counter</th>\n      <th>utilib_counter</th>\n      <th>utilib_1.4_counter</th>\n      <th>charge_slots</th>\n      <th>charging_status</th>\n      <th>city</th>\n      <th>station_name</th>\n      <th>kind</th>\n      <th>postal_code</th>\n      <th>rental_status</th>\n      <th>slots</th>\n      <th>station_type</th>\n      <th>status</th>\n      <th>subscription_status</th>\n      <th>day</th>\n      <th>hour</th>\n      <th>minute</th>\n      <th>date</th>\n    </tr>\n  </thead>\n  <tbody>\n    <tr>\n      <th>116</th>\n      <td>3</td>\n      <td>0</td>\n      <td>1</td>\n      <td>1</td>\n      <td>operational</td>\n      <td>Paris</td>\n      <td>paris/portedemontrouge/8</td>\n      <td>STATION</td>\n      <td>75014</td>\n      <td>operational</td>\n      <td>2</td>\n      <td>station</td>\n      <td>ok</td>\n      <td>nonexistent</td>\n      <td>8</td>\n      <td>19</td>\n      <td>57</td>\n      <td>8</td>\n    </tr>\n    <tr>\n      <th>184</th>\n      <td>1</td>\n      <td>1</td>\n      <td>0</td>\n      <td>1</td>\n      <td>operational</td>\n      <td>Paris</td>\n      <td>paris/portedemontrouge/8</td>\n      <td>STATION</td>\n      <td>75014</td>\n      <td>operational</td>\n      <td>4</td>\n      <td>station</td>\n      <td>ok</td>\n      <td>nonexistent</td>\n      <td>8</td>\n      <td>16</td>\n      <td>5</td>\n      <td>8</td>\n    </tr>\n    <tr>\n      <th>335</th>\n      <td>0</td>\n      <td>0</td>\n      <td>1</td>\n      <td>2</td>\n      <td>operational</td>\n      <td>Paris</td>\n      <td>paris/portedemontrouge/8</td>\n      <td>STATION</td>\n      <td>75014</td>\n      <td>operational</td>\n      <td>5</td>\n      <td>station</td>\n      <td>ok</td>\n      <td>nonexistent</td>\n      <td>2</td>\n      <td>22</td>\n      <td>12</td>\n      <td>2</td>\n    </tr>\n    <tr>\n      <th>933</th>\n      <td>5</td>\n      <td>1</td>\n      <td>0</td>\n      <td>0</td>\n      <td>operational</td>\n      <td>Paris</td>\n      <td>paris/portedemontrouge/8</td>\n      <td>STATION</td>\n      <td>75014</td>\n      <td>operational</td>\n      <td>0</td>\n      <td>station</td>\n      <td>ok</td>\n      <td>nonexistent</td>\n      <td>6</td>\n      <td>2</td>\n      <td>46</td>\n      <td>6</td>\n    </tr>\n    <tr>\n      <th>1182</th>\n      <td>4</td>\n      <td>0</td>\n      <td>1</td>\n      <td>0</td>\n      <td>operational</td>\n      <td>Paris</td>\n      <td>paris/portedemontrouge/8</td>\n      <td>STATION</td>\n      <td>75014</td>\n      <td>operational</td>\n      <td>0</td>\n      <td>station</td>\n      <td>ok</td>\n      <td>nonexistent</td>\n      <td>7</td>\n      <td>10</td>\n      <td>37</td>\n      <td>7</td>\n    </tr>\n  </tbody>\n</table>\n</div>"
     },
     "metadata": {},
     "execution_count": 56
    }
   ],
   "source": [
    "# Does it match with the most popular station at picking hour\n",
    "\n",
    "cars.loc[cars['station_name']== 'paris/portedemontrouge/8'].head()"
   ]
  },
  {
   "cell_type": "code",
   "execution_count": 59,
   "metadata": {},
   "outputs": [
    {
     "output_type": "execute_result",
     "data": {
      "text/plain": [
       "postal_code\n",
       "93100   -24.0\n",
       "Name: rental_hour, dtype: float64"
      ]
     },
     "metadata": {},
     "execution_count": 59
    }
   ],
   "source": [
    "# Overall postal code\n",
    "# overalldf\n",
    "\n",
    "stationoverall.groupby(['postal_code'])['rental_hour'].sum().sort_values().head(1)\n",
    "\n"
   ]
  },
  {
   "cell_type": "code",
   "execution_count": 60,
   "metadata": {},
   "outputs": [
    {
     "output_type": "execute_result",
     "data": {
      "text/plain": [
       "      bluecar_counter  utilib_counter  utilib_1.4_counter  charge_slots  \\\n",
       "12                  0               0                   0             0   \n",
       "18                  4               0                   2             0   \n",
       "24                  0               0                   0             2   \n",
       "28                  0               0                   0             2   \n",
       "39                  2               0                   0             0   \n",
       "...               ...             ...                 ...           ...   \n",
       "4528                4               0                   0             0   \n",
       "4529                2               0                   0             0   \n",
       "4537                1               0                   0             0   \n",
       "4538                4               0                   0             0   \n",
       "4608                0               0                   0             0   \n",
       "\n",
       "     charging_status                 city                 station_name  \\\n",
       "12       nonexistent                Paris          paris/jeanmoulin/34   \n",
       "18       operational                Paris            paris/renecoty/11   \n",
       "24       operational                Paris           paris/voltaire/182   \n",
       "28       operational                Paris   paris/pontlouisphilippe/24   \n",
       "39       operational                Paris              paris/mozart/68   \n",
       "...              ...                  ...                          ...   \n",
       "4528     nonexistent  AsniÃ¨res-sur-Seine       asnieressurseine/bas/6   \n",
       "4529     nonexistent                Paris          paris/saintmaur/157   \n",
       "4537     nonexistent      Rueil-Malmaison  rueilmalmaison/albert1er/98   \n",
       "4538     operational                Paris            paris/charonne/52   \n",
       "4608     operational                Paris             paris/hopital/47   \n",
       "\n",
       "         kind  postal_code rental_status  slots  station_type status  \\\n",
       "12    STATION        75014   operational      0       station     ok   \n",
       "18    STATION        75014   operational      0       station     ok   \n",
       "24    STATION        75011   operational      5       station     ok   \n",
       "28    STATION        75004   operational      5       station     ok   \n",
       "39    STATION        75016   operational      1       station     ok   \n",
       "...       ...          ...           ...    ...           ...    ...   \n",
       "4528    SPACE        92600   operational      1  full_station     ok   \n",
       "4529  STATION        75011   operational      1       station     ok   \n",
       "4537  STATION        92500   operational      5       station     ok   \n",
       "4538  STATION        75020   operational      0       station     ok   \n",
       "4608  STATION        75013   operational      4       station     ok   \n",
       "\n",
       "     subscription_status  day  hour  minute  date  \n",
       "12           nonexistent    8    21      54     8  \n",
       "18           nonexistent    9    21      31     9  \n",
       "24           nonexistent    5    21       6     5  \n",
       "28           nonexistent    9    21       7     9  \n",
       "39           nonexistent    1    21      17     1  \n",
       "...                  ...  ...   ...     ...   ...  \n",
       "4528         operational    9    21      45     9  \n",
       "4529         nonexistent    9    21      24     9  \n",
       "4537         nonexistent    9    21      20     9  \n",
       "4538         nonexistent    4    21      15     4  \n",
       "4608         nonexistent    3    21      13     3  \n",
       "\n",
       "[209 rows x 18 columns]"
      ],
      "text/html": "<div>\n<style scoped>\n    .dataframe tbody tr th:only-of-type {\n        vertical-align: middle;\n    }\n\n    .dataframe tbody tr th {\n        vertical-align: top;\n    }\n\n    .dataframe thead th {\n        text-align: right;\n    }\n</style>\n<table border=\"1\" class=\"dataframe\">\n  <thead>\n    <tr style=\"text-align: right;\">\n      <th></th>\n      <th>bluecar_counter</th>\n      <th>utilib_counter</th>\n      <th>utilib_1.4_counter</th>\n      <th>charge_slots</th>\n      <th>charging_status</th>\n      <th>city</th>\n      <th>station_name</th>\n      <th>kind</th>\n      <th>postal_code</th>\n      <th>rental_status</th>\n      <th>slots</th>\n      <th>station_type</th>\n      <th>status</th>\n      <th>subscription_status</th>\n      <th>day</th>\n      <th>hour</th>\n      <th>minute</th>\n      <th>date</th>\n    </tr>\n  </thead>\n  <tbody>\n    <tr>\n      <th>12</th>\n      <td>0</td>\n      <td>0</td>\n      <td>0</td>\n      <td>0</td>\n      <td>nonexistent</td>\n      <td>Paris</td>\n      <td>paris/jeanmoulin/34</td>\n      <td>STATION</td>\n      <td>75014</td>\n      <td>operational</td>\n      <td>0</td>\n      <td>station</td>\n      <td>ok</td>\n      <td>nonexistent</td>\n      <td>8</td>\n      <td>21</td>\n      <td>54</td>\n      <td>8</td>\n    </tr>\n    <tr>\n      <th>18</th>\n      <td>4</td>\n      <td>0</td>\n      <td>2</td>\n      <td>0</td>\n      <td>operational</td>\n      <td>Paris</td>\n      <td>paris/renecoty/11</td>\n      <td>STATION</td>\n      <td>75014</td>\n      <td>operational</td>\n      <td>0</td>\n      <td>station</td>\n      <td>ok</td>\n      <td>nonexistent</td>\n      <td>9</td>\n      <td>21</td>\n      <td>31</td>\n      <td>9</td>\n    </tr>\n    <tr>\n      <th>24</th>\n      <td>0</td>\n      <td>0</td>\n      <td>0</td>\n      <td>2</td>\n      <td>operational</td>\n      <td>Paris</td>\n      <td>paris/voltaire/182</td>\n      <td>STATION</td>\n      <td>75011</td>\n      <td>operational</td>\n      <td>5</td>\n      <td>station</td>\n      <td>ok</td>\n      <td>nonexistent</td>\n      <td>5</td>\n      <td>21</td>\n      <td>6</td>\n      <td>5</td>\n    </tr>\n    <tr>\n      <th>28</th>\n      <td>0</td>\n      <td>0</td>\n      <td>0</td>\n      <td>2</td>\n      <td>operational</td>\n      <td>Paris</td>\n      <td>paris/pontlouisphilippe/24</td>\n      <td>STATION</td>\n      <td>75004</td>\n      <td>operational</td>\n      <td>5</td>\n      <td>station</td>\n      <td>ok</td>\n      <td>nonexistent</td>\n      <td>9</td>\n      <td>21</td>\n      <td>7</td>\n      <td>9</td>\n    </tr>\n    <tr>\n      <th>39</th>\n      <td>2</td>\n      <td>0</td>\n      <td>0</td>\n      <td>0</td>\n      <td>operational</td>\n      <td>Paris</td>\n      <td>paris/mozart/68</td>\n      <td>STATION</td>\n      <td>75016</td>\n      <td>operational</td>\n      <td>1</td>\n      <td>station</td>\n      <td>ok</td>\n      <td>nonexistent</td>\n      <td>1</td>\n      <td>21</td>\n      <td>17</td>\n      <td>1</td>\n    </tr>\n    <tr>\n      <th>...</th>\n      <td>...</td>\n      <td>...</td>\n      <td>...</td>\n      <td>...</td>\n      <td>...</td>\n      <td>...</td>\n      <td>...</td>\n      <td>...</td>\n      <td>...</td>\n      <td>...</td>\n      <td>...</td>\n      <td>...</td>\n      <td>...</td>\n      <td>...</td>\n      <td>...</td>\n      <td>...</td>\n      <td>...</td>\n      <td>...</td>\n    </tr>\n    <tr>\n      <th>4528</th>\n      <td>4</td>\n      <td>0</td>\n      <td>0</td>\n      <td>0</td>\n      <td>nonexistent</td>\n      <td>AsniÃ¨res-sur-Seine</td>\n      <td>asnieressurseine/bas/6</td>\n      <td>SPACE</td>\n      <td>92600</td>\n      <td>operational</td>\n      <td>1</td>\n      <td>full_station</td>\n      <td>ok</td>\n      <td>operational</td>\n      <td>9</td>\n      <td>21</td>\n      <td>45</td>\n      <td>9</td>\n    </tr>\n    <tr>\n      <th>4529</th>\n      <td>2</td>\n      <td>0</td>\n      <td>0</td>\n      <td>0</td>\n      <td>nonexistent</td>\n      <td>Paris</td>\n      <td>paris/saintmaur/157</td>\n      <td>STATION</td>\n      <td>75011</td>\n      <td>operational</td>\n      <td>1</td>\n      <td>station</td>\n      <td>ok</td>\n      <td>nonexistent</td>\n      <td>9</td>\n      <td>21</td>\n      <td>24</td>\n      <td>9</td>\n    </tr>\n    <tr>\n      <th>4537</th>\n      <td>1</td>\n      <td>0</td>\n      <td>0</td>\n      <td>0</td>\n      <td>nonexistent</td>\n      <td>Rueil-Malmaison</td>\n      <td>rueilmalmaison/albert1er/98</td>\n      <td>STATION</td>\n      <td>92500</td>\n      <td>operational</td>\n      <td>5</td>\n      <td>station</td>\n      <td>ok</td>\n      <td>nonexistent</td>\n      <td>9</td>\n      <td>21</td>\n      <td>20</td>\n      <td>9</td>\n    </tr>\n    <tr>\n      <th>4538</th>\n      <td>4</td>\n      <td>0</td>\n      <td>0</td>\n      <td>0</td>\n      <td>operational</td>\n      <td>Paris</td>\n      <td>paris/charonne/52</td>\n      <td>STATION</td>\n      <td>75020</td>\n      <td>operational</td>\n      <td>0</td>\n      <td>station</td>\n      <td>ok</td>\n      <td>nonexistent</td>\n      <td>4</td>\n      <td>21</td>\n      <td>15</td>\n      <td>4</td>\n    </tr>\n    <tr>\n      <th>4608</th>\n      <td>0</td>\n      <td>0</td>\n      <td>0</td>\n      <td>0</td>\n      <td>operational</td>\n      <td>Paris</td>\n      <td>paris/hopital/47</td>\n      <td>STATION</td>\n      <td>75013</td>\n      <td>operational</td>\n      <td>4</td>\n      <td>station</td>\n      <td>ok</td>\n      <td>nonexistent</td>\n      <td>3</td>\n      <td>21</td>\n      <td>13</td>\n      <td>3</td>\n    </tr>\n  </tbody>\n</table>\n<p>209 rows × 18 columns</p>\n</div>"
     },
     "metadata": {},
     "execution_count": 60
    }
   ],
   "source": [
    "# Does it match with the most popular station overall\n",
    "\n",
    "cars.loc[cars['hour']== 21]"
   ]
  },
  {
   "cell_type": "code",
   "execution_count": null,
   "metadata": {},
   "outputs": [],
   "source": []
  }
 ]
}